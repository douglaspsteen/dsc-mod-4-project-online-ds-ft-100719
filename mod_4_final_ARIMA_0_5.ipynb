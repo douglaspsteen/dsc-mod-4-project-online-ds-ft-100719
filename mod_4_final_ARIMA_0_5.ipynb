{
 "cells": [
  {
   "cell_type": "markdown",
   "metadata": {},
   "source": [
    "# Mod 4 Project: Zillow Housing Data Time Series Modeling & Forecasting\n",
    "\n",
    "Student: Doug Steen\n",
    "\n",
    "Instructor: James Irving, PhD\n",
    "\n",
    "Cohort: ds_ft_10072019\n",
    "\n",
    "Project Review Date: ______________"
   ]
  },
  {
   "cell_type": "markdown",
   "metadata": {},
   "source": [
    "## Background & Purpose"
   ]
  },
  {
   "cell_type": "markdown",
   "metadata": {},
   "source": [
    "A fictional real estate investment company has requested assistance with the following question:\n",
    "\n",
    "- What are the five best zip codes to invest in?\n",
    "\n",
    "For this study, I am using a Zillow Housing Dataset, obtained from Zillow's research page (https://www.zillow.com/research/data/). The raw dataset is located in this repository ('zillow_data.csv'). This dataset contains monthly average home values for nearly every zip code in the U.S., with most zip codes having data from 1996 - 2018.\n",
    "\n",
    "### Target Region: Tarrant County, TX\n",
    "\n",
    "The scope of this analysis is limited to the zip codes in Tarrant County, Texas which have available measurements for the full data range (1996 - 2018). Tarrant County encompasses the western portion of the Dallas-Fort Worth (DFW) Metroplex, and most notably contains the cities of Fort Worth and Arlington.\n",
    "    \n",
    "### Method\n",
    "\n",
    "Modeling and forecasting of home values using ARIMA (Auto-regressive Integrated Moving Average) time series analysis techniques.\n",
    "\n",
    "### Selection Criteria:\n",
    "\n",
    "The five 'best' zip codes for investment in Tarrant County will be selected based on the following criteria:\n",
    "    \n",
    "-3 year forecasted return on investment (ROI)\n",
    "    \n",
    "-Confidence interval of the ROI forecast\n",
    "    \n",
    "-Quality of model prediction using a train-test split of Zillow data\n",
    "\n"
   ]
  },
  {
   "cell_type": "markdown",
   "metadata": {},
   "source": [
    "## Import Libraries / Packages"
   ]
  },
  {
   "cell_type": "code",
   "execution_count": 1,
   "metadata": {
    "ExecuteTime": {
     "end_time": "2020-01-13T20:09:12.824284Z",
     "start_time": "2020-01-13T20:09:11.452947Z"
    }
   },
   "outputs": [
    {
     "name": "stdout",
     "output_type": "stream",
     "text": [
      "fsds_1007219  v0.6.4 loaded.  Read the docs: https://fsds.readthedocs.io/en/latest/ \n"
     ]
    },
    {
     "data": {
      "text/html": [
       "<style  type=\"text/css\" >\n",
       "</style><table id=\"T_90db5f9c_3640_11ea_9489_24ee9a2cffaf\" ><caption>Loaded Packages and Handles</caption><thead>    <tr>        <th class=\"col_heading level0 col0\" >Handle</th>        <th class=\"col_heading level0 col1\" >Package</th>        <th class=\"col_heading level0 col2\" >Description</th>    </tr></thead><tbody>\n",
       "                <tr>\n",
       "                                <td id=\"T_90db5f9c_3640_11ea_9489_24ee9a2cffafrow0_col0\" class=\"data row0 col0\" >dp</td>\n",
       "                        <td id=\"T_90db5f9c_3640_11ea_9489_24ee9a2cffafrow0_col1\" class=\"data row0 col1\" >IPython.display</td>\n",
       "                        <td id=\"T_90db5f9c_3640_11ea_9489_24ee9a2cffafrow0_col2\" class=\"data row0 col2\" >Display modules with helpful display and clearing commands.</td>\n",
       "            </tr>\n",
       "            <tr>\n",
       "                                <td id=\"T_90db5f9c_3640_11ea_9489_24ee9a2cffafrow1_col0\" class=\"data row1 col0\" >fs</td>\n",
       "                        <td id=\"T_90db5f9c_3640_11ea_9489_24ee9a2cffafrow1_col1\" class=\"data row1 col1\" >fsds_100719</td>\n",
       "                        <td id=\"T_90db5f9c_3640_11ea_9489_24ee9a2cffafrow1_col2\" class=\"data row1 col2\" >Custom data science bootcamp student package</td>\n",
       "            </tr>\n",
       "            <tr>\n",
       "                                <td id=\"T_90db5f9c_3640_11ea_9489_24ee9a2cffafrow2_col0\" class=\"data row2 col0\" >mpl</td>\n",
       "                        <td id=\"T_90db5f9c_3640_11ea_9489_24ee9a2cffafrow2_col1\" class=\"data row2 col1\" >matplotlib</td>\n",
       "                        <td id=\"T_90db5f9c_3640_11ea_9489_24ee9a2cffafrow2_col2\" class=\"data row2 col2\" >Matplotlib's base OOP module with formatting artists</td>\n",
       "            </tr>\n",
       "            <tr>\n",
       "                                <td id=\"T_90db5f9c_3640_11ea_9489_24ee9a2cffafrow3_col0\" class=\"data row3 col0\" >plt</td>\n",
       "                        <td id=\"T_90db5f9c_3640_11ea_9489_24ee9a2cffafrow3_col1\" class=\"data row3 col1\" >matplotlib.pyplot</td>\n",
       "                        <td id=\"T_90db5f9c_3640_11ea_9489_24ee9a2cffafrow3_col2\" class=\"data row3 col2\" >Matplotlib's matlab-like plotting module</td>\n",
       "            </tr>\n",
       "            <tr>\n",
       "                                <td id=\"T_90db5f9c_3640_11ea_9489_24ee9a2cffafrow4_col0\" class=\"data row4 col0\" >np</td>\n",
       "                        <td id=\"T_90db5f9c_3640_11ea_9489_24ee9a2cffafrow4_col1\" class=\"data row4 col1\" >numpy</td>\n",
       "                        <td id=\"T_90db5f9c_3640_11ea_9489_24ee9a2cffafrow4_col2\" class=\"data row4 col2\" >scientific computing with Python</td>\n",
       "            </tr>\n",
       "            <tr>\n",
       "                                <td id=\"T_90db5f9c_3640_11ea_9489_24ee9a2cffafrow5_col0\" class=\"data row5 col0\" >pd</td>\n",
       "                        <td id=\"T_90db5f9c_3640_11ea_9489_24ee9a2cffafrow5_col1\" class=\"data row5 col1\" >pandas</td>\n",
       "                        <td id=\"T_90db5f9c_3640_11ea_9489_24ee9a2cffafrow5_col2\" class=\"data row5 col2\" >High performance data structures and tools</td>\n",
       "            </tr>\n",
       "            <tr>\n",
       "                                <td id=\"T_90db5f9c_3640_11ea_9489_24ee9a2cffafrow6_col0\" class=\"data row6 col0\" >sns</td>\n",
       "                        <td id=\"T_90db5f9c_3640_11ea_9489_24ee9a2cffafrow6_col1\" class=\"data row6 col1\" >seaborn</td>\n",
       "                        <td id=\"T_90db5f9c_3640_11ea_9489_24ee9a2cffafrow6_col2\" class=\"data row6 col2\" >High-level data visualization library based on matplotlib</td>\n",
       "            </tr>\n",
       "    </tbody></table>"
      ],
      "text/plain": [
       "<pandas.io.formats.style.Styler at 0x1f03b00db00>"
      ]
     },
     "metadata": {},
     "output_type": "display_data"
    }
   ],
   "source": [
    "# Import cohort package\n",
    "#!pip install -U fsds_100719\n",
    "from fsds_100719.imports import *\n",
    "import itertools\n",
    "import statsmodels.api as sm\n",
    "from tqdm import tqdm_notebook\n",
    "\n",
    "# Display all columns of large dataframes\n",
    "pd.set_option('display.max_columns',0)\n",
    "\n",
    "# Ignore warnings\n",
    "import warnings\n",
    "warnings.filterwarnings('ignore')\n",
    "\n",
    "# Set default plot style\n",
    "plt.style.use('seaborn-darkgrid')\n",
    "%matplotlib inline"
   ]
  },
  {
   "cell_type": "markdown",
   "metadata": {},
   "source": [
    "## Functions"
   ]
  },
  {
   "cell_type": "code",
   "execution_count": 2,
   "metadata": {
    "ExecuteTime": {
     "end_time": "2020-01-13T20:09:12.878404Z",
     "start_time": "2020-01-13T20:09:12.825501Z"
    }
   },
   "outputs": [],
   "source": [
    "def melt_data(df): #formerly called it melt_data_student with REED\n",
    "   \n",
    "    melted = pd.melt(df, id_vars=['RegionID','RegionName', 'City', 'State', 'Metro', 'CountyName', \n",
    "                                  'SizeRank'], var_name='Month', value_name='MeanValue')\n",
    "    melted['Month'] = pd.to_datetime(melted['Month'], format='%Y-%m')\n",
    "    melted = melted.dropna(subset=['MeanValue'])\n",
    "    \n",
    "    return melted\n",
    "\n",
    "\n",
    "def arima_grid_search(df, zip_code, pdq_range = range(0,4), seasonal=False, train_test=True, \n",
    "                      train_end='2015-04', show_iters=False):\n",
    "\n",
    "    # Define the p, d and q parameters to take any value within the specified range\n",
    "    p = d = q = pdq_range\n",
    "    \n",
    "    # Generate all different combinations of p, q and q triplets\n",
    "    pdq = list(itertools.product(p,d,q))\n",
    "    \n",
    "    # Get only time series object for specified zip code\n",
    "    df_zip = df.loc[df['RegionName'] == zip_code]\n",
    "\n",
    "    ts_zip = df_zip.drop(['RegionID', 'RegionName', 'City', 'State', 'Metro', 'CountyName', 'SizeRank'], axis=1)\n",
    "\n",
    "    ts_zip.set_index('Month', inplace=True)\n",
    "    \n",
    "    # If arima model is being fit as part of a train-test split, define correct training interval\n",
    "    if train_test:\n",
    "            ts_zip = ts_zip[:train_end]\n",
    "    \n",
    "    results = []\n",
    "    \n",
    "    if seasonal == False:\n",
    "        for i in tqdm_notebook(pdq, desc=f'{zip_code} Grid Search Progress'):\n",
    "            model = sm.tsa.SARIMAX(ts_zip, order=i,enforce_stationarity=False,\n",
    "                                         enforce_invertibility=False)\n",
    "            out = model.fit()\n",
    "            aic = out.aic\n",
    "            results.append([i, aic])\n",
    "            if show_iters == True:\n",
    "                print([i, aic])\n",
    "        results_df = pd.DataFrame(results, columns=['pdq', 'aic'])\n",
    "        min_result = results_df.loc[results_df['aic'].idxmin()]\n",
    "        return zip_code, min_result\n",
    "    else:\n",
    "        pdqs = [(x[0], x[1], x[2], 12) for x in pdq]\n",
    "        for i in tqdm_notebook(pdq, desc=f'{zip_code} Grid Search Loop Progress'):\n",
    "            for j in tqdm_notebook(pdqs, desc=f'{zip_code} Grid Search Sub-Loop Progress'):\n",
    "                model = sm.tsa.SARIMAX(ts_zip, order=i, seasonal_order=j, enforce_stationarity=False,\n",
    "                                         enforce_invertibility=False)\n",
    "                out = model.fit()\n",
    "                aic = out.aic\n",
    "                results.append([i, j, aic])\n",
    "                if show_iters == True:\n",
    "                    print([i, j, aic])\n",
    "        results_df = pd.DataFrame(results, columns=['pdq', 'pdqs', 'aic'])\n",
    "        min_result = results_df.loc[results_df['aic'].idxmin()]\n",
    "        return zip_code, min_result\n",
    "    \n",
    "\n",
    "def predict_arima(df, zip_code, train_end, test_begin, test_end, pdq, plot=False):\n",
    "    \"\"\"Fits an ARIMA model to training data and makes a prediction on testing data for a given zip code. Returns MAPE\n",
    "    and R^2 of model test predictions.\n",
    "    \n",
    "    Parameters\n",
    "    ----------\n",
    "    df : pandas dataframe\n",
    "        Dataframe containing desired time series data for all zip codes\n",
    "    zip code : int\n",
    "        Desired zip code for model fit and prediction\n",
    "    train_end : str\n",
    "        Date to signify end of training (model fit) portion (Assumed that training data is at beginning of ts)\n",
    "    test_begin : str\n",
    "        Date to signify beginning of test portion (Model predictions will begin with this date to end of time series)\n",
    "    test_end : str\n",
    "        Date to signify end of test portion (Model predictions will end with this date in time series)\n",
    "    pdq : tuple\n",
    "        Tuple of the form (p, d, q) to serve as ARIMA model parameters\n",
    "    plot : bool\n",
    "        If True, returns plot of time series and model prediction with 95% conf interval\n",
    "        (Default = False)\n",
    "    \n",
    "    Returns\n",
    "    -------\n",
    "    \n",
    "    \"\"\"\n",
    "    import statsmodels.api as sm\n",
    "    from sklearn.metrics import r2_score\n",
    "    \n",
    "    # Get only time series object for specified zip code\n",
    "    df_zip = df.loc[df['RegionName'] == zip_code]\n",
    "\n",
    "    ts_zip = df_zip.drop(['RegionID', 'RegionName', 'City', 'State', 'Metro', 'CountyName', 'SizeRank'], axis=1)\n",
    "\n",
    "    ts_zip.set_index('Month', inplace=True)\n",
    "    \n",
    "    # Define train and test subsets of time series\n",
    "    ts_zip_train = ts_zip.loc[:train_end]\n",
    "    ts_zip_test = ts_zip.loc[test_begin:]\n",
    "    \n",
    "    mod = sm.tsa.SARIMAX(ts_zip_train, order=pdq, enforce_stationarity=False,\n",
    "                                 enforce_invertibility=False)\n",
    "\n",
    "    output = mod.fit()\n",
    "    \n",
    "    # Get predictions for test portion of data\n",
    "    pred_test = output.get_prediction(start=test_begin, end=test_end)\n",
    "    pred_conf = pred_test.conf_int()\n",
    "    \n",
    "    # Model prediction performance on test data\n",
    "    y_hat_test = pred_test.predicted_mean.values\n",
    "\n",
    "    y_test = ts_zip_test.values.ravel()\n",
    "    \n",
    "    # Creating train-test prediction plot with conf interval if plot is selected\n",
    "    if plot == True:\n",
    "        \n",
    "        plt.rcParams[\"figure.figsize\"] = [8,5]\n",
    "        ax = ts_zip.plot(color='black')\n",
    "        pred_test.predicted_mean.plot(ax=ax, label='Test Prediction', alpha=.9, color='red')\n",
    "        ax.fill_between(pred_conf.index,\n",
    "                pred_conf.iloc[:, 0],\n",
    "                pred_conf.iloc[:, 1], color='red', alpha=.1, label='95% Conf. Int.')\n",
    "        ax.set_xlabel('Date')\n",
    "        ax.set_ylabel('Mean Home Value ($)')\n",
    "        plt.legend(loc=2)\n",
    "        plt.title(f'Model Prediction for {zip_code}: {test_begin} - {test_end}')\n",
    "        plt.show();\n",
    "        \n",
    "    # MAPE : Mean Absolute Percentage Error\n",
    "    mape = round(np.sum(abs((np.subtract(y_test, y_hat_test) / y_test))) / len(y_test), 3)\n",
    "\n",
    "    # R^2 Score\n",
    "    r2 = round(r2_score(y_test, y_hat_test), 3)\n",
    "\n",
    "    model_val_summary = pd.DataFrame(columns = ['Zip Code', 'MAPE (%)', 'R^2'])\n",
    "\n",
    "    model_val_summary = model_val_summary.append({'Zip Code': str(zip_code), 'pdq': pdq, \n",
    "                                                  'MAPE (%)': mape*100, 'R^2': r2}, ignore_index=True)\n",
    "\n",
    "    return model_val_summary\n",
    "\n",
    "def forecast_arima(df, zip_code, forecast_begin, forecast_end, pdq, plot=False):\n",
    "    \n",
    "    import statsmodels.api as sm\n",
    "    \n",
    "     # Get only time series object for specified zip code\n",
    "    df_zip = df.loc[df['RegionName'] == zip_code]\n",
    "\n",
    "    ts_zip = df_zip.drop(['RegionID', 'RegionName', 'City', 'State', 'Metro', 'CountyName', 'SizeRank'], axis=1)\n",
    "\n",
    "    ts_zip.set_index('Month', inplace=True)\n",
    "    \n",
    "    ts_zip.index = pd.DatetimeIndex(ts_zip.index.values,\n",
    "                               freq='MS')\n",
    "    \n",
    "    # Generate forecast arima model object\n",
    "    fc_model = sm.tsa.SARIMAX(ts_zip, order=pdq, enforce_stationarity=False,\n",
    "                                 enforce_invertibility=False)\n",
    "    \n",
    "    # Fit model\n",
    "    fc_output = fc_model.fit()\n",
    "    \n",
    "    # Obtain model forecast for desired time period, and confidence interval\n",
    "    forecast = fc_output.get_prediction(start=forecast_begin, end=forecast_end)\n",
    "    fc_conf = forecast.conf_int()\n",
    "    \n",
    "    # Creating forecast plot with conf interval if plot is selected\n",
    "    if plot == True:\n",
    "        \n",
    "        plt.rcParams[\"figure.figsize\"] = [8,5]\n",
    "        ax = ts_zip.plot(color='black')\n",
    "        forecast.predicted_mean.plot(ax=ax, label='Forecast Prediction', alpha=.9, color='green')\n",
    "        ax.fill_between(fc_conf.index,\n",
    "                fc_conf.iloc[:, 0],\n",
    "                fc_conf.iloc[:, 1], color='green', alpha=.1, label='95% Conf. Int.')\n",
    "        ax.set_xlabel('Date')\n",
    "        ax.set_ylabel('Mean Home Value ($)')\n",
    "        plt.legend(loc=2)\n",
    "        plt.title(f'Model Forecast for {zip_code}: {forecast_begin} - {forecast_end}')\n",
    "        plt.show();\n",
    "    \n",
    "    # Calculate 3 year ROI for the forecast\n",
    "    # Initial value\n",
    "    init_val = ts_zip.values[-1]\n",
    "\n",
    "    # Final forecasted value after 3 year forecast\n",
    "    f_val = forecast.predicted_mean[-1]\n",
    "\n",
    "    ROI = np.round(((f_val - init_val) / init_val)[0], 3)\n",
    "\n",
    "    # Calculate lower & upper 95% confidence ROI values\n",
    "\n",
    "    # lower bound\n",
    "    l_f_val = fc_conf['lower MeanValue'][-1]\n",
    "\n",
    "    low_ROI = np.round(((l_f_val - init_val) / init_val)[0], 3)\n",
    "\n",
    "    # upper bound\n",
    "    u_f_val = fc_conf['upper MeanValue'][-1]\n",
    "\n",
    "    high_ROI = np.round(((u_f_val - init_val) / init_val)[0], 3)\n",
    "\n",
    "    # Size of 95% CL\n",
    "\n",
    "    size_cl = np.round(high_ROI - low_ROI, 3)\n",
    "\n",
    "    ROI_summary = pd.DataFrame(columns = ['Zip Code', 'Forecast ROI (%)', 'L 95 ROI (%)', 'H 95 ROI (%)', '95 CL Size (%)'])\n",
    "\n",
    "    ROI_summary = ROI_summary.append({'Zip Code': str(zip_code), 'Forecast ROI (%)': ROI*100, 'L 95 ROI (%)': low_ROI*100, \n",
    "                                      'H 95 ROI (%)': high_ROI*100, '95 CL Size (%)': size_cl*100}, ignore_index=True)\n",
    "\n",
    "    return ROI_summary"
   ]
  },
  {
   "cell_type": "code",
   "execution_count": null,
   "metadata": {},
   "outputs": [],
   "source": []
  },
  {
   "cell_type": "markdown",
   "metadata": {},
   "source": [
    "## Obtain / Scrub\n",
    "-Load Zillow dataset\n",
    "\n",
    "-Reshape data from Wide Format to Long Format\n",
    "\n",
    "-Subset dataframe for zip codes in Tarrant County, TX containing data in the full range (1996-2018)"
   ]
  },
  {
   "cell_type": "code",
   "execution_count": 3,
   "metadata": {
    "ExecuteTime": {
     "end_time": "2020-01-13T20:09:13.240771Z",
     "start_time": "2020-01-13T20:09:12.880342Z"
    }
   },
   "outputs": [],
   "source": [
    "# Load Zillow data\n",
    "df = pd.read_csv('zillow_data.csv')"
   ]
  },
  {
   "cell_type": "code",
   "execution_count": 4,
   "metadata": {
    "ExecuteTime": {
     "end_time": "2020-01-13T20:09:13.339585Z",
     "start_time": "2020-01-13T20:09:13.241769Z"
    }
   },
   "outputs": [
    {
     "data": {
      "text/html": [
       "<div>\n",
       "<style scoped>\n",
       "    .dataframe tbody tr th:only-of-type {\n",
       "        vertical-align: middle;\n",
       "    }\n",
       "\n",
       "    .dataframe tbody tr th {\n",
       "        vertical-align: top;\n",
       "    }\n",
       "\n",
       "    .dataframe thead th {\n",
       "        text-align: right;\n",
       "    }\n",
       "</style>\n",
       "<table border=\"1\" class=\"dataframe\">\n",
       "  <thead>\n",
       "    <tr style=\"text-align: right;\">\n",
       "      <th></th>\n",
       "      <th>RegionID</th>\n",
       "      <th>RegionName</th>\n",
       "      <th>City</th>\n",
       "      <th>State</th>\n",
       "      <th>Metro</th>\n",
       "      <th>CountyName</th>\n",
       "      <th>SizeRank</th>\n",
       "      <th>1996-04</th>\n",
       "      <th>1996-05</th>\n",
       "      <th>1996-06</th>\n",
       "      <th>1996-07</th>\n",
       "      <th>1996-08</th>\n",
       "      <th>1996-09</th>\n",
       "      <th>1996-10</th>\n",
       "      <th>1996-11</th>\n",
       "      <th>1996-12</th>\n",
       "      <th>1997-01</th>\n",
       "      <th>1997-02</th>\n",
       "      <th>1997-03</th>\n",
       "      <th>1997-04</th>\n",
       "      <th>1997-05</th>\n",
       "      <th>1997-06</th>\n",
       "      <th>1997-07</th>\n",
       "      <th>1997-08</th>\n",
       "      <th>1997-09</th>\n",
       "      <th>1997-10</th>\n",
       "      <th>1997-11</th>\n",
       "      <th>1997-12</th>\n",
       "      <th>1998-01</th>\n",
       "      <th>1998-02</th>\n",
       "      <th>1998-03</th>\n",
       "      <th>1998-04</th>\n",
       "      <th>1998-05</th>\n",
       "      <th>1998-06</th>\n",
       "      <th>1998-07</th>\n",
       "      <th>1998-08</th>\n",
       "      <th>1998-09</th>\n",
       "      <th>1998-10</th>\n",
       "      <th>1998-11</th>\n",
       "      <th>1998-12</th>\n",
       "      <th>...</th>\n",
       "      <th>2015-01</th>\n",
       "      <th>2015-02</th>\n",
       "      <th>2015-03</th>\n",
       "      <th>2015-04</th>\n",
       "      <th>2015-05</th>\n",
       "      <th>2015-06</th>\n",
       "      <th>2015-07</th>\n",
       "      <th>2015-08</th>\n",
       "      <th>2015-09</th>\n",
       "      <th>2015-10</th>\n",
       "      <th>2015-11</th>\n",
       "      <th>2015-12</th>\n",
       "      <th>2016-01</th>\n",
       "      <th>2016-02</th>\n",
       "      <th>2016-03</th>\n",
       "      <th>2016-04</th>\n",
       "      <th>2016-05</th>\n",
       "      <th>2016-06</th>\n",
       "      <th>2016-07</th>\n",
       "      <th>2016-08</th>\n",
       "      <th>2016-09</th>\n",
       "      <th>2016-10</th>\n",
       "      <th>2016-11</th>\n",
       "      <th>2016-12</th>\n",
       "      <th>2017-01</th>\n",
       "      <th>2017-02</th>\n",
       "      <th>2017-03</th>\n",
       "      <th>2017-04</th>\n",
       "      <th>2017-05</th>\n",
       "      <th>2017-06</th>\n",
       "      <th>2017-07</th>\n",
       "      <th>2017-08</th>\n",
       "      <th>2017-09</th>\n",
       "      <th>2017-10</th>\n",
       "      <th>2017-11</th>\n",
       "      <th>2017-12</th>\n",
       "      <th>2018-01</th>\n",
       "      <th>2018-02</th>\n",
       "      <th>2018-03</th>\n",
       "      <th>2018-04</th>\n",
       "    </tr>\n",
       "  </thead>\n",
       "  <tbody>\n",
       "    <tr>\n",
       "      <td>153</td>\n",
       "      <td>91221</td>\n",
       "      <td>76063</td>\n",
       "      <td>Mansfield</td>\n",
       "      <td>TX</td>\n",
       "      <td>Dallas-Fort Worth</td>\n",
       "      <td>Tarrant</td>\n",
       "      <td>154</td>\n",
       "      <td>148100.0</td>\n",
       "      <td>148000.0</td>\n",
       "      <td>147800.0</td>\n",
       "      <td>147700.0</td>\n",
       "      <td>147500.0</td>\n",
       "      <td>147400.0</td>\n",
       "      <td>147300.0</td>\n",
       "      <td>147200.0</td>\n",
       "      <td>147200.0</td>\n",
       "      <td>147100.0</td>\n",
       "      <td>147100.0</td>\n",
       "      <td>147200.0</td>\n",
       "      <td>147500.0</td>\n",
       "      <td>147800.0</td>\n",
       "      <td>148400.0</td>\n",
       "      <td>149000.0</td>\n",
       "      <td>149700.0</td>\n",
       "      <td>150500.0</td>\n",
       "      <td>151300.0</td>\n",
       "      <td>152100.0</td>\n",
       "      <td>152800.0</td>\n",
       "      <td>153400.0</td>\n",
       "      <td>153800.0</td>\n",
       "      <td>154100.0</td>\n",
       "      <td>154500.0</td>\n",
       "      <td>154800.0</td>\n",
       "      <td>155100.0</td>\n",
       "      <td>155300.0</td>\n",
       "      <td>155600.0</td>\n",
       "      <td>155900.0</td>\n",
       "      <td>156200.0</td>\n",
       "      <td>156800.0</td>\n",
       "      <td>157600.0</td>\n",
       "      <td>...</td>\n",
       "      <td>198300</td>\n",
       "      <td>199300</td>\n",
       "      <td>200300</td>\n",
       "      <td>201800</td>\n",
       "      <td>203900</td>\n",
       "      <td>206100</td>\n",
       "      <td>208100</td>\n",
       "      <td>209900</td>\n",
       "      <td>211800</td>\n",
       "      <td>214400</td>\n",
       "      <td>217200</td>\n",
       "      <td>219900</td>\n",
       "      <td>223100</td>\n",
       "      <td>226200</td>\n",
       "      <td>228500</td>\n",
       "      <td>229800</td>\n",
       "      <td>231000</td>\n",
       "      <td>232600</td>\n",
       "      <td>234500</td>\n",
       "      <td>237100</td>\n",
       "      <td>239800</td>\n",
       "      <td>242000</td>\n",
       "      <td>243900</td>\n",
       "      <td>245700</td>\n",
       "      <td>247200</td>\n",
       "      <td>248400</td>\n",
       "      <td>249600</td>\n",
       "      <td>251000</td>\n",
       "      <td>252700</td>\n",
       "      <td>254900</td>\n",
       "      <td>257200</td>\n",
       "      <td>258700</td>\n",
       "      <td>259000</td>\n",
       "      <td>259600</td>\n",
       "      <td>260200</td>\n",
       "      <td>261100</td>\n",
       "      <td>262200</td>\n",
       "      <td>264100</td>\n",
       "      <td>266500</td>\n",
       "      <td>267800</td>\n",
       "    </tr>\n",
       "    <tr>\n",
       "      <td>170</td>\n",
       "      <td>91325</td>\n",
       "      <td>76244</td>\n",
       "      <td>Fort Worth</td>\n",
       "      <td>TX</td>\n",
       "      <td>Dallas-Fort Worth</td>\n",
       "      <td>Tarrant</td>\n",
       "      <td>171</td>\n",
       "      <td>139800.0</td>\n",
       "      <td>140100.0</td>\n",
       "      <td>140700.0</td>\n",
       "      <td>141500.0</td>\n",
       "      <td>142300.0</td>\n",
       "      <td>143100.0</td>\n",
       "      <td>143800.0</td>\n",
       "      <td>144600.0</td>\n",
       "      <td>145200.0</td>\n",
       "      <td>145700.0</td>\n",
       "      <td>146400.0</td>\n",
       "      <td>147500.0</td>\n",
       "      <td>148800.0</td>\n",
       "      <td>150300.0</td>\n",
       "      <td>152000.0</td>\n",
       "      <td>153800.0</td>\n",
       "      <td>155600.0</td>\n",
       "      <td>157600.0</td>\n",
       "      <td>159700.0</td>\n",
       "      <td>162100.0</td>\n",
       "      <td>164800.0</td>\n",
       "      <td>167500.0</td>\n",
       "      <td>170200.0</td>\n",
       "      <td>172500.0</td>\n",
       "      <td>174200.0</td>\n",
       "      <td>175000.0</td>\n",
       "      <td>175000.0</td>\n",
       "      <td>174600.0</td>\n",
       "      <td>174200.0</td>\n",
       "      <td>174300.0</td>\n",
       "      <td>175300.0</td>\n",
       "      <td>177300.0</td>\n",
       "      <td>180100.0</td>\n",
       "      <td>...</td>\n",
       "      <td>191800</td>\n",
       "      <td>193000</td>\n",
       "      <td>193900</td>\n",
       "      <td>194600</td>\n",
       "      <td>196200</td>\n",
       "      <td>198600</td>\n",
       "      <td>200800</td>\n",
       "      <td>203000</td>\n",
       "      <td>205500</td>\n",
       "      <td>207700</td>\n",
       "      <td>209200</td>\n",
       "      <td>210700</td>\n",
       "      <td>212600</td>\n",
       "      <td>214700</td>\n",
       "      <td>216700</td>\n",
       "      <td>218900</td>\n",
       "      <td>220900</td>\n",
       "      <td>222500</td>\n",
       "      <td>224400</td>\n",
       "      <td>226500</td>\n",
       "      <td>228500</td>\n",
       "      <td>230100</td>\n",
       "      <td>231600</td>\n",
       "      <td>233100</td>\n",
       "      <td>234900</td>\n",
       "      <td>236700</td>\n",
       "      <td>238400</td>\n",
       "      <td>240100</td>\n",
       "      <td>241700</td>\n",
       "      <td>243600</td>\n",
       "      <td>245600</td>\n",
       "      <td>246700</td>\n",
       "      <td>246700</td>\n",
       "      <td>247500</td>\n",
       "      <td>248500</td>\n",
       "      <td>249700</td>\n",
       "      <td>250300</td>\n",
       "      <td>251000</td>\n",
       "      <td>251400</td>\n",
       "      <td>251300</td>\n",
       "    </tr>\n",
       "    <tr>\n",
       "      <td>335</td>\n",
       "      <td>91261</td>\n",
       "      <td>76116</td>\n",
       "      <td>Fort Worth</td>\n",
       "      <td>TX</td>\n",
       "      <td>Dallas-Fort Worth</td>\n",
       "      <td>Tarrant</td>\n",
       "      <td>336</td>\n",
       "      <td>85800.0</td>\n",
       "      <td>86100.0</td>\n",
       "      <td>86500.0</td>\n",
       "      <td>87000.0</td>\n",
       "      <td>87500.0</td>\n",
       "      <td>88000.0</td>\n",
       "      <td>88400.0</td>\n",
       "      <td>88800.0</td>\n",
       "      <td>89000.0</td>\n",
       "      <td>89100.0</td>\n",
       "      <td>89100.0</td>\n",
       "      <td>89000.0</td>\n",
       "      <td>88800.0</td>\n",
       "      <td>88600.0</td>\n",
       "      <td>88300.0</td>\n",
       "      <td>88000.0</td>\n",
       "      <td>87900.0</td>\n",
       "      <td>87800.0</td>\n",
       "      <td>87700.0</td>\n",
       "      <td>87800.0</td>\n",
       "      <td>87900.0</td>\n",
       "      <td>88000.0</td>\n",
       "      <td>88200.0</td>\n",
       "      <td>88400.0</td>\n",
       "      <td>88600.0</td>\n",
       "      <td>88900.0</td>\n",
       "      <td>89200.0</td>\n",
       "      <td>89500.0</td>\n",
       "      <td>89700.0</td>\n",
       "      <td>90000.0</td>\n",
       "      <td>90400.0</td>\n",
       "      <td>90900.0</td>\n",
       "      <td>91400.0</td>\n",
       "      <td>...</td>\n",
       "      <td>134400</td>\n",
       "      <td>135500</td>\n",
       "      <td>136200</td>\n",
       "      <td>135800</td>\n",
       "      <td>135700</td>\n",
       "      <td>136400</td>\n",
       "      <td>137300</td>\n",
       "      <td>138200</td>\n",
       "      <td>139700</td>\n",
       "      <td>141500</td>\n",
       "      <td>143200</td>\n",
       "      <td>144700</td>\n",
       "      <td>146100</td>\n",
       "      <td>147400</td>\n",
       "      <td>148600</td>\n",
       "      <td>150200</td>\n",
       "      <td>152700</td>\n",
       "      <td>155400</td>\n",
       "      <td>156500</td>\n",
       "      <td>156900</td>\n",
       "      <td>157400</td>\n",
       "      <td>157700</td>\n",
       "      <td>157600</td>\n",
       "      <td>158400</td>\n",
       "      <td>160100</td>\n",
       "      <td>161900</td>\n",
       "      <td>163900</td>\n",
       "      <td>166400</td>\n",
       "      <td>168500</td>\n",
       "      <td>170300</td>\n",
       "      <td>172400</td>\n",
       "      <td>174500</td>\n",
       "      <td>176000</td>\n",
       "      <td>178000</td>\n",
       "      <td>180000</td>\n",
       "      <td>181900</td>\n",
       "      <td>183300</td>\n",
       "      <td>185000</td>\n",
       "      <td>186600</td>\n",
       "      <td>187800</td>\n",
       "    </tr>\n",
       "    <tr>\n",
       "      <td>550</td>\n",
       "      <td>91291</td>\n",
       "      <td>76179</td>\n",
       "      <td>Fort Worth</td>\n",
       "      <td>TX</td>\n",
       "      <td>Dallas-Fort Worth</td>\n",
       "      <td>Tarrant</td>\n",
       "      <td>551</td>\n",
       "      <td>107100.0</td>\n",
       "      <td>107600.0</td>\n",
       "      <td>108100.0</td>\n",
       "      <td>108800.0</td>\n",
       "      <td>109500.0</td>\n",
       "      <td>110400.0</td>\n",
       "      <td>111300.0</td>\n",
       "      <td>112400.0</td>\n",
       "      <td>113300.0</td>\n",
       "      <td>114200.0</td>\n",
       "      <td>115100.0</td>\n",
       "      <td>115900.0</td>\n",
       "      <td>116600.0</td>\n",
       "      <td>117200.0</td>\n",
       "      <td>117700.0</td>\n",
       "      <td>118100.0</td>\n",
       "      <td>118400.0</td>\n",
       "      <td>118600.0</td>\n",
       "      <td>118800.0</td>\n",
       "      <td>118900.0</td>\n",
       "      <td>118900.0</td>\n",
       "      <td>118900.0</td>\n",
       "      <td>118900.0</td>\n",
       "      <td>119000.0</td>\n",
       "      <td>119200.0</td>\n",
       "      <td>119400.0</td>\n",
       "      <td>119700.0</td>\n",
       "      <td>120100.0</td>\n",
       "      <td>120500.0</td>\n",
       "      <td>120900.0</td>\n",
       "      <td>121300.0</td>\n",
       "      <td>121600.0</td>\n",
       "      <td>121800.0</td>\n",
       "      <td>...</td>\n",
       "      <td>150000</td>\n",
       "      <td>150700</td>\n",
       "      <td>151300</td>\n",
       "      <td>151800</td>\n",
       "      <td>152900</td>\n",
       "      <td>154300</td>\n",
       "      <td>155300</td>\n",
       "      <td>156500</td>\n",
       "      <td>158300</td>\n",
       "      <td>160300</td>\n",
       "      <td>162000</td>\n",
       "      <td>163700</td>\n",
       "      <td>165300</td>\n",
       "      <td>166900</td>\n",
       "      <td>168900</td>\n",
       "      <td>171000</td>\n",
       "      <td>172500</td>\n",
       "      <td>173800</td>\n",
       "      <td>175300</td>\n",
       "      <td>176700</td>\n",
       "      <td>178000</td>\n",
       "      <td>179100</td>\n",
       "      <td>180200</td>\n",
       "      <td>181500</td>\n",
       "      <td>183200</td>\n",
       "      <td>184500</td>\n",
       "      <td>185700</td>\n",
       "      <td>187000</td>\n",
       "      <td>188300</td>\n",
       "      <td>189600</td>\n",
       "      <td>191500</td>\n",
       "      <td>193200</td>\n",
       "      <td>194300</td>\n",
       "      <td>195500</td>\n",
       "      <td>196700</td>\n",
       "      <td>198100</td>\n",
       "      <td>199000</td>\n",
       "      <td>200000</td>\n",
       "      <td>201200</td>\n",
       "      <td>202100</td>\n",
       "    </tr>\n",
       "    <tr>\n",
       "      <td>562</td>\n",
       "      <td>91280</td>\n",
       "      <td>76137</td>\n",
       "      <td>Fort Worth</td>\n",
       "      <td>TX</td>\n",
       "      <td>Dallas-Fort Worth</td>\n",
       "      <td>Tarrant</td>\n",
       "      <td>563</td>\n",
       "      <td>117500.0</td>\n",
       "      <td>117500.0</td>\n",
       "      <td>117600.0</td>\n",
       "      <td>117800.0</td>\n",
       "      <td>117900.0</td>\n",
       "      <td>118100.0</td>\n",
       "      <td>118400.0</td>\n",
       "      <td>118600.0</td>\n",
       "      <td>118900.0</td>\n",
       "      <td>119100.0</td>\n",
       "      <td>119400.0</td>\n",
       "      <td>119600.0</td>\n",
       "      <td>119700.0</td>\n",
       "      <td>119800.0</td>\n",
       "      <td>119900.0</td>\n",
       "      <td>120000.0</td>\n",
       "      <td>120000.0</td>\n",
       "      <td>120000.0</td>\n",
       "      <td>120100.0</td>\n",
       "      <td>120100.0</td>\n",
       "      <td>120100.0</td>\n",
       "      <td>120000.0</td>\n",
       "      <td>119900.0</td>\n",
       "      <td>119800.0</td>\n",
       "      <td>119700.0</td>\n",
       "      <td>119500.0</td>\n",
       "      <td>119400.0</td>\n",
       "      <td>119400.0</td>\n",
       "      <td>119500.0</td>\n",
       "      <td>119700.0</td>\n",
       "      <td>119900.0</td>\n",
       "      <td>120100.0</td>\n",
       "      <td>120300.0</td>\n",
       "      <td>...</td>\n",
       "      <td>144100</td>\n",
       "      <td>145100</td>\n",
       "      <td>145500</td>\n",
       "      <td>145500</td>\n",
       "      <td>145900</td>\n",
       "      <td>146700</td>\n",
       "      <td>147700</td>\n",
       "      <td>149000</td>\n",
       "      <td>150400</td>\n",
       "      <td>151700</td>\n",
       "      <td>153000</td>\n",
       "      <td>154400</td>\n",
       "      <td>156400</td>\n",
       "      <td>158200</td>\n",
       "      <td>159900</td>\n",
       "      <td>162200</td>\n",
       "      <td>164900</td>\n",
       "      <td>167700</td>\n",
       "      <td>170400</td>\n",
       "      <td>173100</td>\n",
       "      <td>175600</td>\n",
       "      <td>177900</td>\n",
       "      <td>180000</td>\n",
       "      <td>181700</td>\n",
       "      <td>183300</td>\n",
       "      <td>184800</td>\n",
       "      <td>185900</td>\n",
       "      <td>186800</td>\n",
       "      <td>187900</td>\n",
       "      <td>189300</td>\n",
       "      <td>190700</td>\n",
       "      <td>191400</td>\n",
       "      <td>191800</td>\n",
       "      <td>192800</td>\n",
       "      <td>193800</td>\n",
       "      <td>195400</td>\n",
       "      <td>197000</td>\n",
       "      <td>198700</td>\n",
       "      <td>200500</td>\n",
       "      <td>201700</td>\n",
       "    </tr>\n",
       "  </tbody>\n",
       "</table>\n",
       "<p>5 rows × 272 columns</p>\n",
       "</div>"
      ],
      "text/plain": [
       "     RegionID  RegionName        City State  ... 2018-01 2018-02  2018-03  2018-04\n",
       "153     91221       76063   Mansfield    TX  ...  262200  264100   266500   267800\n",
       "170     91325       76244  Fort Worth    TX  ...  250300  251000   251400   251300\n",
       "335     91261       76116  Fort Worth    TX  ...  183300  185000   186600   187800\n",
       "550     91291       76179  Fort Worth    TX  ...  199000  200000   201200   202100\n",
       "562     91280       76137  Fort Worth    TX  ...  197000  198700   200500   201700\n",
       "\n",
       "[5 rows x 272 columns]"
      ]
     },
     "execution_count": 4,
     "metadata": {},
     "output_type": "execute_result"
    }
   ],
   "source": [
    "# Subset data to Tarrant County only, preview Wide Format dataframe\n",
    "df_tarrant = df.loc[df['CountyName'] == 'Tarrant']\n",
    "df_tarrant.head()"
   ]
  },
  {
   "cell_type": "code",
   "execution_count": 5,
   "metadata": {
    "ExecuteTime": {
     "end_time": "2020-01-13T20:09:13.382643Z",
     "start_time": "2020-01-13T20:09:13.341573Z"
    }
   },
   "outputs": [
    {
     "data": {
      "text/html": [
       "<div>\n",
       "<style scoped>\n",
       "    .dataframe tbody tr th:only-of-type {\n",
       "        vertical-align: middle;\n",
       "    }\n",
       "\n",
       "    .dataframe tbody tr th {\n",
       "        vertical-align: top;\n",
       "    }\n",
       "\n",
       "    .dataframe thead th {\n",
       "        text-align: right;\n",
       "    }\n",
       "</style>\n",
       "<table border=\"1\" class=\"dataframe\">\n",
       "  <thead>\n",
       "    <tr style=\"text-align: right;\">\n",
       "      <th></th>\n",
       "      <th>RegionID</th>\n",
       "      <th>RegionName</th>\n",
       "      <th>City</th>\n",
       "      <th>State</th>\n",
       "      <th>Metro</th>\n",
       "      <th>CountyName</th>\n",
       "      <th>SizeRank</th>\n",
       "      <th>Month</th>\n",
       "      <th>MeanValue</th>\n",
       "    </tr>\n",
       "  </thead>\n",
       "  <tbody>\n",
       "    <tr>\n",
       "      <td>0</td>\n",
       "      <td>91221</td>\n",
       "      <td>76063</td>\n",
       "      <td>Mansfield</td>\n",
       "      <td>TX</td>\n",
       "      <td>Dallas-Fort Worth</td>\n",
       "      <td>Tarrant</td>\n",
       "      <td>154</td>\n",
       "      <td>1996-04-01</td>\n",
       "      <td>148100.0</td>\n",
       "    </tr>\n",
       "    <tr>\n",
       "      <td>1</td>\n",
       "      <td>91325</td>\n",
       "      <td>76244</td>\n",
       "      <td>Fort Worth</td>\n",
       "      <td>TX</td>\n",
       "      <td>Dallas-Fort Worth</td>\n",
       "      <td>Tarrant</td>\n",
       "      <td>171</td>\n",
       "      <td>1996-04-01</td>\n",
       "      <td>139800.0</td>\n",
       "    </tr>\n",
       "    <tr>\n",
       "      <td>2</td>\n",
       "      <td>91261</td>\n",
       "      <td>76116</td>\n",
       "      <td>Fort Worth</td>\n",
       "      <td>TX</td>\n",
       "      <td>Dallas-Fort Worth</td>\n",
       "      <td>Tarrant</td>\n",
       "      <td>336</td>\n",
       "      <td>1996-04-01</td>\n",
       "      <td>85800.0</td>\n",
       "    </tr>\n",
       "    <tr>\n",
       "      <td>3</td>\n",
       "      <td>91291</td>\n",
       "      <td>76179</td>\n",
       "      <td>Fort Worth</td>\n",
       "      <td>TX</td>\n",
       "      <td>Dallas-Fort Worth</td>\n",
       "      <td>Tarrant</td>\n",
       "      <td>551</td>\n",
       "      <td>1996-04-01</td>\n",
       "      <td>107100.0</td>\n",
       "    </tr>\n",
       "    <tr>\n",
       "      <td>4</td>\n",
       "      <td>91280</td>\n",
       "      <td>76137</td>\n",
       "      <td>Fort Worth</td>\n",
       "      <td>TX</td>\n",
       "      <td>Dallas-Fort Worth</td>\n",
       "      <td>Tarrant</td>\n",
       "      <td>563</td>\n",
       "      <td>1996-04-01</td>\n",
       "      <td>117500.0</td>\n",
       "    </tr>\n",
       "    <tr>\n",
       "      <td>...</td>\n",
       "      <td>...</td>\n",
       "      <td>...</td>\n",
       "      <td>...</td>\n",
       "      <td>...</td>\n",
       "      <td>...</td>\n",
       "      <td>...</td>\n",
       "      <td>...</td>\n",
       "      <td>...</td>\n",
       "      <td>...</td>\n",
       "    </tr>\n",
       "    <tr>\n",
       "      <td>15630</td>\n",
       "      <td>91248</td>\n",
       "      <td>76103</td>\n",
       "      <td>Fort Worth</td>\n",
       "      <td>TX</td>\n",
       "      <td>Dallas-Fort Worth</td>\n",
       "      <td>Tarrant</td>\n",
       "      <td>7549</td>\n",
       "      <td>2018-04-01</td>\n",
       "      <td>126300.0</td>\n",
       "    </tr>\n",
       "    <tr>\n",
       "      <td>15631</td>\n",
       "      <td>91215</td>\n",
       "      <td>76054</td>\n",
       "      <td>Hurst</td>\n",
       "      <td>TX</td>\n",
       "      <td>Dallas-Fort Worth</td>\n",
       "      <td>Tarrant</td>\n",
       "      <td>7749</td>\n",
       "      <td>2018-04-01</td>\n",
       "      <td>275500.0</td>\n",
       "    </tr>\n",
       "    <tr>\n",
       "      <td>15632</td>\n",
       "      <td>91289</td>\n",
       "      <td>76164</td>\n",
       "      <td>Fort Worth</td>\n",
       "      <td>TX</td>\n",
       "      <td>Dallas-Fort Worth</td>\n",
       "      <td>Tarrant</td>\n",
       "      <td>7981</td>\n",
       "      <td>2018-04-01</td>\n",
       "      <td>103600.0</td>\n",
       "    </tr>\n",
       "    <tr>\n",
       "      <td>15633</td>\n",
       "      <td>91219</td>\n",
       "      <td>76060</td>\n",
       "      <td>Kennedale</td>\n",
       "      <td>TX</td>\n",
       "      <td>Dallas-Fort Worth</td>\n",
       "      <td>Tarrant</td>\n",
       "      <td>9340</td>\n",
       "      <td>2018-04-01</td>\n",
       "      <td>243200.0</td>\n",
       "    </tr>\n",
       "    <tr>\n",
       "      <td>15634</td>\n",
       "      <td>91179</td>\n",
       "      <td>76005</td>\n",
       "      <td>Arlington</td>\n",
       "      <td>TX</td>\n",
       "      <td>Dallas-Fort Worth</td>\n",
       "      <td>Tarrant</td>\n",
       "      <td>13313</td>\n",
       "      <td>2018-04-01</td>\n",
       "      <td>373900.0</td>\n",
       "    </tr>\n",
       "  </tbody>\n",
       "</table>\n",
       "<p>15635 rows × 9 columns</p>\n",
       "</div>"
      ],
      "text/plain": [
       "       RegionID  RegionName        City  ... SizeRank      Month MeanValue\n",
       "0         91221       76063   Mansfield  ...      154 1996-04-01  148100.0\n",
       "1         91325       76244  Fort Worth  ...      171 1996-04-01  139800.0\n",
       "2         91261       76116  Fort Worth  ...      336 1996-04-01   85800.0\n",
       "3         91291       76179  Fort Worth  ...      551 1996-04-01  107100.0\n",
       "4         91280       76137  Fort Worth  ...      563 1996-04-01  117500.0\n",
       "...         ...         ...         ...  ...      ...        ...       ...\n",
       "15630     91248       76103  Fort Worth  ...     7549 2018-04-01  126300.0\n",
       "15631     91215       76054       Hurst  ...     7749 2018-04-01  275500.0\n",
       "15632     91289       76164  Fort Worth  ...     7981 2018-04-01  103600.0\n",
       "15633     91219       76060   Kennedale  ...     9340 2018-04-01  243200.0\n",
       "15634     91179       76005   Arlington  ...    13313 2018-04-01  373900.0\n",
       "\n",
       "[15635 rows x 9 columns]"
      ]
     },
     "execution_count": 5,
     "metadata": {},
     "output_type": "execute_result"
    }
   ],
   "source": [
    "# Melt Tarrant Co. dataframe to Long Format\n",
    "df_melted = melt_data(df_tarrant)\n",
    "df_melted"
   ]
  },
  {
   "cell_type": "code",
   "execution_count": 6,
   "metadata": {
    "ExecuteTime": {
     "end_time": "2020-01-13T20:09:13.388628Z",
     "start_time": "2020-01-13T20:09:13.384637Z"
    }
   },
   "outputs": [],
   "source": [
    "# Check method to later subset dataframe by zip code\n",
    "# df_melted.loc[df_melted['RegionID'] == 76001]"
   ]
  },
  {
   "cell_type": "code",
   "execution_count": 7,
   "metadata": {
    "ExecuteTime": {
     "end_time": "2020-01-13T20:09:13.397604Z",
     "start_time": "2020-01-13T20:09:13.389626Z"
    }
   },
   "outputs": [],
   "source": [
    "# Check for null / missing values\n",
    "# df_melted.info()"
   ]
  },
  {
   "cell_type": "markdown",
   "metadata": {},
   "source": [
    "## Explore"
   ]
  },
  {
   "cell_type": "code",
   "execution_count": 8,
   "metadata": {
    "ExecuteTime": {
     "end_time": "2020-01-13T20:09:13.407576Z",
     "start_time": "2020-01-13T20:09:13.399598Z"
    }
   },
   "outputs": [],
   "source": [
    "tarrant_zips = df_melted['RegionName'].unique()"
   ]
  },
  {
   "cell_type": "code",
   "execution_count": 9,
   "metadata": {
    "ExecuteTime": {
     "end_time": "2020-01-13T20:31:37.204058Z",
     "start_time": "2020-01-13T20:09:13.410573Z"
    },
    "scrolled": true
   },
   "outputs": [
    {
     "data": {
      "application/vnd.jupyter.widget-view+json": {
       "model_id": "4c65729c227d42d1887e74b102cb325e",
       "version_major": 2,
       "version_minor": 0
      },
      "text/plain": [
       "HBox(children=(IntProgress(value=0, description='Total Grid Search Progress', max=59, style=ProgressStyle(desc…"
      ]
     },
     "metadata": {},
     "output_type": "display_data"
    },
    {
     "data": {
      "application/vnd.jupyter.widget-view+json": {
       "model_id": "53b217fdc43149ec872914c3356f6e82",
       "version_major": 2,
       "version_minor": 0
      },
      "text/plain": [
       "HBox(children=(IntProgress(value=0, description='76063 Grid Search Progress', max=125, style=ProgressStyle(des…"
      ]
     },
     "metadata": {},
     "output_type": "display_data"
    },
    {
     "name": "stdout",
     "output_type": "stream",
     "text": [
      "\n"
     ]
    },
    {
     "data": {
      "application/vnd.jupyter.widget-view+json": {
       "model_id": "8b5353276ad44f2693d8c78f1b1014de",
       "version_major": 2,
       "version_minor": 0
      },
      "text/plain": [
       "HBox(children=(IntProgress(value=0, description='76244 Grid Search Progress', max=125, style=ProgressStyle(des…"
      ]
     },
     "metadata": {},
     "output_type": "display_data"
    },
    {
     "name": "stdout",
     "output_type": "stream",
     "text": [
      "\n"
     ]
    },
    {
     "data": {
      "application/vnd.jupyter.widget-view+json": {
       "model_id": "544f6d0f9c954dbfb31980958e22a36f",
       "version_major": 2,
       "version_minor": 0
      },
      "text/plain": [
       "HBox(children=(IntProgress(value=0, description='76116 Grid Search Progress', max=125, style=ProgressStyle(des…"
      ]
     },
     "metadata": {},
     "output_type": "display_data"
    },
    {
     "name": "stdout",
     "output_type": "stream",
     "text": [
      "\n"
     ]
    },
    {
     "data": {
      "application/vnd.jupyter.widget-view+json": {
       "model_id": "e7d93971fef642189171fded1efa267e",
       "version_major": 2,
       "version_minor": 0
      },
      "text/plain": [
       "HBox(children=(IntProgress(value=0, description='76179 Grid Search Progress', max=125, style=ProgressStyle(des…"
      ]
     },
     "metadata": {},
     "output_type": "display_data"
    },
    {
     "name": "stdout",
     "output_type": "stream",
     "text": [
      "\n"
     ]
    },
    {
     "data": {
      "application/vnd.jupyter.widget-view+json": {
       "model_id": "a913d56d2c3d4cdba47438b41a4291b5",
       "version_major": 2,
       "version_minor": 0
      },
      "text/plain": [
       "HBox(children=(IntProgress(value=0, description='76137 Grid Search Progress', max=125, style=ProgressStyle(des…"
      ]
     },
     "metadata": {},
     "output_type": "display_data"
    },
    {
     "name": "stdout",
     "output_type": "stream",
     "text": [
      "\n"
     ]
    },
    {
     "data": {
      "application/vnd.jupyter.widget-view+json": {
       "model_id": "7ce04bacd13f4aaeb399831495138fe8",
       "version_major": 2,
       "version_minor": 0
      },
      "text/plain": [
       "HBox(children=(IntProgress(value=0, description='76051 Grid Search Progress', max=125, style=ProgressStyle(des…"
      ]
     },
     "metadata": {},
     "output_type": "display_data"
    },
    {
     "name": "stdout",
     "output_type": "stream",
     "text": [
      "\n"
     ]
    },
    {
     "data": {
      "application/vnd.jupyter.widget-view+json": {
       "model_id": "f2e77c7c8b24485facb31c91a9b168d5",
       "version_major": 2,
       "version_minor": 0
      },
      "text/plain": [
       "HBox(children=(IntProgress(value=0, description='76133 Grid Search Progress', max=125, style=ProgressStyle(des…"
      ]
     },
     "metadata": {},
     "output_type": "display_data"
    },
    {
     "name": "stdout",
     "output_type": "stream",
     "text": [
      "\n"
     ]
    },
    {
     "data": {
      "application/vnd.jupyter.widget-view+json": {
       "model_id": "95e9ca775a9b49feaa46869657fc3dc7",
       "version_major": 2,
       "version_minor": 0
      },
      "text/plain": [
       "HBox(children=(IntProgress(value=0, description='76010 Grid Search Progress', max=125, style=ProgressStyle(des…"
      ]
     },
     "metadata": {},
     "output_type": "display_data"
    },
    {
     "name": "stdout",
     "output_type": "stream",
     "text": [
      "\n"
     ]
    },
    {
     "data": {
      "application/vnd.jupyter.widget-view+json": {
       "model_id": "e217865144034e19bc3f1a9c30570c55",
       "version_major": 2,
       "version_minor": 0
      },
      "text/plain": [
       "HBox(children=(IntProgress(value=0, description='76112 Grid Search Progress', max=125, style=ProgressStyle(des…"
      ]
     },
     "metadata": {},
     "output_type": "display_data"
    },
    {
     "name": "stdout",
     "output_type": "stream",
     "text": [
      "\n"
     ]
    },
    {
     "data": {
      "application/vnd.jupyter.widget-view+json": {
       "model_id": "984f3eef14e042b2bc013d8b5a74c7d3",
       "version_major": 2,
       "version_minor": 0
      },
      "text/plain": [
       "HBox(children=(IntProgress(value=0, description='76017 Grid Search Progress', max=125, style=ProgressStyle(des…"
      ]
     },
     "metadata": {},
     "output_type": "display_data"
    },
    {
     "name": "stdout",
     "output_type": "stream",
     "text": [
      "\n"
     ]
    },
    {
     "data": {
      "application/vnd.jupyter.widget-view+json": {
       "model_id": "f56b4bcb0b6641ee8d9524725063cfc4",
       "version_major": 2,
       "version_minor": 0
      },
      "text/plain": [
       "HBox(children=(IntProgress(value=0, description='76039 Grid Search Progress', max=125, style=ProgressStyle(des…"
      ]
     },
     "metadata": {},
     "output_type": "display_data"
    },
    {
     "name": "stdout",
     "output_type": "stream",
     "text": [
      "\n"
     ]
    },
    {
     "data": {
      "application/vnd.jupyter.widget-view+json": {
       "model_id": "c95ae0f523b54dc987386bde72a9d7b5",
       "version_major": 2,
       "version_minor": 0
      },
      "text/plain": [
       "HBox(children=(IntProgress(value=0, description='76108 Grid Search Progress', max=125, style=ProgressStyle(des…"
      ]
     },
     "metadata": {},
     "output_type": "display_data"
    },
    {
     "name": "stdout",
     "output_type": "stream",
     "text": [
      "\n"
     ]
    },
    {
     "data": {
      "application/vnd.jupyter.widget-view+json": {
       "model_id": "660328440f764b9fa8f1814d122e1d7f",
       "version_major": 2,
       "version_minor": 0
      },
      "text/plain": [
       "HBox(children=(IntProgress(value=0, description='76021 Grid Search Progress', max=125, style=ProgressStyle(des…"
      ]
     },
     "metadata": {},
     "output_type": "display_data"
    },
    {
     "name": "stdout",
     "output_type": "stream",
     "text": [
      "\n"
     ]
    },
    {
     "data": {
      "application/vnd.jupyter.widget-view+json": {
       "model_id": "9e3d9b59d4434582a4ea99e5f25b0321",
       "version_major": 2,
       "version_minor": 0
      },
      "text/plain": [
       "HBox(children=(IntProgress(value=0, description='76107 Grid Search Progress', max=125, style=ProgressStyle(des…"
      ]
     },
     "metadata": {},
     "output_type": "display_data"
    },
    {
     "name": "stdout",
     "output_type": "stream",
     "text": [
      "\n"
     ]
    },
    {
     "data": {
      "application/vnd.jupyter.widget-view+json": {
       "model_id": "a916b2b6c16440f5b2f1e81dd4ea2392",
       "version_major": 2,
       "version_minor": 0
      },
      "text/plain": [
       "HBox(children=(IntProgress(value=0, description='76119 Grid Search Progress', max=125, style=ProgressStyle(des…"
      ]
     },
     "metadata": {},
     "output_type": "display_data"
    },
    {
     "name": "stdout",
     "output_type": "stream",
     "text": [
      "\n"
     ]
    },
    {
     "data": {
      "application/vnd.jupyter.widget-view+json": {
       "model_id": "07c84a60dec5420690dbe1dde989edb9",
       "version_major": 2,
       "version_minor": 0
      },
      "text/plain": [
       "HBox(children=(IntProgress(value=0, description='76180 Grid Search Progress', max=125, style=ProgressStyle(des…"
      ]
     },
     "metadata": {},
     "output_type": "display_data"
    },
    {
     "name": "stdout",
     "output_type": "stream",
     "text": [
      "\n"
     ]
    },
    {
     "data": {
      "application/vnd.jupyter.widget-view+json": {
       "model_id": "c6c122497ffe49a78b15c1719c153f36",
       "version_major": 2,
       "version_minor": 0
      },
      "text/plain": [
       "HBox(children=(IntProgress(value=0, description='76248 Grid Search Progress', max=125, style=ProgressStyle(des…"
      ]
     },
     "metadata": {},
     "output_type": "display_data"
    },
    {
     "name": "stdout",
     "output_type": "stream",
     "text": [
      "\n"
     ]
    },
    {
     "data": {
      "application/vnd.jupyter.widget-view+json": {
       "model_id": "242a47d612e14f95880243842d3bc5df",
       "version_major": 2,
       "version_minor": 0
      },
      "text/plain": [
       "HBox(children=(IntProgress(value=0, description='76006 Grid Search Progress', max=125, style=ProgressStyle(des…"
      ]
     },
     "metadata": {},
     "output_type": "display_data"
    },
    {
     "name": "stdout",
     "output_type": "stream",
     "text": [
      "\n"
     ]
    },
    {
     "data": {
      "application/vnd.jupyter.widget-view+json": {
       "model_id": "ea9c38df0556482191cb474ac914a71c",
       "version_major": 2,
       "version_minor": 0
      },
      "text/plain": [
       "HBox(children=(IntProgress(value=0, description='76013 Grid Search Progress', max=125, style=ProgressStyle(des…"
      ]
     },
     "metadata": {},
     "output_type": "display_data"
    },
    {
     "name": "stdout",
     "output_type": "stream",
     "text": [
      "\n"
     ]
    },
    {
     "data": {
      "application/vnd.jupyter.widget-view+json": {
       "model_id": "385f84e1b9a04160ae47f660c64ec2e5",
       "version_major": 2,
       "version_minor": 0
      },
      "text/plain": [
       "HBox(children=(IntProgress(value=0, description='76132 Grid Search Progress', max=125, style=ProgressStyle(des…"
      ]
     },
     "metadata": {},
     "output_type": "display_data"
    },
    {
     "name": "stdout",
     "output_type": "stream",
     "text": [
      "\n"
     ]
    },
    {
     "data": {
      "application/vnd.jupyter.widget-view+json": {
       "model_id": "bc62245e0f1b4d9daaed5b7ca88e3198",
       "version_major": 2,
       "version_minor": 0
      },
      "text/plain": [
       "HBox(children=(IntProgress(value=0, description='76131 Grid Search Progress', max=125, style=ProgressStyle(des…"
      ]
     },
     "metadata": {},
     "output_type": "display_data"
    },
    {
     "name": "stdout",
     "output_type": "stream",
     "text": [
      "\n"
     ]
    },
    {
     "data": {
      "application/vnd.jupyter.widget-view+json": {
       "model_id": "6432511641e24aad92d73248e531d494",
       "version_major": 2,
       "version_minor": 0
      },
      "text/plain": [
       "HBox(children=(IntProgress(value=0, description='76053 Grid Search Progress', max=125, style=ProgressStyle(des…"
      ]
     },
     "metadata": {},
     "output_type": "display_data"
    },
    {
     "name": "stdout",
     "output_type": "stream",
     "text": [
      "\n"
     ]
    },
    {
     "data": {
      "application/vnd.jupyter.widget-view+json": {
       "model_id": "c173489d5a8a43948cf6b8812ecc180a",
       "version_major": 2,
       "version_minor": 0
      },
      "text/plain": [
       "HBox(children=(IntProgress(value=0, description='76182 Grid Search Progress', max=125, style=ProgressStyle(des…"
      ]
     },
     "metadata": {},
     "output_type": "display_data"
    },
    {
     "name": "stdout",
     "output_type": "stream",
     "text": [
      "\n"
     ]
    },
    {
     "data": {
      "application/vnd.jupyter.widget-view+json": {
       "model_id": "99805334bfae4860b797308a1c0710ce",
       "version_major": 2,
       "version_minor": 0
      },
      "text/plain": [
       "HBox(children=(IntProgress(value=0, description='76117 Grid Search Progress', max=125, style=ProgressStyle(des…"
      ]
     },
     "metadata": {},
     "output_type": "display_data"
    },
    {
     "name": "stdout",
     "output_type": "stream",
     "text": [
      "\n"
     ]
    },
    {
     "data": {
      "application/vnd.jupyter.widget-view+json": {
       "model_id": "a3322f311e754b49823a3456946fd77e",
       "version_major": 2,
       "version_minor": 0
      },
      "text/plain": [
       "HBox(children=(IntProgress(value=0, description='76040 Grid Search Progress', max=125, style=ProgressStyle(des…"
      ]
     },
     "metadata": {},
     "output_type": "display_data"
    },
    {
     "name": "stdout",
     "output_type": "stream",
     "text": [
      "\n"
     ]
    },
    {
     "data": {
      "application/vnd.jupyter.widget-view+json": {
       "model_id": "260dd470f1644ed08cad92d875a0c31a",
       "version_major": 2,
       "version_minor": 0
      },
      "text/plain": [
       "HBox(children=(IntProgress(value=0, description='76016 Grid Search Progress', max=125, style=ProgressStyle(des…"
      ]
     },
     "metadata": {},
     "output_type": "display_data"
    },
    {
     "name": "stdout",
     "output_type": "stream",
     "text": [
      "\n"
     ]
    },
    {
     "data": {
      "application/vnd.jupyter.widget-view+json": {
       "model_id": "43e99aa9344d4debbeb3f43c03f055fd",
       "version_major": 2,
       "version_minor": 0
      },
      "text/plain": [
       "HBox(children=(IntProgress(value=0, description='76014 Grid Search Progress', max=125, style=ProgressStyle(des…"
      ]
     },
     "metadata": {},
     "output_type": "display_data"
    },
    {
     "name": "stdout",
     "output_type": "stream",
     "text": [
      "\n"
     ]
    },
    {
     "data": {
      "application/vnd.jupyter.widget-view+json": {
       "model_id": "166e439a04b948d2b7c1610fbe38e7eb",
       "version_major": 2,
       "version_minor": 0
      },
      "text/plain": [
       "HBox(children=(IntProgress(value=0, description='76020 Grid Search Progress', max=125, style=ProgressStyle(des…"
      ]
     },
     "metadata": {},
     "output_type": "display_data"
    },
    {
     "name": "stdout",
     "output_type": "stream",
     "text": [
      "\n"
     ]
    },
    {
     "data": {
      "application/vnd.jupyter.widget-view+json": {
       "model_id": "b0e871f3904e4ae8bcc2ff8060435c62",
       "version_major": 2,
       "version_minor": 0
      },
      "text/plain": [
       "HBox(children=(IntProgress(value=0, description='76012 Grid Search Progress', max=125, style=ProgressStyle(des…"
      ]
     },
     "metadata": {},
     "output_type": "display_data"
    },
    {
     "name": "stdout",
     "output_type": "stream",
     "text": [
      "\n"
     ]
    },
    {
     "data": {
      "application/vnd.jupyter.widget-view+json": {
       "model_id": "851f6beca10f47219e60c562705d35bc",
       "version_major": 2,
       "version_minor": 0
      },
      "text/plain": [
       "HBox(children=(IntProgress(value=0, description='76001 Grid Search Progress', max=125, style=ProgressStyle(des…"
      ]
     },
     "metadata": {},
     "output_type": "display_data"
    },
    {
     "name": "stdout",
     "output_type": "stream",
     "text": [
      "\n"
     ]
    },
    {
     "data": {
      "application/vnd.jupyter.widget-view+json": {
       "model_id": "de4f2633b0844fe6b1772047ad8c4078",
       "version_major": 2,
       "version_minor": 0
      },
      "text/plain": [
       "HBox(children=(IntProgress(value=0, description='76109 Grid Search Progress', max=125, style=ProgressStyle(des…"
      ]
     },
     "metadata": {},
     "output_type": "display_data"
    },
    {
     "name": "stdout",
     "output_type": "stream",
     "text": [
      "\n"
     ]
    },
    {
     "data": {
      "application/vnd.jupyter.widget-view+json": {
       "model_id": "35117485b2b24c8e94b21858bfe4d476",
       "version_major": 2,
       "version_minor": 0
      },
      "text/plain": [
       "HBox(children=(IntProgress(value=0, description='76011 Grid Search Progress', max=125, style=ProgressStyle(des…"
      ]
     },
     "metadata": {},
     "output_type": "display_data"
    },
    {
     "name": "stdout",
     "output_type": "stream",
     "text": [
      "\n"
     ]
    },
    {
     "data": {
      "application/vnd.jupyter.widget-view+json": {
       "model_id": "d7e5b0a6264a440c9df94e8704f4c498",
       "version_major": 2,
       "version_minor": 0
      },
      "text/plain": [
       "HBox(children=(IntProgress(value=0, description='76123 Grid Search Progress', max=125, style=ProgressStyle(des…"
      ]
     },
     "metadata": {},
     "output_type": "display_data"
    },
    {
     "name": "stdout",
     "output_type": "stream",
     "text": [
      "\n"
     ]
    },
    {
     "data": {
      "application/vnd.jupyter.widget-view+json": {
       "model_id": "bffee9de8f6c48429e6cc46a67d1855f",
       "version_major": 2,
       "version_minor": 0
      },
      "text/plain": [
       "HBox(children=(IntProgress(value=0, description='76140 Grid Search Progress', max=125, style=ProgressStyle(des…"
      ]
     },
     "metadata": {},
     "output_type": "display_data"
    },
    {
     "name": "stdout",
     "output_type": "stream",
     "text": [
      "\n"
     ]
    },
    {
     "data": {
      "application/vnd.jupyter.widget-view+json": {
       "model_id": "c8dff30cb59548f6b7a33c7f081b62d3",
       "version_major": 2,
       "version_minor": 0
      },
      "text/plain": [
       "HBox(children=(IntProgress(value=0, description='76092 Grid Search Progress', max=125, style=ProgressStyle(des…"
      ]
     },
     "metadata": {},
     "output_type": "display_data"
    },
    {
     "name": "stdout",
     "output_type": "stream",
     "text": [
      "\n"
     ]
    },
    {
     "data": {
      "application/vnd.jupyter.widget-view+json": {
       "model_id": "a6f16877312f42d59d7c7e59993832b6",
       "version_major": 2,
       "version_minor": 0
      },
      "text/plain": [
       "HBox(children=(IntProgress(value=0, description='76036 Grid Search Progress', max=125, style=ProgressStyle(des…"
      ]
     },
     "metadata": {},
     "output_type": "display_data"
    },
    {
     "name": "stdout",
     "output_type": "stream",
     "text": [
      "\n"
     ]
    },
    {
     "data": {
      "application/vnd.jupyter.widget-view+json": {
       "model_id": "2e6a147b1b5942a0b672c323eef05374",
       "version_major": 2,
       "version_minor": 0
      },
      "text/plain": [
       "HBox(children=(IntProgress(value=0, description='76002 Grid Search Progress', max=125, style=ProgressStyle(des…"
      ]
     },
     "metadata": {},
     "output_type": "display_data"
    },
    {
     "name": "stdout",
     "output_type": "stream",
     "text": [
      "\n"
     ]
    },
    {
     "data": {
      "application/vnd.jupyter.widget-view+json": {
       "model_id": "8a9c25cbab78411598dd17f84510bc66",
       "version_major": 2,
       "version_minor": 0
      },
      "text/plain": [
       "HBox(children=(IntProgress(value=0, description='76114 Grid Search Progress', max=125, style=ProgressStyle(des…"
      ]
     },
     "metadata": {},
     "output_type": "display_data"
    },
    {
     "name": "stdout",
     "output_type": "stream",
     "text": [
      "\n"
     ]
    },
    {
     "data": {
      "application/vnd.jupyter.widget-view+json": {
       "model_id": "b018b9f57db74364a4fff0178e4ecd93",
       "version_major": 2,
       "version_minor": 0
      },
      "text/plain": [
       "HBox(children=(IntProgress(value=0, description='76126 Grid Search Progress', max=125, style=ProgressStyle(des…"
      ]
     },
     "metadata": {},
     "output_type": "display_data"
    },
    {
     "name": "stdout",
     "output_type": "stream",
     "text": [
      "\n"
     ]
    },
    {
     "data": {
      "application/vnd.jupyter.widget-view+json": {
       "model_id": "415ea326a14b479a9040fd5abdce0d72",
       "version_major": 2,
       "version_minor": 0
      },
      "text/plain": [
       "HBox(children=(IntProgress(value=0, description='76034 Grid Search Progress', max=125, style=ProgressStyle(des…"
      ]
     },
     "metadata": {},
     "output_type": "display_data"
    },
    {
     "name": "stdout",
     "output_type": "stream",
     "text": [
      "\n"
     ]
    },
    {
     "data": {
      "application/vnd.jupyter.widget-view+json": {
       "model_id": "ed817f46e0bb4a2ebab91b3daab66574",
       "version_major": 2,
       "version_minor": 0
      },
      "text/plain": [
       "HBox(children=(IntProgress(value=0, description='76134 Grid Search Progress', max=125, style=ProgressStyle(des…"
      ]
     },
     "metadata": {},
     "output_type": "display_data"
    },
    {
     "name": "stdout",
     "output_type": "stream",
     "text": [
      "\n"
     ]
    },
    {
     "data": {
      "application/vnd.jupyter.widget-view+json": {
       "model_id": "481e2320006c4f4d9bd8273ad2249b47",
       "version_major": 2,
       "version_minor": 0
      },
      "text/plain": [
       "HBox(children=(IntProgress(value=0, description='76018 Grid Search Progress', max=125, style=ProgressStyle(des…"
      ]
     },
     "metadata": {},
     "output_type": "display_data"
    },
    {
     "name": "stdout",
     "output_type": "stream",
     "text": [
      "\n"
     ]
    },
    {
     "data": {
      "application/vnd.jupyter.widget-view+json": {
       "model_id": "6a3c47651d9344caa93f4f48fcbd89e4",
       "version_major": 2,
       "version_minor": 0
      },
      "text/plain": [
       "HBox(children=(IntProgress(value=0, description='76148 Grid Search Progress', max=125, style=ProgressStyle(des…"
      ]
     },
     "metadata": {},
     "output_type": "display_data"
    },
    {
     "name": "stdout",
     "output_type": "stream",
     "text": [
      "\n"
     ]
    },
    {
     "data": {
      "application/vnd.jupyter.widget-view+json": {
       "model_id": "82e1389767c74827b489c225913053a7",
       "version_major": 2,
       "version_minor": 0
      },
      "text/plain": [
       "HBox(children=(IntProgress(value=0, description='76135 Grid Search Progress', max=125, style=ProgressStyle(des…"
      ]
     },
     "metadata": {},
     "output_type": "display_data"
    },
    {
     "name": "stdout",
     "output_type": "stream",
     "text": [
      "\n"
     ]
    },
    {
     "data": {
      "application/vnd.jupyter.widget-view+json": {
       "model_id": "34de1c401fe047b888c101350dc61ff6",
       "version_major": 2,
       "version_minor": 0
      },
      "text/plain": [
       "HBox(children=(IntProgress(value=0, description='76120 Grid Search Progress', max=125, style=ProgressStyle(des…"
      ]
     },
     "metadata": {},
     "output_type": "display_data"
    },
    {
     "name": "stdout",
     "output_type": "stream",
     "text": [
      "\n"
     ]
    },
    {
     "data": {
      "application/vnd.jupyter.widget-view+json": {
       "model_id": "257992593f0e4261a4e0b1de1d06eea3",
       "version_major": 2,
       "version_minor": 0
      },
      "text/plain": [
       "HBox(children=(IntProgress(value=0, description='76105 Grid Search Progress', max=125, style=ProgressStyle(des…"
      ]
     },
     "metadata": {},
     "output_type": "display_data"
    },
    {
     "name": "stdout",
     "output_type": "stream",
     "text": [
      "\n"
     ]
    },
    {
     "data": {
      "application/vnd.jupyter.widget-view+json": {
       "model_id": "d964c3fdd06441ba9626937d71ee720c",
       "version_major": 2,
       "version_minor": 0
      },
      "text/plain": [
       "HBox(children=(IntProgress(value=0, description='76015 Grid Search Progress', max=125, style=ProgressStyle(des…"
      ]
     },
     "metadata": {},
     "output_type": "display_data"
    },
    {
     "name": "stdout",
     "output_type": "stream",
     "text": [
      "\n"
     ]
    },
    {
     "data": {
      "application/vnd.jupyter.widget-view+json": {
       "model_id": "a4bd7f6e69d446d381d7d49e6aeb930d",
       "version_major": 2,
       "version_minor": 0
      },
      "text/plain": [
       "HBox(children=(IntProgress(value=0, description='76052 Grid Search Progress', max=125, style=ProgressStyle(des…"
      ]
     },
     "metadata": {},
     "output_type": "display_data"
    },
    {
     "name": "stdout",
     "output_type": "stream",
     "text": [
      "\n"
     ]
    },
    {
     "data": {
      "application/vnd.jupyter.widget-view+json": {
       "model_id": "c7bcfcb1464846218d17646683dd4761",
       "version_major": 2,
       "version_minor": 0
      },
      "text/plain": [
       "HBox(children=(IntProgress(value=0, description='76111 Grid Search Progress', max=125, style=ProgressStyle(des…"
      ]
     },
     "metadata": {},
     "output_type": "display_data"
    },
    {
     "name": "stdout",
     "output_type": "stream",
     "text": [
      "\n"
     ]
    },
    {
     "data": {
      "application/vnd.jupyter.widget-view+json": {
       "model_id": "e3b92d6271154c88b1c58e01fa533dc9",
       "version_major": 2,
       "version_minor": 0
      },
      "text/plain": [
       "HBox(children=(IntProgress(value=0, description='76177 Grid Search Progress', max=125, style=ProgressStyle(des…"
      ]
     },
     "metadata": {},
     "output_type": "display_data"
    },
    {
     "name": "stdout",
     "output_type": "stream",
     "text": [
      "\n"
     ]
    },
    {
     "data": {
      "application/vnd.jupyter.widget-view+json": {
       "model_id": "353523220a1f44b88acea72116ad8de8",
       "version_major": 2,
       "version_minor": 0
      },
      "text/plain": [
       "HBox(children=(IntProgress(value=0, description='76104 Grid Search Progress', max=125, style=ProgressStyle(des…"
      ]
     },
     "metadata": {},
     "output_type": "display_data"
    },
    {
     "name": "stdout",
     "output_type": "stream",
     "text": [
      "\n"
     ]
    },
    {
     "data": {
      "application/vnd.jupyter.widget-view+json": {
       "model_id": "e146586ebba248bf9f17c83ea52cb2da",
       "version_major": 2,
       "version_minor": 0
      },
      "text/plain": [
       "HBox(children=(IntProgress(value=0, description='76022 Grid Search Progress', max=125, style=ProgressStyle(des…"
      ]
     },
     "metadata": {},
     "output_type": "display_data"
    },
    {
     "name": "stdout",
     "output_type": "stream",
     "text": [
      "\n"
     ]
    },
    {
     "data": {
      "application/vnd.jupyter.widget-view+json": {
       "model_id": "51e4184d9e984c80ad67146dcbe02484",
       "version_major": 2,
       "version_minor": 0
      },
      "text/plain": [
       "HBox(children=(IntProgress(value=0, description='76118 Grid Search Progress', max=125, style=ProgressStyle(des…"
      ]
     },
     "metadata": {},
     "output_type": "display_data"
    },
    {
     "name": "stdout",
     "output_type": "stream",
     "text": [
      "\n"
     ]
    },
    {
     "data": {
      "application/vnd.jupyter.widget-view+json": {
       "model_id": "ca75a890e841475991633156d5813cca",
       "version_major": 2,
       "version_minor": 0
      },
      "text/plain": [
       "HBox(children=(IntProgress(value=0, description='76247 Grid Search Progress', max=125, style=ProgressStyle(des…"
      ]
     },
     "metadata": {},
     "output_type": "display_data"
    },
    {
     "name": "stdout",
     "output_type": "stream",
     "text": [
      "\n"
     ]
    },
    {
     "data": {
      "application/vnd.jupyter.widget-view+json": {
       "model_id": "95319c498a4f425592215b0474fab631",
       "version_major": 2,
       "version_minor": 0
      },
      "text/plain": [
       "HBox(children=(IntProgress(value=0, description='76103 Grid Search Progress', max=125, style=ProgressStyle(des…"
      ]
     },
     "metadata": {},
     "output_type": "display_data"
    },
    {
     "name": "stdout",
     "output_type": "stream",
     "text": [
      "\n"
     ]
    },
    {
     "data": {
      "application/vnd.jupyter.widget-view+json": {
       "model_id": "7bd26326d18e4ae08f3c81e9faa561c1",
       "version_major": 2,
       "version_minor": 0
      },
      "text/plain": [
       "HBox(children=(IntProgress(value=0, description='76054 Grid Search Progress', max=125, style=ProgressStyle(des…"
      ]
     },
     "metadata": {},
     "output_type": "display_data"
    },
    {
     "name": "stdout",
     "output_type": "stream",
     "text": [
      "\n"
     ]
    },
    {
     "data": {
      "application/vnd.jupyter.widget-view+json": {
       "model_id": "e4201471f17d41fe9f697bbeee0e24b4",
       "version_major": 2,
       "version_minor": 0
      },
      "text/plain": [
       "HBox(children=(IntProgress(value=0, description='76164 Grid Search Progress', max=125, style=ProgressStyle(des…"
      ]
     },
     "metadata": {},
     "output_type": "display_data"
    },
    {
     "name": "stdout",
     "output_type": "stream",
     "text": [
      "\n"
     ]
    },
    {
     "data": {
      "application/vnd.jupyter.widget-view+json": {
       "model_id": "682816039973498292d5a90a91d1577f",
       "version_major": 2,
       "version_minor": 0
      },
      "text/plain": [
       "HBox(children=(IntProgress(value=0, description='76060 Grid Search Progress', max=125, style=ProgressStyle(des…"
      ]
     },
     "metadata": {},
     "output_type": "display_data"
    },
    {
     "name": "stdout",
     "output_type": "stream",
     "text": [
      "\n"
     ]
    },
    {
     "data": {
      "application/vnd.jupyter.widget-view+json": {
       "model_id": "3574cbfd9a6e45df848b29b44b1098bd",
       "version_major": 2,
       "version_minor": 0
      },
      "text/plain": [
       "HBox(children=(IntProgress(value=0, description='76005 Grid Search Progress', max=125, style=ProgressStyle(des…"
      ]
     },
     "metadata": {},
     "output_type": "display_data"
    },
    {
     "name": "stdout",
     "output_type": "stream",
     "text": [
      "\n",
      "\n",
      "[{'76063': pdq    (0, 3, 4)\n",
      "aic       3045.8\n",
      "Name: 19, dtype: object}, {'76244': pdq    (4, 3, 4)\n",
      "aic      3133.45\n",
      "Name: 119, dtype: object}, {'76116': pdq    (3, 2, 4)\n",
      "aic      3049.41\n",
      "Name: 89, dtype: object}, {'76179': pdq    (3, 2, 4)\n",
      "aic      2938.84\n",
      "Name: 89, dtype: object}, {'76137': pdq    (3, 2, 4)\n",
      "aic      2976.62\n",
      "Name: 89, dtype: object}, {'76051': pdq    (3, 3, 4)\n",
      "aic      3161.88\n",
      "Name: 94, dtype: object}, {'76133': pdq    (2, 3, 4)\n",
      "aic      2912.17\n",
      "Name: 69, dtype: object}, {'76010': pdq    (1, 3, 4)\n",
      "aic      2888.31\n",
      "Name: 44, dtype: object}, {'76112': pdq    (0, 3, 4)\n",
      "aic      2872.13\n",
      "Name: 19, dtype: object}, {'76017': pdq    (0, 3, 4)\n",
      "aic       2907.7\n",
      "Name: 19, dtype: object}, {'76039': pdq    (1, 2, 4)\n",
      "aic      3119.78\n",
      "Name: 39, dtype: object}, {'76108': pdq    (0, 3, 4)\n",
      "aic      3026.26\n",
      "Name: 19, dtype: object}, {'76021': pdq    (3, 2, 4)\n",
      "aic      3011.96\n",
      "Name: 89, dtype: object}, {'76107': pdq    (4, 1, 4)\n",
      "aic      3256.15\n",
      "Name: 109, dtype: object}, {'76119': pdq    (0, 3, 4)\n",
      "aic      3095.54\n",
      "Name: 19, dtype: object}, {'76180': pdq    (1, 3, 4)\n",
      "aic      3015.89\n",
      "Name: 44, dtype: object}, {'76248': pdq    (3, 3, 4)\n",
      "aic      3284.38\n",
      "Name: 94, dtype: object}, {'76006': pdq    (0, 3, 4)\n",
      "aic      3180.02\n",
      "Name: 19, dtype: object}, {'76013': pdq    (4, 3, 4)\n",
      "aic      2934.33\n",
      "Name: 119, dtype: object}, {'76132': pdq    (4, 3, 4)\n",
      "aic      3293.05\n",
      "Name: 119, dtype: object}, {'76131': pdq    (3, 1, 4)\n",
      "aic      2980.54\n",
      "Name: 84, dtype: object}, {'76053': pdq    (1, 2, 4)\n",
      "aic      2928.61\n",
      "Name: 39, dtype: object}, {'76182': pdq    (1, 3, 4)\n",
      "aic      3112.49\n",
      "Name: 44, dtype: object}, {'76117': pdq    (1, 3, 4)\n",
      "aic      2928.23\n",
      "Name: 44, dtype: object}, {'76040': pdq    (2, 3, 4)\n",
      "aic      3032.74\n",
      "Name: 69, dtype: object}, {'76016': pdq    (0, 3, 4)\n",
      "aic      3024.56\n",
      "Name: 19, dtype: object}, {'76014': pdq    (0, 3, 4)\n",
      "aic       2878.2\n",
      "Name: 19, dtype: object}, {'76020': pdq    (3, 1, 4)\n",
      "aic      3141.78\n",
      "Name: 84, dtype: object}, {'76012': pdq    (0, 3, 4)\n",
      "aic      3168.81\n",
      "Name: 19, dtype: object}, {'76001': pdq    (0, 3, 4)\n",
      "aic      2977.94\n",
      "Name: 19, dtype: object}, {'76109': pdq    (3, 2, 4)\n",
      "aic      3399.06\n",
      "Name: 89, dtype: object}, {'76011': pdq    (1, 3, 4)\n",
      "aic      2997.32\n",
      "Name: 44, dtype: object}, {'76123': pdq    (3, 3, 4)\n",
      "aic      3067.38\n",
      "Name: 94, dtype: object}, {'76140': pdq    (2, 3, 4)\n",
      "aic      2996.57\n",
      "Name: 69, dtype: object}, {'76092': pdq    (4, 3, 4)\n",
      "aic      3467.85\n",
      "Name: 119, dtype: object}, {'76036': pdq    (3, 2, 4)\n",
      "aic      3004.52\n",
      "Name: 89, dtype: object}, {'76002': pdq    (3, 3, 4)\n",
      "aic      2968.11\n",
      "Name: 94, dtype: object}, {'76114': pdq    (0, 3, 4)\n",
      "aic      2987.88\n",
      "Name: 19, dtype: object}, {'76126': pdq    (4, 1, 4)\n",
      "aic      2984.45\n",
      "Name: 109, dtype: object}, {'76034': pdq    (0, 2, 4)\n",
      "aic      3353.84\n",
      "Name: 14, dtype: object}, {'76134': pdq    (0, 3, 4)\n",
      "aic       2864.9\n",
      "Name: 19, dtype: object}, {'76018': pdq    (2, 3, 4)\n",
      "aic       2955.3\n",
      "Name: 69, dtype: object}, {'76148': pdq    (4, 2, 4)\n",
      "aic      2973.11\n",
      "Name: 114, dtype: object}, {'76135': pdq    (3, 1, 4)\n",
      "aic      3010.82\n",
      "Name: 84, dtype: object}, {'76120': pdq    (0, 3, 4)\n",
      "aic      3051.83\n",
      "Name: 19, dtype: object}, {'76105': pdq    (0, 2, 4)\n",
      "aic      3217.72\n",
      "Name: 14, dtype: object}, {'76015': pdq    (3, 2, 4)\n",
      "aic       3065.8\n",
      "Name: 89, dtype: object}, {'76052': pdq    (4, 2, 4)\n",
      "aic      3332.56\n",
      "Name: 114, dtype: object}, {'76111': pdq    (3, 2, 4)\n",
      "aic       3077.7\n",
      "Name: 89, dtype: object}, {'76177': pdq    (4, 3, 4)\n",
      "aic      3150.22\n",
      "Name: 119, dtype: object}, {'76104': pdq    (1, 2, 4)\n",
      "aic      3396.58\n",
      "Name: 39, dtype: object}, {'76022': pdq    (2, 3, 4)\n",
      "aic      2950.81\n",
      "Name: 69, dtype: object}, {'76118': pdq    (1, 3, 4)\n",
      "aic      2967.84\n",
      "Name: 44, dtype: object}, {'76247': pdq    (0, 3, 4)\n",
      "aic      3071.15\n",
      "Name: 19, dtype: object}, {'76103': pdq    (2, 3, 4)\n",
      "aic      3047.06\n",
      "Name: 69, dtype: object}, {'76054': pdq    (1, 2, 4)\n",
      "aic      3090.74\n",
      "Name: 39, dtype: object}, {'76164': pdq    (0, 3, 4)\n",
      "aic      3223.13\n",
      "Name: 19, dtype: object}, {'76060': pdq    (3, 2, 4)\n",
      "aic      3170.34\n",
      "Name: 89, dtype: object}, {'76005': pdq    (3, 3, 4)\n",
      "aic      3571.55\n",
      "Name: 94, dtype: object}]\n"
     ]
    }
   ],
   "source": [
    "best_tarrant_models = []\n",
    "for zc in tqdm_notebook(tarrant_zips, desc='Total Grid Search Progress'):\n",
    "    zip_code, min_result = arima_grid_search(df = df_melted, pdq_range=range(0,5), zip_code=zc)\n",
    "    best_tarrant_models.append({f'{zip_code}': min_result})\n",
    "print(best_tarrant_models)"
   ]
  },
  {
   "cell_type": "markdown",
   "metadata": {},
   "source": [
    "## Model"
   ]
  },
  {
   "cell_type": "code",
   "execution_count": 10,
   "metadata": {
    "ExecuteTime": {
     "end_time": "2020-01-13T20:31:59.473114Z",
     "start_time": "2020-01-13T20:31:37.205055Z"
    }
   },
   "outputs": [
    {
     "data": {
      "text/html": [
       "<div>\n",
       "<style scoped>\n",
       "    .dataframe tbody tr th:only-of-type {\n",
       "        vertical-align: middle;\n",
       "    }\n",
       "\n",
       "    .dataframe tbody tr th {\n",
       "        vertical-align: top;\n",
       "    }\n",
       "\n",
       "    .dataframe thead th {\n",
       "        text-align: right;\n",
       "    }\n",
       "</style>\n",
       "<table border=\"1\" class=\"dataframe\">\n",
       "  <thead>\n",
       "    <tr style=\"text-align: right;\">\n",
       "      <th></th>\n",
       "      <th>MAPE (%)</th>\n",
       "      <th>R^2</th>\n",
       "      <th>pdq</th>\n",
       "    </tr>\n",
       "    <tr>\n",
       "      <th>Zip Code</th>\n",
       "      <th></th>\n",
       "      <th></th>\n",
       "      <th></th>\n",
       "    </tr>\n",
       "  </thead>\n",
       "  <tbody>\n",
       "    <tr>\n",
       "      <td>76040</td>\n",
       "      <td>0.4</td>\n",
       "      <td>0.996</td>\n",
       "      <td>(2, 3, 4)</td>\n",
       "    </tr>\n",
       "    <tr>\n",
       "      <td>76109</td>\n",
       "      <td>0.8</td>\n",
       "      <td>0.950</td>\n",
       "      <td>(3, 2, 4)</td>\n",
       "    </tr>\n",
       "    <tr>\n",
       "      <td>76177</td>\n",
       "      <td>1.0</td>\n",
       "      <td>0.959</td>\n",
       "      <td>(4, 3, 4)</td>\n",
       "    </tr>\n",
       "    <tr>\n",
       "      <td>76017</td>\n",
       "      <td>1.0</td>\n",
       "      <td>0.978</td>\n",
       "      <td>(0, 3, 4)</td>\n",
       "    </tr>\n",
       "    <tr>\n",
       "      <td>76012</td>\n",
       "      <td>1.1</td>\n",
       "      <td>0.973</td>\n",
       "      <td>(0, 3, 4)</td>\n",
       "    </tr>\n",
       "    <tr>\n",
       "      <td>76120</td>\n",
       "      <td>1.7</td>\n",
       "      <td>0.940</td>\n",
       "      <td>(0, 3, 4)</td>\n",
       "    </tr>\n",
       "    <tr>\n",
       "      <td>76063</td>\n",
       "      <td>1.8</td>\n",
       "      <td>0.927</td>\n",
       "      <td>(0, 3, 4)</td>\n",
       "    </tr>\n",
       "    <tr>\n",
       "      <td>76180</td>\n",
       "      <td>1.9</td>\n",
       "      <td>0.948</td>\n",
       "      <td>(1, 3, 4)</td>\n",
       "    </tr>\n",
       "    <tr>\n",
       "      <td>76001</td>\n",
       "      <td>2.0</td>\n",
       "      <td>0.919</td>\n",
       "      <td>(0, 3, 4)</td>\n",
       "    </tr>\n",
       "    <tr>\n",
       "      <td>76133</td>\n",
       "      <td>2.0</td>\n",
       "      <td>0.956</td>\n",
       "      <td>(2, 3, 4)</td>\n",
       "    </tr>\n",
       "    <tr>\n",
       "      <td>76118</td>\n",
       "      <td>2.1</td>\n",
       "      <td>0.940</td>\n",
       "      <td>(1, 3, 4)</td>\n",
       "    </tr>\n",
       "    <tr>\n",
       "      <td>76011</td>\n",
       "      <td>2.6</td>\n",
       "      <td>0.954</td>\n",
       "      <td>(1, 3, 4)</td>\n",
       "    </tr>\n",
       "    <tr>\n",
       "      <td>76052</td>\n",
       "      <td>2.7</td>\n",
       "      <td>0.701</td>\n",
       "      <td>(4, 2, 4)</td>\n",
       "    </tr>\n",
       "    <tr>\n",
       "      <td>76247</td>\n",
       "      <td>3.6</td>\n",
       "      <td>0.765</td>\n",
       "      <td>(0, 3, 4)</td>\n",
       "    </tr>\n",
       "    <tr>\n",
       "      <td>76002</td>\n",
       "      <td>3.9</td>\n",
       "      <td>0.727</td>\n",
       "      <td>(3, 3, 4)</td>\n",
       "    </tr>\n",
       "    <tr>\n",
       "      <td>76016</td>\n",
       "      <td>4.0</td>\n",
       "      <td>0.561</td>\n",
       "      <td>(0, 3, 4)</td>\n",
       "    </tr>\n",
       "    <tr>\n",
       "      <td>76123</td>\n",
       "      <td>4.1</td>\n",
       "      <td>0.560</td>\n",
       "      <td>(3, 3, 4)</td>\n",
       "    </tr>\n",
       "    <tr>\n",
       "      <td>76014</td>\n",
       "      <td>4.6</td>\n",
       "      <td>0.748</td>\n",
       "      <td>(0, 3, 4)</td>\n",
       "    </tr>\n",
       "    <tr>\n",
       "      <td>76034</td>\n",
       "      <td>4.9</td>\n",
       "      <td>-1.251</td>\n",
       "      <td>(0, 2, 4)</td>\n",
       "    </tr>\n",
       "    <tr>\n",
       "      <td>76248</td>\n",
       "      <td>5.4</td>\n",
       "      <td>0.114</td>\n",
       "      <td>(3, 3, 4)</td>\n",
       "    </tr>\n",
       "    <tr>\n",
       "      <td>76060</td>\n",
       "      <td>6.0</td>\n",
       "      <td>0.082</td>\n",
       "      <td>(3, 2, 4)</td>\n",
       "    </tr>\n",
       "    <tr>\n",
       "      <td>76103</td>\n",
       "      <td>6.6</td>\n",
       "      <td>0.438</td>\n",
       "      <td>(2, 3, 4)</td>\n",
       "    </tr>\n",
       "    <tr>\n",
       "      <td>76244</td>\n",
       "      <td>6.7</td>\n",
       "      <td>0.021</td>\n",
       "      <td>(4, 3, 4)</td>\n",
       "    </tr>\n",
       "    <tr>\n",
       "      <td>76148</td>\n",
       "      <td>6.8</td>\n",
       "      <td>0.214</td>\n",
       "      <td>(4, 2, 4)</td>\n",
       "    </tr>\n",
       "    <tr>\n",
       "      <td>76108</td>\n",
       "      <td>7.2</td>\n",
       "      <td>0.003</td>\n",
       "      <td>(0, 3, 4)</td>\n",
       "    </tr>\n",
       "    <tr>\n",
       "      <td>76051</td>\n",
       "      <td>7.5</td>\n",
       "      <td>-0.426</td>\n",
       "      <td>(3, 3, 4)</td>\n",
       "    </tr>\n",
       "    <tr>\n",
       "      <td>76111</td>\n",
       "      <td>7.9</td>\n",
       "      <td>0.329</td>\n",
       "      <td>(3, 2, 4)</td>\n",
       "    </tr>\n",
       "    <tr>\n",
       "      <td>76036</td>\n",
       "      <td>8.5</td>\n",
       "      <td>-1.000</td>\n",
       "      <td>(3, 2, 4)</td>\n",
       "    </tr>\n",
       "    <tr>\n",
       "      <td>76006</td>\n",
       "      <td>9.7</td>\n",
       "      <td>-1.491</td>\n",
       "      <td>(0, 3, 4)</td>\n",
       "    </tr>\n",
       "    <tr>\n",
       "      <td>76013</td>\n",
       "      <td>10.0</td>\n",
       "      <td>-0.501</td>\n",
       "      <td>(4, 3, 4)</td>\n",
       "    </tr>\n",
       "    <tr>\n",
       "      <td>76039</td>\n",
       "      <td>10.0</td>\n",
       "      <td>-1.144</td>\n",
       "      <td>(1, 2, 4)</td>\n",
       "    </tr>\n",
       "    <tr>\n",
       "      <td>76179</td>\n",
       "      <td>10.1</td>\n",
       "      <td>-1.072</td>\n",
       "      <td>(3, 2, 4)</td>\n",
       "    </tr>\n",
       "    <tr>\n",
       "      <td>76126</td>\n",
       "      <td>10.7</td>\n",
       "      <td>-2.404</td>\n",
       "      <td>(4, 1, 4)</td>\n",
       "    </tr>\n",
       "    <tr>\n",
       "      <td>76022</td>\n",
       "      <td>10.7</td>\n",
       "      <td>-0.624</td>\n",
       "      <td>(2, 3, 4)</td>\n",
       "    </tr>\n",
       "    <tr>\n",
       "      <td>76182</td>\n",
       "      <td>10.8</td>\n",
       "      <td>-0.880</td>\n",
       "      <td>(1, 3, 4)</td>\n",
       "    </tr>\n",
       "    <tr>\n",
       "      <td>76117</td>\n",
       "      <td>11.1</td>\n",
       "      <td>0.056</td>\n",
       "      <td>(1, 3, 4)</td>\n",
       "    </tr>\n",
       "    <tr>\n",
       "      <td>76119</td>\n",
       "      <td>12.2</td>\n",
       "      <td>-0.448</td>\n",
       "      <td>(0, 3, 4)</td>\n",
       "    </tr>\n",
       "    <tr>\n",
       "      <td>76105</td>\n",
       "      <td>12.6</td>\n",
       "      <td>-1.354</td>\n",
       "      <td>(0, 2, 4)</td>\n",
       "    </tr>\n",
       "    <tr>\n",
       "      <td>76134</td>\n",
       "      <td>12.7</td>\n",
       "      <td>-0.527</td>\n",
       "      <td>(0, 3, 4)</td>\n",
       "    </tr>\n",
       "    <tr>\n",
       "      <td>76135</td>\n",
       "      <td>12.7</td>\n",
       "      <td>-1.877</td>\n",
       "      <td>(3, 1, 4)</td>\n",
       "    </tr>\n",
       "    <tr>\n",
       "      <td>76005</td>\n",
       "      <td>12.7</td>\n",
       "      <td>-17.188</td>\n",
       "      <td>(3, 3, 4)</td>\n",
       "    </tr>\n",
       "    <tr>\n",
       "      <td>76053</td>\n",
       "      <td>12.8</td>\n",
       "      <td>-1.286</td>\n",
       "      <td>(1, 2, 4)</td>\n",
       "    </tr>\n",
       "    <tr>\n",
       "      <td>76018</td>\n",
       "      <td>13.1</td>\n",
       "      <td>-1.919</td>\n",
       "      <td>(2, 3, 4)</td>\n",
       "    </tr>\n",
       "    <tr>\n",
       "      <td>76015</td>\n",
       "      <td>13.2</td>\n",
       "      <td>-1.280</td>\n",
       "      <td>(3, 2, 4)</td>\n",
       "    </tr>\n",
       "    <tr>\n",
       "      <td>76131</td>\n",
       "      <td>13.2</td>\n",
       "      <td>-2.849</td>\n",
       "      <td>(3, 1, 4)</td>\n",
       "    </tr>\n",
       "    <tr>\n",
       "      <td>76054</td>\n",
       "      <td>13.2</td>\n",
       "      <td>-1.573</td>\n",
       "      <td>(1, 2, 4)</td>\n",
       "    </tr>\n",
       "    <tr>\n",
       "      <td>76132</td>\n",
       "      <td>13.3</td>\n",
       "      <td>-2.792</td>\n",
       "      <td>(4, 3, 4)</td>\n",
       "    </tr>\n",
       "    <tr>\n",
       "      <td>76021</td>\n",
       "      <td>13.5</td>\n",
       "      <td>-1.741</td>\n",
       "      <td>(3, 2, 4)</td>\n",
       "    </tr>\n",
       "    <tr>\n",
       "      <td>76140</td>\n",
       "      <td>13.7</td>\n",
       "      <td>-0.702</td>\n",
       "      <td>(2, 3, 4)</td>\n",
       "    </tr>\n",
       "    <tr>\n",
       "      <td>76010</td>\n",
       "      <td>14.3</td>\n",
       "      <td>-0.433</td>\n",
       "      <td>(1, 3, 4)</td>\n",
       "    </tr>\n",
       "    <tr>\n",
       "      <td>76116</td>\n",
       "      <td>14.6</td>\n",
       "      <td>-2.304</td>\n",
       "      <td>(3, 2, 4)</td>\n",
       "    </tr>\n",
       "    <tr>\n",
       "      <td>76137</td>\n",
       "      <td>14.9</td>\n",
       "      <td>-2.252</td>\n",
       "      <td>(3, 2, 4)</td>\n",
       "    </tr>\n",
       "    <tr>\n",
       "      <td>76114</td>\n",
       "      <td>15.1</td>\n",
       "      <td>-0.738</td>\n",
       "      <td>(0, 3, 4)</td>\n",
       "    </tr>\n",
       "    <tr>\n",
       "      <td>76020</td>\n",
       "      <td>16.2</td>\n",
       "      <td>-2.867</td>\n",
       "      <td>(3, 1, 4)</td>\n",
       "    </tr>\n",
       "    <tr>\n",
       "      <td>76107</td>\n",
       "      <td>16.4</td>\n",
       "      <td>-3.985</td>\n",
       "      <td>(4, 1, 4)</td>\n",
       "    </tr>\n",
       "    <tr>\n",
       "      <td>76112</td>\n",
       "      <td>16.8</td>\n",
       "      <td>-1.197</td>\n",
       "      <td>(0, 3, 4)</td>\n",
       "    </tr>\n",
       "    <tr>\n",
       "      <td>76104</td>\n",
       "      <td>17.5</td>\n",
       "      <td>-2.465</td>\n",
       "      <td>(1, 2, 4)</td>\n",
       "    </tr>\n",
       "    <tr>\n",
       "      <td>76092</td>\n",
       "      <td>18.6</td>\n",
       "      <td>-16.758</td>\n",
       "      <td>(4, 3, 4)</td>\n",
       "    </tr>\n",
       "    <tr>\n",
       "      <td>76164</td>\n",
       "      <td>24.0</td>\n",
       "      <td>-3.140</td>\n",
       "      <td>(0, 3, 4)</td>\n",
       "    </tr>\n",
       "  </tbody>\n",
       "</table>\n",
       "</div>"
      ],
      "text/plain": [
       "          MAPE (%)     R^2        pdq\n",
       "Zip Code                             \n",
       "76040          0.4   0.996  (2, 3, 4)\n",
       "76109          0.8   0.950  (3, 2, 4)\n",
       "76177          1.0   0.959  (4, 3, 4)\n",
       "76017          1.0   0.978  (0, 3, 4)\n",
       "76012          1.1   0.973  (0, 3, 4)\n",
       "76120          1.7   0.940  (0, 3, 4)\n",
       "76063          1.8   0.927  (0, 3, 4)\n",
       "76180          1.9   0.948  (1, 3, 4)\n",
       "76001          2.0   0.919  (0, 3, 4)\n",
       "76133          2.0   0.956  (2, 3, 4)\n",
       "76118          2.1   0.940  (1, 3, 4)\n",
       "76011          2.6   0.954  (1, 3, 4)\n",
       "76052          2.7   0.701  (4, 2, 4)\n",
       "76247          3.6   0.765  (0, 3, 4)\n",
       "76002          3.9   0.727  (3, 3, 4)\n",
       "76016          4.0   0.561  (0, 3, 4)\n",
       "76123          4.1   0.560  (3, 3, 4)\n",
       "76014          4.6   0.748  (0, 3, 4)\n",
       "76034          4.9  -1.251  (0, 2, 4)\n",
       "76248          5.4   0.114  (3, 3, 4)\n",
       "76060          6.0   0.082  (3, 2, 4)\n",
       "76103          6.6   0.438  (2, 3, 4)\n",
       "76244          6.7   0.021  (4, 3, 4)\n",
       "76148          6.8   0.214  (4, 2, 4)\n",
       "76108          7.2   0.003  (0, 3, 4)\n",
       "76051          7.5  -0.426  (3, 3, 4)\n",
       "76111          7.9   0.329  (3, 2, 4)\n",
       "76036          8.5  -1.000  (3, 2, 4)\n",
       "76006          9.7  -1.491  (0, 3, 4)\n",
       "76013         10.0  -0.501  (4, 3, 4)\n",
       "76039         10.0  -1.144  (1, 2, 4)\n",
       "76179         10.1  -1.072  (3, 2, 4)\n",
       "76126         10.7  -2.404  (4, 1, 4)\n",
       "76022         10.7  -0.624  (2, 3, 4)\n",
       "76182         10.8  -0.880  (1, 3, 4)\n",
       "76117         11.1   0.056  (1, 3, 4)\n",
       "76119         12.2  -0.448  (0, 3, 4)\n",
       "76105         12.6  -1.354  (0, 2, 4)\n",
       "76134         12.7  -0.527  (0, 3, 4)\n",
       "76135         12.7  -1.877  (3, 1, 4)\n",
       "76005         12.7 -17.188  (3, 3, 4)\n",
       "76053         12.8  -1.286  (1, 2, 4)\n",
       "76018         13.1  -1.919  (2, 3, 4)\n",
       "76015         13.2  -1.280  (3, 2, 4)\n",
       "76131         13.2  -2.849  (3, 1, 4)\n",
       "76054         13.2  -1.573  (1, 2, 4)\n",
       "76132         13.3  -2.792  (4, 3, 4)\n",
       "76021         13.5  -1.741  (3, 2, 4)\n",
       "76140         13.7  -0.702  (2, 3, 4)\n",
       "76010         14.3  -0.433  (1, 3, 4)\n",
       "76116         14.6  -2.304  (3, 2, 4)\n",
       "76137         14.9  -2.252  (3, 2, 4)\n",
       "76114         15.1  -0.738  (0, 3, 4)\n",
       "76020         16.2  -2.867  (3, 1, 4)\n",
       "76107         16.4  -3.985  (4, 1, 4)\n",
       "76112         16.8  -1.197  (0, 3, 4)\n",
       "76104         17.5  -2.465  (1, 2, 4)\n",
       "76092         18.6 -16.758  (4, 3, 4)\n",
       "76164         24.0  -3.140  (0, 3, 4)"
      ]
     },
     "metadata": {},
     "output_type": "display_data"
    }
   ],
   "source": [
    "# Loop to generate dataframe of all model prediction results, ranked by MAPE (%)\n",
    "\n",
    "df_all_preds = pd.DataFrame([])\n",
    "for i in range(len(best_tarrant_models)):\n",
    "    zip_i = int(list(best_tarrant_models[i].keys())[0])\n",
    "    pdq_i = list(best_tarrant_models[i].values())[0][0]\n",
    "    \n",
    "    summ_i = predict_arima(df=df_melted, zip_code=zip_i, train_end='2015-04', test_begin='2015-05', test_end='2018-04',\n",
    "                  pdq=pdq_i, plot=False)\n",
    "    \n",
    "    df_all_preds = pd.concat([df_all_preds, summ_i], axis=0)\n",
    "    df_preds_ranked = df_all_preds.sort_values('MAPE (%)')\n",
    "df_preds_ranked.set_index('Zip Code', inplace=True)\n",
    "display(df_preds_ranked)\n",
    "    \n"
   ]
  },
  {
   "cell_type": "markdown",
   "metadata": {},
   "source": [
    "## Interpret"
   ]
  },
  {
   "cell_type": "code",
   "execution_count": 11,
   "metadata": {
    "ExecuteTime": {
     "end_time": "2020-01-13T20:32:22.462816Z",
     "start_time": "2020-01-13T20:31:59.474113Z"
    }
   },
   "outputs": [
    {
     "data": {
      "text/html": [
       "<div>\n",
       "<style scoped>\n",
       "    .dataframe tbody tr th:only-of-type {\n",
       "        vertical-align: middle;\n",
       "    }\n",
       "\n",
       "    .dataframe tbody tr th {\n",
       "        vertical-align: top;\n",
       "    }\n",
       "\n",
       "    .dataframe thead th {\n",
       "        text-align: right;\n",
       "    }\n",
       "</style>\n",
       "<table border=\"1\" class=\"dataframe\">\n",
       "  <thead>\n",
       "    <tr style=\"text-align: right;\">\n",
       "      <th></th>\n",
       "      <th>Forecast ROI (%)</th>\n",
       "      <th>L 95 ROI (%)</th>\n",
       "      <th>H 95 ROI (%)</th>\n",
       "      <th>95 CL Size (%)</th>\n",
       "    </tr>\n",
       "    <tr>\n",
       "      <th>Zip Code</th>\n",
       "      <th></th>\n",
       "      <th></th>\n",
       "      <th></th>\n",
       "      <th></th>\n",
       "    </tr>\n",
       "  </thead>\n",
       "  <tbody>\n",
       "    <tr>\n",
       "      <td>76114</td>\n",
       "      <td>92.5</td>\n",
       "      <td>58.9</td>\n",
       "      <td>126.2</td>\n",
       "      <td>67.3</td>\n",
       "    </tr>\n",
       "    <tr>\n",
       "      <td>76103</td>\n",
       "      <td>73.5</td>\n",
       "      <td>46.2</td>\n",
       "      <td>100.8</td>\n",
       "      <td>54.6</td>\n",
       "    </tr>\n",
       "    <tr>\n",
       "      <td>76164</td>\n",
       "      <td>65.0</td>\n",
       "      <td>19.0</td>\n",
       "      <td>111.0</td>\n",
       "      <td>92.0</td>\n",
       "    </tr>\n",
       "    <tr>\n",
       "      <td>76111</td>\n",
       "      <td>44.8</td>\n",
       "      <td>18.2</td>\n",
       "      <td>71.5</td>\n",
       "      <td>53.3</td>\n",
       "    </tr>\n",
       "    <tr>\n",
       "      <td>76040</td>\n",
       "      <td>43.6</td>\n",
       "      <td>26.4</td>\n",
       "      <td>60.8</td>\n",
       "      <td>34.4</td>\n",
       "    </tr>\n",
       "    <tr>\n",
       "      <td>76148</td>\n",
       "      <td>41.6</td>\n",
       "      <td>21.9</td>\n",
       "      <td>61.3</td>\n",
       "      <td>39.4</td>\n",
       "    </tr>\n",
       "    <tr>\n",
       "      <td>76010</td>\n",
       "      <td>41.2</td>\n",
       "      <td>11.2</td>\n",
       "      <td>71.2</td>\n",
       "      <td>60.0</td>\n",
       "    </tr>\n",
       "    <tr>\n",
       "      <td>76119</td>\n",
       "      <td>40.4</td>\n",
       "      <td>7.6</td>\n",
       "      <td>73.1</td>\n",
       "      <td>65.5</td>\n",
       "    </tr>\n",
       "    <tr>\n",
       "      <td>76140</td>\n",
       "      <td>34.3</td>\n",
       "      <td>10.0</td>\n",
       "      <td>58.6</td>\n",
       "      <td>48.6</td>\n",
       "    </tr>\n",
       "    <tr>\n",
       "      <td>76117</td>\n",
       "      <td>34.3</td>\n",
       "      <td>7.3</td>\n",
       "      <td>61.4</td>\n",
       "      <td>54.1</td>\n",
       "    </tr>\n",
       "    <tr>\n",
       "      <td>76133</td>\n",
       "      <td>34.1</td>\n",
       "      <td>-10.2</td>\n",
       "      <td>78.4</td>\n",
       "      <td>88.6</td>\n",
       "    </tr>\n",
       "    <tr>\n",
       "      <td>76112</td>\n",
       "      <td>33.4</td>\n",
       "      <td>3.1</td>\n",
       "      <td>63.7</td>\n",
       "      <td>60.6</td>\n",
       "    </tr>\n",
       "    <tr>\n",
       "      <td>76014</td>\n",
       "      <td>30.1</td>\n",
       "      <td>0.2</td>\n",
       "      <td>59.9</td>\n",
       "      <td>59.7</td>\n",
       "    </tr>\n",
       "    <tr>\n",
       "      <td>76012</td>\n",
       "      <td>30.0</td>\n",
       "      <td>-12.2</td>\n",
       "      <td>72.3</td>\n",
       "      <td>84.5</td>\n",
       "    </tr>\n",
       "    <tr>\n",
       "      <td>76002</td>\n",
       "      <td>29.7</td>\n",
       "      <td>7.5</td>\n",
       "      <td>52.0</td>\n",
       "      <td>44.5</td>\n",
       "    </tr>\n",
       "    <tr>\n",
       "      <td>76022</td>\n",
       "      <td>27.6</td>\n",
       "      <td>5.8</td>\n",
       "      <td>49.3</td>\n",
       "      <td>43.5</td>\n",
       "    </tr>\n",
       "    <tr>\n",
       "      <td>76018</td>\n",
       "      <td>27.6</td>\n",
       "      <td>5.1</td>\n",
       "      <td>50.2</td>\n",
       "      <td>45.1</td>\n",
       "    </tr>\n",
       "    <tr>\n",
       "      <td>76134</td>\n",
       "      <td>27.4</td>\n",
       "      <td>3.3</td>\n",
       "      <td>51.5</td>\n",
       "      <td>48.2</td>\n",
       "    </tr>\n",
       "    <tr>\n",
       "      <td>76036</td>\n",
       "      <td>27.1</td>\n",
       "      <td>10.8</td>\n",
       "      <td>43.3</td>\n",
       "      <td>32.5</td>\n",
       "    </tr>\n",
       "    <tr>\n",
       "      <td>76180</td>\n",
       "      <td>27.0</td>\n",
       "      <td>5.5</td>\n",
       "      <td>48.5</td>\n",
       "      <td>43.0</td>\n",
       "    </tr>\n",
       "    <tr>\n",
       "      <td>76109</td>\n",
       "      <td>27.0</td>\n",
       "      <td>-15.5</td>\n",
       "      <td>69.6</td>\n",
       "      <td>85.1</td>\n",
       "    </tr>\n",
       "    <tr>\n",
       "      <td>76039</td>\n",
       "      <td>26.6</td>\n",
       "      <td>11.4</td>\n",
       "      <td>41.9</td>\n",
       "      <td>30.5</td>\n",
       "    </tr>\n",
       "    <tr>\n",
       "      <td>76118</td>\n",
       "      <td>25.8</td>\n",
       "      <td>3.6</td>\n",
       "      <td>48.1</td>\n",
       "      <td>44.5</td>\n",
       "    </tr>\n",
       "    <tr>\n",
       "      <td>76015</td>\n",
       "      <td>25.8</td>\n",
       "      <td>6.8</td>\n",
       "      <td>44.7</td>\n",
       "      <td>37.9</td>\n",
       "    </tr>\n",
       "    <tr>\n",
       "      <td>76108</td>\n",
       "      <td>25.8</td>\n",
       "      <td>-5.8</td>\n",
       "      <td>57.3</td>\n",
       "      <td>63.1</td>\n",
       "    </tr>\n",
       "    <tr>\n",
       "      <td>76116</td>\n",
       "      <td>25.6</td>\n",
       "      <td>8.1</td>\n",
       "      <td>43.1</td>\n",
       "      <td>35.0</td>\n",
       "    </tr>\n",
       "    <tr>\n",
       "      <td>76105</td>\n",
       "      <td>25.4</td>\n",
       "      <td>-1.1</td>\n",
       "      <td>51.9</td>\n",
       "      <td>53.0</td>\n",
       "    </tr>\n",
       "    <tr>\n",
       "      <td>76011</td>\n",
       "      <td>25.0</td>\n",
       "      <td>1.2</td>\n",
       "      <td>48.8</td>\n",
       "      <td>47.6</td>\n",
       "    </tr>\n",
       "    <tr>\n",
       "      <td>76247</td>\n",
       "      <td>24.6</td>\n",
       "      <td>-5.9</td>\n",
       "      <td>55.1</td>\n",
       "      <td>61.0</td>\n",
       "    </tr>\n",
       "    <tr>\n",
       "      <td>76016</td>\n",
       "      <td>23.1</td>\n",
       "      <td>5.8</td>\n",
       "      <td>40.4</td>\n",
       "      <td>34.6</td>\n",
       "    </tr>\n",
       "    <tr>\n",
       "      <td>76001</td>\n",
       "      <td>22.4</td>\n",
       "      <td>-2.8</td>\n",
       "      <td>47.6</td>\n",
       "      <td>50.4</td>\n",
       "    </tr>\n",
       "    <tr>\n",
       "      <td>76123</td>\n",
       "      <td>21.7</td>\n",
       "      <td>-24.3</td>\n",
       "      <td>67.7</td>\n",
       "      <td>92.0</td>\n",
       "    </tr>\n",
       "    <tr>\n",
       "      <td>76137</td>\n",
       "      <td>21.7</td>\n",
       "      <td>5.5</td>\n",
       "      <td>37.8</td>\n",
       "      <td>32.3</td>\n",
       "    </tr>\n",
       "    <tr>\n",
       "      <td>76017</td>\n",
       "      <td>21.6</td>\n",
       "      <td>-2.7</td>\n",
       "      <td>46.0</td>\n",
       "      <td>48.7</td>\n",
       "    </tr>\n",
       "    <tr>\n",
       "      <td>76248</td>\n",
       "      <td>20.6</td>\n",
       "      <td>-6.5</td>\n",
       "      <td>47.8</td>\n",
       "      <td>54.3</td>\n",
       "    </tr>\n",
       "    <tr>\n",
       "      <td>76053</td>\n",
       "      <td>20.4</td>\n",
       "      <td>-10.9</td>\n",
       "      <td>51.7</td>\n",
       "      <td>62.6</td>\n",
       "    </tr>\n",
       "    <tr>\n",
       "      <td>76179</td>\n",
       "      <td>19.4</td>\n",
       "      <td>3.9</td>\n",
       "      <td>35.0</td>\n",
       "      <td>31.1</td>\n",
       "    </tr>\n",
       "    <tr>\n",
       "      <td>76006</td>\n",
       "      <td>19.3</td>\n",
       "      <td>-2.8</td>\n",
       "      <td>41.3</td>\n",
       "      <td>44.1</td>\n",
       "    </tr>\n",
       "    <tr>\n",
       "      <td>76051</td>\n",
       "      <td>19.2</td>\n",
       "      <td>-5.2</td>\n",
       "      <td>43.6</td>\n",
       "      <td>48.8</td>\n",
       "    </tr>\n",
       "    <tr>\n",
       "      <td>76060</td>\n",
       "      <td>19.2</td>\n",
       "      <td>1.5</td>\n",
       "      <td>36.9</td>\n",
       "      <td>35.4</td>\n",
       "    </tr>\n",
       "    <tr>\n",
       "      <td>76021</td>\n",
       "      <td>18.6</td>\n",
       "      <td>4.0</td>\n",
       "      <td>33.3</td>\n",
       "      <td>29.3</td>\n",
       "    </tr>\n",
       "    <tr>\n",
       "      <td>76182</td>\n",
       "      <td>18.5</td>\n",
       "      <td>3.8</td>\n",
       "      <td>33.2</td>\n",
       "      <td>29.4</td>\n",
       "    </tr>\n",
       "    <tr>\n",
       "      <td>76054</td>\n",
       "      <td>18.0</td>\n",
       "      <td>1.0</td>\n",
       "      <td>34.9</td>\n",
       "      <td>33.9</td>\n",
       "    </tr>\n",
       "    <tr>\n",
       "      <td>76120</td>\n",
       "      <td>14.7</td>\n",
       "      <td>-16.7</td>\n",
       "      <td>46.1</td>\n",
       "      <td>62.8</td>\n",
       "    </tr>\n",
       "    <tr>\n",
       "      <td>76034</td>\n",
       "      <td>14.3</td>\n",
       "      <td>-7.9</td>\n",
       "      <td>36.5</td>\n",
       "      <td>44.4</td>\n",
       "    </tr>\n",
       "    <tr>\n",
       "      <td>76052</td>\n",
       "      <td>13.8</td>\n",
       "      <td>-14.6</td>\n",
       "      <td>42.1</td>\n",
       "      <td>56.7</td>\n",
       "    </tr>\n",
       "    <tr>\n",
       "      <td>76013</td>\n",
       "      <td>11.0</td>\n",
       "      <td>-30.9</td>\n",
       "      <td>52.9</td>\n",
       "      <td>83.8</td>\n",
       "    </tr>\n",
       "    <tr>\n",
       "      <td>76063</td>\n",
       "      <td>10.9</td>\n",
       "      <td>-21.6</td>\n",
       "      <td>43.4</td>\n",
       "      <td>65.0</td>\n",
       "    </tr>\n",
       "    <tr>\n",
       "      <td>76104</td>\n",
       "      <td>7.1</td>\n",
       "      <td>-12.4</td>\n",
       "      <td>26.7</td>\n",
       "      <td>39.1</td>\n",
       "    </tr>\n",
       "    <tr>\n",
       "      <td>76126</td>\n",
       "      <td>6.0</td>\n",
       "      <td>-9.2</td>\n",
       "      <td>21.3</td>\n",
       "      <td>30.5</td>\n",
       "    </tr>\n",
       "    <tr>\n",
       "      <td>76244</td>\n",
       "      <td>5.4</td>\n",
       "      <td>-27.7</td>\n",
       "      <td>38.6</td>\n",
       "      <td>66.3</td>\n",
       "    </tr>\n",
       "    <tr>\n",
       "      <td>76132</td>\n",
       "      <td>2.6</td>\n",
       "      <td>-55.1</td>\n",
       "      <td>60.4</td>\n",
       "      <td>115.5</td>\n",
       "    </tr>\n",
       "    <tr>\n",
       "      <td>76177</td>\n",
       "      <td>1.7</td>\n",
       "      <td>-46.9</td>\n",
       "      <td>50.3</td>\n",
       "      <td>97.2</td>\n",
       "    </tr>\n",
       "    <tr>\n",
       "      <td>76135</td>\n",
       "      <td>1.6</td>\n",
       "      <td>-17.4</td>\n",
       "      <td>20.7</td>\n",
       "      <td>38.1</td>\n",
       "    </tr>\n",
       "    <tr>\n",
       "      <td>76131</td>\n",
       "      <td>1.5</td>\n",
       "      <td>-12.6</td>\n",
       "      <td>15.5</td>\n",
       "      <td>28.1</td>\n",
       "    </tr>\n",
       "    <tr>\n",
       "      <td>76020</td>\n",
       "      <td>0.8</td>\n",
       "      <td>-16.4</td>\n",
       "      <td>18.0</td>\n",
       "      <td>34.4</td>\n",
       "    </tr>\n",
       "    <tr>\n",
       "      <td>76092</td>\n",
       "      <td>0.2</td>\n",
       "      <td>-28.7</td>\n",
       "      <td>29.0</td>\n",
       "      <td>57.7</td>\n",
       "    </tr>\n",
       "    <tr>\n",
       "      <td>76107</td>\n",
       "      <td>-0.5</td>\n",
       "      <td>-18.0</td>\n",
       "      <td>17.1</td>\n",
       "      <td>35.1</td>\n",
       "    </tr>\n",
       "    <tr>\n",
       "      <td>76005</td>\n",
       "      <td>-6.7</td>\n",
       "      <td>-74.3</td>\n",
       "      <td>61.0</td>\n",
       "      <td>135.3</td>\n",
       "    </tr>\n",
       "  </tbody>\n",
       "</table>\n",
       "</div>"
      ],
      "text/plain": [
       "          Forecast ROI (%)  L 95 ROI (%)  H 95 ROI (%)  95 CL Size (%)\n",
       "Zip Code                                                              \n",
       "76114                 92.5          58.9         126.2            67.3\n",
       "76103                 73.5          46.2         100.8            54.6\n",
       "76164                 65.0          19.0         111.0            92.0\n",
       "76111                 44.8          18.2          71.5            53.3\n",
       "76040                 43.6          26.4          60.8            34.4\n",
       "76148                 41.6          21.9          61.3            39.4\n",
       "76010                 41.2          11.2          71.2            60.0\n",
       "76119                 40.4           7.6          73.1            65.5\n",
       "76140                 34.3          10.0          58.6            48.6\n",
       "76117                 34.3           7.3          61.4            54.1\n",
       "76133                 34.1         -10.2          78.4            88.6\n",
       "76112                 33.4           3.1          63.7            60.6\n",
       "76014                 30.1           0.2          59.9            59.7\n",
       "76012                 30.0         -12.2          72.3            84.5\n",
       "76002                 29.7           7.5          52.0            44.5\n",
       "76022                 27.6           5.8          49.3            43.5\n",
       "76018                 27.6           5.1          50.2            45.1\n",
       "76134                 27.4           3.3          51.5            48.2\n",
       "76036                 27.1          10.8          43.3            32.5\n",
       "76180                 27.0           5.5          48.5            43.0\n",
       "76109                 27.0         -15.5          69.6            85.1\n",
       "76039                 26.6          11.4          41.9            30.5\n",
       "76118                 25.8           3.6          48.1            44.5\n",
       "76015                 25.8           6.8          44.7            37.9\n",
       "76108                 25.8          -5.8          57.3            63.1\n",
       "76116                 25.6           8.1          43.1            35.0\n",
       "76105                 25.4          -1.1          51.9            53.0\n",
       "76011                 25.0           1.2          48.8            47.6\n",
       "76247                 24.6          -5.9          55.1            61.0\n",
       "76016                 23.1           5.8          40.4            34.6\n",
       "76001                 22.4          -2.8          47.6            50.4\n",
       "76123                 21.7         -24.3          67.7            92.0\n",
       "76137                 21.7           5.5          37.8            32.3\n",
       "76017                 21.6          -2.7          46.0            48.7\n",
       "76248                 20.6          -6.5          47.8            54.3\n",
       "76053                 20.4         -10.9          51.7            62.6\n",
       "76179                 19.4           3.9          35.0            31.1\n",
       "76006                 19.3          -2.8          41.3            44.1\n",
       "76051                 19.2          -5.2          43.6            48.8\n",
       "76060                 19.2           1.5          36.9            35.4\n",
       "76021                 18.6           4.0          33.3            29.3\n",
       "76182                 18.5           3.8          33.2            29.4\n",
       "76054                 18.0           1.0          34.9            33.9\n",
       "76120                 14.7         -16.7          46.1            62.8\n",
       "76034                 14.3          -7.9          36.5            44.4\n",
       "76052                 13.8         -14.6          42.1            56.7\n",
       "76013                 11.0         -30.9          52.9            83.8\n",
       "76063                 10.9         -21.6          43.4            65.0\n",
       "76104                  7.1         -12.4          26.7            39.1\n",
       "76126                  6.0          -9.2          21.3            30.5\n",
       "76244                  5.4         -27.7          38.6            66.3\n",
       "76132                  2.6         -55.1          60.4           115.5\n",
       "76177                  1.7         -46.9          50.3            97.2\n",
       "76135                  1.6         -17.4          20.7            38.1\n",
       "76131                  1.5         -12.6          15.5            28.1\n",
       "76020                  0.8         -16.4          18.0            34.4\n",
       "76092                  0.2         -28.7          29.0            57.7\n",
       "76107                 -0.5         -18.0          17.1            35.1\n",
       "76005                 -6.7         -74.3          61.0           135.3"
      ]
     },
     "metadata": {},
     "output_type": "display_data"
    }
   ],
   "source": [
    "# Loop to generate dataframe of all model forecast results, ranked by ROI (%)\n",
    "\n",
    "df_all_fcs = pd.DataFrame([])\n",
    "for i in range(len(best_tarrant_models)):\n",
    "    zip_i = int(list(best_tarrant_models[i].keys())[0])\n",
    "    pdq_i = list(best_tarrant_models[i].values())[0][0]\n",
    "    \n",
    "    fc_sum_i = forecast_arima(df=df_melted, zip_code=zip_i, forecast_begin='2018-05', forecast_end='2021-04', \n",
    "                              pdq=pdq_i, plot=False)\n",
    "    \n",
    "    df_all_fcs = pd.concat([df_all_fcs, fc_sum_i], axis=0)\n",
    "    df_fcs_ranked = df_all_fcs.sort_values('Forecast ROI (%)', ascending=False)\n",
    "df_fcs_ranked.set_index('Zip Code', inplace=True)\n",
    "display(df_fcs_ranked)"
   ]
  },
  {
   "cell_type": "code",
   "execution_count": 17,
   "metadata": {
    "ExecuteTime": {
     "end_time": "2020-01-13T20:32:51.058854Z",
     "start_time": "2020-01-13T20:32:51.019963Z"
    }
   },
   "outputs": [
    {
     "data": {
      "text/html": [
       "<div>\n",
       "<style scoped>\n",
       "    .dataframe tbody tr th:only-of-type {\n",
       "        vertical-align: middle;\n",
       "    }\n",
       "\n",
       "    .dataframe tbody tr th {\n",
       "        vertical-align: top;\n",
       "    }\n",
       "\n",
       "    .dataframe thead th {\n",
       "        text-align: right;\n",
       "    }\n",
       "</style>\n",
       "<table border=\"1\" class=\"dataframe\">\n",
       "  <thead>\n",
       "    <tr style=\"text-align: right;\">\n",
       "      <th></th>\n",
       "      <th>MAPE (%)</th>\n",
       "      <th>R^2</th>\n",
       "      <th>pdq</th>\n",
       "      <th>Forecast ROI (%)</th>\n",
       "      <th>L 95 ROI (%)</th>\n",
       "      <th>H 95 ROI (%)</th>\n",
       "      <th>95 CL Size (%)</th>\n",
       "      <th>inv_score</th>\n",
       "    </tr>\n",
       "    <tr>\n",
       "      <th>Zip Code</th>\n",
       "      <th></th>\n",
       "      <th></th>\n",
       "      <th></th>\n",
       "      <th></th>\n",
       "      <th></th>\n",
       "      <th></th>\n",
       "      <th></th>\n",
       "      <th></th>\n",
       "    </tr>\n",
       "  </thead>\n",
       "  <tbody>\n",
       "    <tr>\n",
       "      <td>76040</td>\n",
       "      <td>0.4</td>\n",
       "      <td>0.996</td>\n",
       "      <td>(2, 3, 4)</td>\n",
       "      <td>43.6</td>\n",
       "      <td>26.4</td>\n",
       "      <td>60.8</td>\n",
       "      <td>34.4</td>\n",
       "      <td>3.168605</td>\n",
       "    </tr>\n",
       "    <tr>\n",
       "      <td>76017</td>\n",
       "      <td>1.0</td>\n",
       "      <td>0.978</td>\n",
       "      <td>(0, 3, 4)</td>\n",
       "      <td>21.6</td>\n",
       "      <td>-2.7</td>\n",
       "      <td>46.0</td>\n",
       "      <td>48.7</td>\n",
       "      <td>0.443532</td>\n",
       "    </tr>\n",
       "    <tr>\n",
       "      <td>76109</td>\n",
       "      <td>0.8</td>\n",
       "      <td>0.950</td>\n",
       "      <td>(3, 2, 4)</td>\n",
       "      <td>27.0</td>\n",
       "      <td>-15.5</td>\n",
       "      <td>69.6</td>\n",
       "      <td>85.1</td>\n",
       "      <td>0.396592</td>\n",
       "    </tr>\n",
       "    <tr>\n",
       "      <td>76180</td>\n",
       "      <td>1.9</td>\n",
       "      <td>0.948</td>\n",
       "      <td>(1, 3, 4)</td>\n",
       "      <td>27.0</td>\n",
       "      <td>5.5</td>\n",
       "      <td>48.5</td>\n",
       "      <td>43.0</td>\n",
       "      <td>0.330477</td>\n",
       "    </tr>\n",
       "    <tr>\n",
       "      <td>76012</td>\n",
       "      <td>1.1</td>\n",
       "      <td>0.973</td>\n",
       "      <td>(0, 3, 4)</td>\n",
       "      <td>30.0</td>\n",
       "      <td>-12.2</td>\n",
       "      <td>72.3</td>\n",
       "      <td>84.5</td>\n",
       "      <td>0.322754</td>\n",
       "    </tr>\n",
       "  </tbody>\n",
       "</table>\n",
       "</div>"
      ],
      "text/plain": [
       "          MAPE (%)    R^2        pdq  ...  H 95 ROI (%)  95 CL Size (%)  inv_score\n",
       "Zip Code                              ...                                         \n",
       "76040          0.4  0.996  (2, 3, 4)  ...          60.8            34.4   3.168605\n",
       "76017          1.0  0.978  (0, 3, 4)  ...          46.0            48.7   0.443532\n",
       "76109          0.8  0.950  (3, 2, 4)  ...          69.6            85.1   0.396592\n",
       "76180          1.9  0.948  (1, 3, 4)  ...          48.5            43.0   0.330477\n",
       "76012          1.1  0.973  (0, 3, 4)  ...          72.3            84.5   0.322754\n",
       "\n",
       "[5 rows x 8 columns]"
      ]
     },
     "metadata": {},
     "output_type": "display_data"
    },
    {
     "data": {
      "text/html": [
       "<div>\n",
       "<style scoped>\n",
       "    .dataframe tbody tr th:only-of-type {\n",
       "        vertical-align: middle;\n",
       "    }\n",
       "\n",
       "    .dataframe tbody tr th {\n",
       "        vertical-align: top;\n",
       "    }\n",
       "\n",
       "    .dataframe thead th {\n",
       "        text-align: right;\n",
       "    }\n",
       "</style>\n",
       "<table border=\"1\" class=\"dataframe\">\n",
       "  <thead>\n",
       "    <tr style=\"text-align: right;\">\n",
       "      <th></th>\n",
       "      <th>MAPE (%)</th>\n",
       "      <th>R^2</th>\n",
       "      <th>pdq</th>\n",
       "      <th>Forecast ROI (%)</th>\n",
       "      <th>L 95 ROI (%)</th>\n",
       "      <th>H 95 ROI (%)</th>\n",
       "      <th>95 CL Size (%)</th>\n",
       "      <th>inv_score</th>\n",
       "    </tr>\n",
       "    <tr>\n",
       "      <th>Zip Code</th>\n",
       "      <th></th>\n",
       "      <th></th>\n",
       "      <th></th>\n",
       "      <th></th>\n",
       "      <th></th>\n",
       "      <th></th>\n",
       "      <th></th>\n",
       "      <th></th>\n",
       "    </tr>\n",
       "  </thead>\n",
       "  <tbody>\n",
       "    <tr>\n",
       "      <td>76132</td>\n",
       "      <td>13.3</td>\n",
       "      <td>-2.792</td>\n",
       "      <td>(4, 3, 4)</td>\n",
       "      <td>2.6</td>\n",
       "      <td>-55.1</td>\n",
       "      <td>60.4</td>\n",
       "      <td>115.5</td>\n",
       "      <td>0.001693</td>\n",
       "    </tr>\n",
       "    <tr>\n",
       "      <td>76020</td>\n",
       "      <td>16.2</td>\n",
       "      <td>-2.867</td>\n",
       "      <td>(3, 1, 4)</td>\n",
       "      <td>0.8</td>\n",
       "      <td>-16.4</td>\n",
       "      <td>18.0</td>\n",
       "      <td>34.4</td>\n",
       "      <td>0.001436</td>\n",
       "    </tr>\n",
       "    <tr>\n",
       "      <td>76092</td>\n",
       "      <td>18.6</td>\n",
       "      <td>-16.758</td>\n",
       "      <td>(4, 3, 4)</td>\n",
       "      <td>0.2</td>\n",
       "      <td>-28.7</td>\n",
       "      <td>29.0</td>\n",
       "      <td>57.7</td>\n",
       "      <td>0.000186</td>\n",
       "    </tr>\n",
       "    <tr>\n",
       "      <td>76107</td>\n",
       "      <td>16.4</td>\n",
       "      <td>-3.985</td>\n",
       "      <td>(4, 1, 4)</td>\n",
       "      <td>-0.5</td>\n",
       "      <td>-18.0</td>\n",
       "      <td>17.1</td>\n",
       "      <td>35.1</td>\n",
       "      <td>-0.000869</td>\n",
       "    </tr>\n",
       "    <tr>\n",
       "      <td>76005</td>\n",
       "      <td>12.7</td>\n",
       "      <td>-17.188</td>\n",
       "      <td>(3, 3, 4)</td>\n",
       "      <td>-6.7</td>\n",
       "      <td>-74.3</td>\n",
       "      <td>61.0</td>\n",
       "      <td>135.3</td>\n",
       "      <td>-0.003899</td>\n",
       "    </tr>\n",
       "  </tbody>\n",
       "</table>\n",
       "</div>"
      ],
      "text/plain": [
       "          MAPE (%)     R^2        pdq  ...  H 95 ROI (%)  95 CL Size (%)  inv_score\n",
       "Zip Code                               ...                                         \n",
       "76132         13.3  -2.792  (4, 3, 4)  ...          60.4           115.5   0.001693\n",
       "76020         16.2  -2.867  (3, 1, 4)  ...          18.0            34.4   0.001436\n",
       "76092         18.6 -16.758  (4, 3, 4)  ...          29.0            57.7   0.000186\n",
       "76107         16.4  -3.985  (4, 1, 4)  ...          17.1            35.1  -0.000869\n",
       "76005         12.7 -17.188  (3, 3, 4)  ...          61.0           135.3  -0.003899\n",
       "\n",
       "[5 rows x 8 columns]"
      ]
     },
     "metadata": {},
     "output_type": "display_data"
    }
   ],
   "source": [
    "df_pred_fc = df_preds_ranked.join(df_fcs_ranked, on='Zip Code')\n",
    "df_pred_fc['inv_score'] = df_pred_fc['Forecast ROI (%)'] / (df_pred_fc['MAPE (%)'] * df_pred_fc['95 CL Size (%)'])\n",
    "\n",
    "df_pred_fc.sort_values('inv_score', ascending=False, inplace=True)\n",
    "top_5_zips = df_pred_fc[:5]\n",
    "display(top_5_zips)\n",
    "\n",
    "worst_5_zips = df_pred_fc[-5:]\n",
    "display(worst_5_zips)"
   ]
  },
  {
   "cell_type": "code",
   "execution_count": 13,
   "metadata": {
    "ExecuteTime": {
     "end_time": "2020-01-13T20:32:24.992886Z",
     "start_time": "2020-01-13T20:32:22.494327Z"
    }
   },
   "outputs": [
    {
     "data": {
      "image/png": "[encoded data removed]",
      "text/plain": [
       "<Figure size 576x360 with 1 Axes>"
      ]
     },
     "metadata": {
      "needs_background": "light"
     },
     "output_type": "display_data"
    },
    {
     "data": {
      "image/png": "[encoded data removed]",
      "text/plain": [
       "<Figure size 576x360 with 1 Axes>"
      ]
     },
     "metadata": {
      "needs_background": "light"
     },
     "output_type": "display_data"
    },
    {
     "data": {
      "image/png": "[encoded data removed]",
      "text/plain": [
       "<Figure size 576x360 with 1 Axes>"
      ]
     },
     "metadata": {
      "needs_background": "light"
     },
     "output_type": "display_data"
    },
    {
     "data": {
      "image/png": "[encoded data removed]",
      "text/plain": [
       "<Figure size 576x360 with 1 Axes>"
      ]
     },
     "metadata": {
      "needs_background": "light"
     },
     "output_type": "display_data"
    },
    {
     "data": {
      "image/png": "[encoded data removed]",
      "text/plain": [
       "<Figure size 576x360 with 1 Axes>"
      ]
     },
     "metadata": {
      "needs_background": "light"
     },
     "output_type": "display_data"
    }
   ],
   "source": [
    "# Get the arima prediction graphs for the top 5 zip codes\n",
    "for i, row in top_5_zips.iterrows():\n",
    "    predict_arima(df=df_melted, zip_code=int(i), train_end='2015-04', test_begin='2015-05', test_end='2018-04', \n",
    "                  pdq=row['pdq'], plot=True)"
   ]
  },
  {
   "cell_type": "code",
   "execution_count": 14,
   "metadata": {
    "ExecuteTime": {
     "end_time": "2020-01-13T20:32:27.423400Z",
     "start_time": "2020-01-13T20:32:24.993853Z"
    }
   },
   "outputs": [
    {
     "data": {
      "image/png": "[encoded data removed]",
      "text/plain": [
       "<Figure size 576x360 with 1 Axes>"
      ]
     },
     "metadata": {
      "needs_background": "light"
     },
     "output_type": "display_data"
    },
    {
     "data": {
      "image/png": "[encoded data removed]",
      "text/plain": [
       "<Figure size 576x360 with 1 Axes>"
      ]
     },
     "metadata": {
      "needs_background": "light"
     },
     "output_type": "display_data"
    },
    {
     "data": {
      "image/png": "[encoded data removed]",
      "text/plain": [
       "<Figure size 576x360 with 1 Axes>"
      ]
     },
     "metadata": {
      "needs_background": "light"
     },
     "output_type": "display_data"
    },
    {
     "data": {
      "image/png": "[encoded data removed]",
      "text/plain": [
       "<Figure size 576x360 with 1 Axes>"
      ]
     },
     "metadata": {
      "needs_background": "light"
     },
     "output_type": "display_data"
    },
    {
     "data": {
      "image/png": "[encoded data removed]",
      "text/plain": [
       "<Figure size 576x360 with 1 Axes>"
      ]
     },
     "metadata": {
      "needs_background": "light"
     },
     "output_type": "display_data"
    }
   ],
   "source": [
    "# Get the 3 year arima forecasts for the top 5 zip codes\n",
    "for i, row in top_5_zips.iterrows():\n",
    "    forecast_arima(df=df_melted, zip_code=int(i), forecast_begin='2018-05', forecast_end='2021-04', \n",
    "                   pdq=row['pdq'], plot=True)"
   ]
  },
  {
   "cell_type": "code",
   "execution_count": 15,
   "metadata": {
    "ExecuteTime": {
     "end_time": "2020-01-13T20:32:30.301173Z",
     "start_time": "2020-01-13T20:32:27.425417Z"
    }
   },
   "outputs": [
    {
     "data": {
      "image/png": "[encoded data removed]",
      "text/plain": [
       "<Figure size 576x360 with 1 Axes>"
      ]
     },
     "metadata": {
      "needs_background": "light"
     },
     "output_type": "display_data"
    },
    {
     "data": {
      "image/png": "[encoded data removed]",
      "text/plain": [
       "<Figure size 576x360 with 1 Axes>"
      ]
     },
     "metadata": {
      "needs_background": "light"
     },
     "output_type": "display_data"
    },
    {
     "data": {
      "image/png": "[encoded data removed]",
      "text/plain": [
       "<Figure size 576x360 with 1 Axes>"
      ]
     },
     "metadata": {
      "needs_background": "light"
     },
     "output_type": "display_data"
    },
    {
     "data": {
      "image/png": "[encoded data removed]",
      "text/plain": [
       "<Figure size 576x360 with 1 Axes>"
      ]
     },
     "metadata": {
      "needs_background": "light"
     },
     "output_type": "display_data"
    },
    {
     "data": {
      "image/png": "[encoded data removed]",
      "text/plain": [
       "<Figure size 576x360 with 1 Axes>"
      ]
     },
     "metadata": {
      "needs_background": "light"
     },
     "output_type": "display_data"
    }
   ],
   "source": [
    "# Get the arima prediction graphs for the worst 5 zip codes\n",
    "for i, row in worst_5_zips.iterrows():\n",
    "    predict_arima(df=df_melted, zip_code=int(i), train_end='2015-04', test_begin='2015-05', test_end='2018-04', \n",
    "                  pdq=row['pdq'], plot=True)"
   ]
  },
  {
   "cell_type": "code",
   "execution_count": 16,
   "metadata": {
    "ExecuteTime": {
     "end_time": "2020-01-13T20:32:33.547863Z",
     "start_time": "2020-01-13T20:32:30.302171Z"
    }
   },
   "outputs": [
    {
     "data": {
      "image/png": "[encoded data removed]",
      "text/plain": [
       "<Figure size 576x360 with 1 Axes>"
      ]
     },
     "metadata": {
      "needs_background": "light"
     },
     "output_type": "display_data"
    },
    {
     "data": {
      "image/png": "[encoded data removed]",
      "text/plain": [
       "<Figure size 576x360 with 1 Axes>"
      ]
     },
     "metadata": {
      "needs_background": "light"
     },
     "output_type": "display_data"
    },
    {
     "data": {
      "image/png": "[encoded data removed]",
      "text/plain": [
       "<Figure size 576x360 with 1 Axes>"
      ]
     },
     "metadata": {
      "needs_background": "light"
     },
     "output_type": "display_data"
    },
    {
     "data": {
      "image/png": "[encoded data removed]",
      "text/plain": [
       "<Figure size 576x360 with 1 Axes>"
      ]
     },
     "metadata": {
      "needs_background": "light"
     },
     "output_type": "display_data"
    },
    {
     "data": {
      "image/png": "[encoded data removed]",
      "text/plain": [
       "<Figure size 576x360 with 1 Axes>"
      ]
     },
     "metadata": {
      "needs_background": "light"
     },
     "output_type": "display_data"
    }
   ],
   "source": [
    "# Get the 3 year arima forecasts for the top 5 zip codes\n",
    "for i, row in worst_5_zips.iterrows():\n",
    "    forecast_arima(df=df_melted, zip_code=int(i), forecast_begin='2018-05', forecast_end='2021-04', \n",
    "                   pdq=row['pdq'], plot=True)"
   ]
  }
 ],
 "metadata": {
  "kernelspec": {
   "display_name": "learn-env",
   "language": "python",
   "name": "learn-env"
  },
  "language_info": {
   "codemirror_mode": {
    "name": "ipython",
    "version": 3
   },
   "file_extension": ".py",
   "mimetype": "text/x-python",
   "name": "python",
   "nbconvert_exporter": "python",
   "pygments_lexer": "ipython3",
   "version": "3.6.9"
  },
  "toc": {
   "base_numbering": 1,
   "nav_menu": {},
   "number_sections": true,
   "sideBar": true,
   "skip_h1_title": true,
   "title_cell": "Table of Contents",
   "title_sidebar": "Contents",
   "toc_cell": false,
   "toc_position": {},
   "toc_section_display": true,
   "toc_window_display": true
  },
  "varInspector": {
   "cols": {
    "lenName": 16,
    "lenType": 16,
    "lenVar": 40
   },
   "kernels_config": {
    "python": {
     "delete_cmd_postfix": "",
     "delete_cmd_prefix": "del ",
     "library": "var_list.py",
     "varRefreshCmd": "print(var_dic_list())"
    },
    "r": {
     "delete_cmd_postfix": ") ",
     "delete_cmd_prefix": "rm(",
     "library": "var_list.r",
     "varRefreshCmd": "cat(var_dic_list()) "
    }
   },
   "types_to_exclude": [
    "module",
    "function",
    "builtin_function_or_method",
    "instance",
    "_Feature"
   ],
   "window_display": false
  }
 },
 "nbformat": 4,
 "nbformat_minor": 2
}
