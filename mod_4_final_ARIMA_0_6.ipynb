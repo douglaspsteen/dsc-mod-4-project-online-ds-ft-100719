{
 "cells": [
  {
   "cell_type": "markdown",
   "metadata": {},
   "source": [
    "# Mod 4 Project: Zillow Housing Data Time Series Modeling & Forecasting\n",
    "\n",
    "Student: Doug Steen\n",
    "\n",
    "Instructor: James Irving, PhD\n",
    "\n",
    "Cohort: ds_ft_10072019\n",
    "\n",
    "Project Review Date: ______________"
   ]
  },
  {
   "cell_type": "markdown",
   "metadata": {},
   "source": [
    "## Background & Purpose"
   ]
  },
  {
   "cell_type": "markdown",
   "metadata": {},
   "source": [
    "A fictional real estate investment company has requested assistance with the following question:\n",
    "\n",
    "- What are the five best zip codes to invest in?\n",
    "\n",
    "For this study, I am using a Zillow Housing Dataset, obtained from Zillow's research page (https://www.zillow.com/research/data/). The raw dataset is located in this repository ('zillow_data.csv'). This dataset contains monthly average home values for nearly every zip code in the U.S., with most zip codes having data from 1996 - 2018.\n",
    "\n",
    "### Target Region: Tarrant County, TX\n",
    "\n",
    "The scope of this analysis is limited to the zip codes in Tarrant County, Texas which have available measurements for the full data range (1996 - 2018). Tarrant County encompasses the western portion of the Dallas-Fort Worth (DFW) Metroplex, and most notably contains the cities of Fort Worth and Arlington.\n",
    "    \n",
    "### Method\n",
    "\n",
    "Modeling and forecasting of home values using ARIMA (Auto-regressive Integrated Moving Average) time series analysis techniques.\n",
    "\n",
    "### Selection Criteria:\n",
    "\n",
    "The five 'best' zip codes for investment in Tarrant County will be selected based on the following criteria:\n",
    "    \n",
    "-3 year forecasted return on investment (ROI)\n",
    "    \n",
    "-Confidence interval of the ROI forecast\n",
    "    \n",
    "-Quality of model prediction using a train-test split of Zillow data\n",
    "\n"
   ]
  },
  {
   "cell_type": "markdown",
   "metadata": {},
   "source": [
    "## Import Libraries / Packages"
   ]
  },
  {
   "cell_type": "code",
   "execution_count": 1,
   "metadata": {
    "ExecuteTime": {
     "end_time": "2020-01-13T18:39:39.921398Z",
     "start_time": "2020-01-13T18:39:38.431473Z"
    }
   },
   "outputs": [
    {
     "name": "stdout",
     "output_type": "stream",
     "text": [
      "fsds_1007219  v0.6.4 loaded.  Read the docs: https://fsds.readthedocs.io/en/latest/ \n"
     ]
    },
    {
     "data": {
      "text/html": [
       "<style  type=\"text/css\" >\n",
       "</style><table id=\"T_0e53bed8_3634_11ea_9b87_24ee9a2cffaf\" ><caption>Loaded Packages and Handles</caption><thead>    <tr>        <th class=\"col_heading level0 col0\" >Handle</th>        <th class=\"col_heading level0 col1\" >Package</th>        <th class=\"col_heading level0 col2\" >Description</th>    </tr></thead><tbody>\n",
       "                <tr>\n",
       "                                <td id=\"T_0e53bed8_3634_11ea_9b87_24ee9a2cffafrow0_col0\" class=\"data row0 col0\" >dp</td>\n",
       "                        <td id=\"T_0e53bed8_3634_11ea_9b87_24ee9a2cffafrow0_col1\" class=\"data row0 col1\" >IPython.display</td>\n",
       "                        <td id=\"T_0e53bed8_3634_11ea_9b87_24ee9a2cffafrow0_col2\" class=\"data row0 col2\" >Display modules with helpful display and clearing commands.</td>\n",
       "            </tr>\n",
       "            <tr>\n",
       "                                <td id=\"T_0e53bed8_3634_11ea_9b87_24ee9a2cffafrow1_col0\" class=\"data row1 col0\" >fs</td>\n",
       "                        <td id=\"T_0e53bed8_3634_11ea_9b87_24ee9a2cffafrow1_col1\" class=\"data row1 col1\" >fsds_100719</td>\n",
       "                        <td id=\"T_0e53bed8_3634_11ea_9b87_24ee9a2cffafrow1_col2\" class=\"data row1 col2\" >Custom data science bootcamp student package</td>\n",
       "            </tr>\n",
       "            <tr>\n",
       "                                <td id=\"T_0e53bed8_3634_11ea_9b87_24ee9a2cffafrow2_col0\" class=\"data row2 col0\" >mpl</td>\n",
       "                        <td id=\"T_0e53bed8_3634_11ea_9b87_24ee9a2cffafrow2_col1\" class=\"data row2 col1\" >matplotlib</td>\n",
       "                        <td id=\"T_0e53bed8_3634_11ea_9b87_24ee9a2cffafrow2_col2\" class=\"data row2 col2\" >Matplotlib's base OOP module with formatting artists</td>\n",
       "            </tr>\n",
       "            <tr>\n",
       "                                <td id=\"T_0e53bed8_3634_11ea_9b87_24ee9a2cffafrow3_col0\" class=\"data row3 col0\" >plt</td>\n",
       "                        <td id=\"T_0e53bed8_3634_11ea_9b87_24ee9a2cffafrow3_col1\" class=\"data row3 col1\" >matplotlib.pyplot</td>\n",
       "                        <td id=\"T_0e53bed8_3634_11ea_9b87_24ee9a2cffafrow3_col2\" class=\"data row3 col2\" >Matplotlib's matlab-like plotting module</td>\n",
       "            </tr>\n",
       "            <tr>\n",
       "                                <td id=\"T_0e53bed8_3634_11ea_9b87_24ee9a2cffafrow4_col0\" class=\"data row4 col0\" >np</td>\n",
       "                        <td id=\"T_0e53bed8_3634_11ea_9b87_24ee9a2cffafrow4_col1\" class=\"data row4 col1\" >numpy</td>\n",
       "                        <td id=\"T_0e53bed8_3634_11ea_9b87_24ee9a2cffafrow4_col2\" class=\"data row4 col2\" >scientific computing with Python</td>\n",
       "            </tr>\n",
       "            <tr>\n",
       "                                <td id=\"T_0e53bed8_3634_11ea_9b87_24ee9a2cffafrow5_col0\" class=\"data row5 col0\" >pd</td>\n",
       "                        <td id=\"T_0e53bed8_3634_11ea_9b87_24ee9a2cffafrow5_col1\" class=\"data row5 col1\" >pandas</td>\n",
       "                        <td id=\"T_0e53bed8_3634_11ea_9b87_24ee9a2cffafrow5_col2\" class=\"data row5 col2\" >High performance data structures and tools</td>\n",
       "            </tr>\n",
       "            <tr>\n",
       "                                <td id=\"T_0e53bed8_3634_11ea_9b87_24ee9a2cffafrow6_col0\" class=\"data row6 col0\" >sns</td>\n",
       "                        <td id=\"T_0e53bed8_3634_11ea_9b87_24ee9a2cffafrow6_col1\" class=\"data row6 col1\" >seaborn</td>\n",
       "                        <td id=\"T_0e53bed8_3634_11ea_9b87_24ee9a2cffafrow6_col2\" class=\"data row6 col2\" >High-level data visualization library based on matplotlib</td>\n",
       "            </tr>\n",
       "    </tbody></table>"
      ],
      "text/plain": [
       "<pandas.io.formats.style.Styler at 0x2962b3fdb00>"
      ]
     },
     "metadata": {},
     "output_type": "display_data"
    }
   ],
   "source": [
    "# Import cohort package\n",
    "#!pip install -U fsds_100719\n",
    "from fsds_100719.imports import *\n",
    "import itertools\n",
    "import statsmodels.api as sm\n",
    "from tqdm import tqdm_notebook\n",
    "\n",
    "# Display all columns of large dataframes\n",
    "pd.set_option('display.max_columns',0)\n",
    "\n",
    "# Ignore warnings\n",
    "import warnings\n",
    "warnings.filterwarnings('ignore')\n",
    "\n",
    "# Set default plot style\n",
    "plt.style.use('seaborn-darkgrid')\n",
    "%matplotlib inline"
   ]
  },
  {
   "cell_type": "markdown",
   "metadata": {},
   "source": [
    "## Functions"
   ]
  },
  {
   "cell_type": "code",
   "execution_count": 2,
   "metadata": {
    "ExecuteTime": {
     "end_time": "2020-01-13T18:39:39.979208Z",
     "start_time": "2020-01-13T18:39:39.923387Z"
    }
   },
   "outputs": [],
   "source": [
    "def melt_data(df): #formerly called it melt_data_student with REED\n",
    "   \n",
    "    melted = pd.melt(df, id_vars=['RegionID','RegionName', 'City', 'State', 'Metro', 'CountyName', \n",
    "                                  'SizeRank'], var_name='Month', value_name='MeanValue')\n",
    "    melted['Month'] = pd.to_datetime(melted['Month'], format='%Y-%m')\n",
    "    melted = melted.dropna(subset=['MeanValue'])\n",
    "    \n",
    "    return melted\n",
    "\n",
    "\n",
    "def arima_grid_search(df, zip_code, pdq_range = range(0,4), seasonal=False, train_test=True, \n",
    "                      train_end='2015-04', show_iters=False):\n",
    "\n",
    "    # Define the p, d and q parameters to take any value within the specified range\n",
    "    p = d = q = pdq_range\n",
    "    \n",
    "    # Generate all different combinations of p, q and q triplets\n",
    "    pdq = list(itertools.product(p,d,q))\n",
    "    \n",
    "    # Get only time series object for specified zip code\n",
    "    df_zip = df.loc[df['RegionName'] == zip_code]\n",
    "\n",
    "    ts_zip = df_zip.drop(['RegionID', 'RegionName', 'City', 'State', 'Metro', 'CountyName', 'SizeRank'], axis=1)\n",
    "\n",
    "    ts_zip.set_index('Month', inplace=True)\n",
    "    \n",
    "    # If arima model is being fit as part of a train-test split, define correct training interval\n",
    "    if train_test:\n",
    "            ts_zip = ts_zip[:train_end]\n",
    "    \n",
    "    results = []\n",
    "    \n",
    "    if seasonal == False:\n",
    "        for i in tqdm_notebook(pdq, desc=f'{zip_code} Grid Search Progress'):\n",
    "            model = sm.tsa.SARIMAX(ts_zip, order=i,enforce_stationarity=False,\n",
    "                                         enforce_invertibility=False)\n",
    "            out = model.fit()\n",
    "            aic = out.aic\n",
    "            results.append([i, aic])\n",
    "            if show_iters == True:\n",
    "                print([i, aic])\n",
    "        results_df = pd.DataFrame(results, columns=['pdq', 'aic'])\n",
    "        min_result = results_df.loc[results_df['aic'].idxmin()]\n",
    "        return zip_code, min_result\n",
    "    else:\n",
    "        pdqs = [(x[0], x[1], x[2], 12) for x in pdq]\n",
    "        for i in tqdm_notebook(pdq, desc=f'{zip_code} Grid Search Loop Progress'):\n",
    "            for j in tqdm_notebook(pdqs, desc=f'{zip_code} Grid Search Sub-Loop Progress'):\n",
    "                model = sm.tsa.SARIMAX(ts_zip, order=i, seasonal_order=j, enforce_stationarity=False,\n",
    "                                         enforce_invertibility=False)\n",
    "                out = model.fit()\n",
    "                aic = out.aic\n",
    "                results.append([i, j, aic])\n",
    "                if show_iters == True:\n",
    "                    print([i, j, aic])\n",
    "        results_df = pd.DataFrame(results, columns=['pdq', 'pdqs', 'aic'])\n",
    "        min_result = results_df.loc[results_df['aic'].idxmin()]\n",
    "        return zip_code, min_result\n",
    "    \n",
    "\n",
    "def predict_arima(df, zip_code, train_end, test_begin, test_end, pdq, plot=False):\n",
    "    \"\"\"Fits an ARIMA model to training data and makes a prediction on testing data for a given zip code. Returns MAPE\n",
    "    and R^2 of model test predictions.\n",
    "    \n",
    "    Parameters\n",
    "    ----------\n",
    "    df : pandas dataframe\n",
    "        Dataframe containing desired time series data for all zip codes\n",
    "    zip code : int\n",
    "        Desired zip code for model fit and prediction\n",
    "    train_end : str\n",
    "        Date to signify end of training (model fit) portion (Assumed that training data is at beginning of ts)\n",
    "    test_begin : str\n",
    "        Date to signify beginning of test portion (Model predictions will begin with this date to end of time series)\n",
    "    test_end : str\n",
    "        Date to signify end of test portion (Model predictions will end with this date in time series)\n",
    "    pdq : tuple\n",
    "        Tuple of the form (p, d, q) to serve as ARIMA model parameters\n",
    "    plot : bool\n",
    "        If True, returns plot of time series and model prediction with 95% conf interval\n",
    "        (Default = False)\n",
    "    \n",
    "    Returns\n",
    "    -------\n",
    "    \n",
    "    \"\"\"\n",
    "    import statsmodels.api as sm\n",
    "    from sklearn.metrics import r2_score\n",
    "    \n",
    "    # Get only time series object for specified zip code\n",
    "    df_zip = df.loc[df['RegionName'] == zip_code]\n",
    "\n",
    "    ts_zip = df_zip.drop(['RegionID', 'RegionName', 'City', 'State', 'Metro', 'CountyName', 'SizeRank'], axis=1)\n",
    "\n",
    "    ts_zip.set_index('Month', inplace=True)\n",
    "    \n",
    "    # Define train and test subsets of time series\n",
    "    ts_zip_train = ts_zip.loc[:train_end]\n",
    "    ts_zip_test = ts_zip.loc[test_begin:]\n",
    "    \n",
    "    mod = sm.tsa.SARIMAX(ts_zip_train, order=pdq, enforce_stationarity=False,\n",
    "                                 enforce_invertibility=False)\n",
    "\n",
    "    output = mod.fit()\n",
    "    \n",
    "    # Get predictions for test portion of data\n",
    "    pred_test = output.get_prediction(start=test_begin, end=test_end)\n",
    "    pred_conf = pred_test.conf_int()\n",
    "    \n",
    "    # Model prediction performance on test data\n",
    "    y_hat_test = pred_test.predicted_mean.values\n",
    "\n",
    "    y_test = ts_zip_test.values.ravel()\n",
    "    \n",
    "    # Creating train-test prediction plot with conf interval if plot is selected\n",
    "    if plot == True:\n",
    "        \n",
    "        plt.rcParams[\"figure.figsize\"] = [8,5]\n",
    "        ax = ts_zip.plot(color='black')\n",
    "        pred_test.predicted_mean.plot(ax=ax, label='Test Prediction', alpha=.9, color='red')\n",
    "        ax.fill_between(pred_conf.index,\n",
    "                pred_conf.iloc[:, 0],\n",
    "                pred_conf.iloc[:, 1], color='red', alpha=.1, label='95% Conf. Int.')\n",
    "        ax.set_xlabel('Date')\n",
    "        ax.set_ylabel('Mean Home Value ($)')\n",
    "        plt.legend(loc=2)\n",
    "        plt.title(f'Model Prediction for {zip_code}: {test_begin} - {test_end}')\n",
    "        plt.show();\n",
    "        \n",
    "    # MAPE : Mean Absolute Percentage Error\n",
    "    mape = round(np.sum(abs((np.subtract(y_test, y_hat_test) / y_test))) / len(y_test), 3)\n",
    "\n",
    "    # R^2 Score\n",
    "    r2 = round(r2_score(y_test, y_hat_test), 3)\n",
    "\n",
    "    model_val_summary = pd.DataFrame(columns = ['Zip Code', 'MAPE (%)', 'R^2'])\n",
    "\n",
    "    model_val_summary = model_val_summary.append({'Zip Code': str(zip_code), 'pdq': pdq, \n",
    "                                                  'MAPE (%)': mape*100, 'R^2': r2}, ignore_index=True)\n",
    "\n",
    "    return model_val_summary\n",
    "\n",
    "def forecast_arima(df, zip_code, forecast_begin, forecast_end, pdq, plot=False):\n",
    "    \n",
    "    import statsmodels.api as sm\n",
    "    \n",
    "     # Get only time series object for specified zip code\n",
    "    df_zip = df.loc[df['RegionName'] == zip_code]\n",
    "\n",
    "    ts_zip = df_zip.drop(['RegionID', 'RegionName', 'City', 'State', 'Metro', 'CountyName', 'SizeRank'], axis=1)\n",
    "\n",
    "    ts_zip.set_index('Month', inplace=True)\n",
    "    \n",
    "    ts_zip.index = pd.DatetimeIndex(ts_zip.index.values,\n",
    "                               freq='MS')\n",
    "    \n",
    "    # Generate forecast arima model object\n",
    "    fc_model = sm.tsa.SARIMAX(ts_zip, order=pdq, enforce_stationarity=False,\n",
    "                                 enforce_invertibility=False)\n",
    "    \n",
    "    # Fit model\n",
    "    fc_output = fc_model.fit()\n",
    "    \n",
    "    # Obtain model forecast for desired time period, and confidence interval\n",
    "    forecast = fc_output.get_prediction(start=forecast_begin, end=forecast_end)\n",
    "    fc_conf = forecast.conf_int()\n",
    "    \n",
    "    # Creating forecast plot with conf interval if plot is selected\n",
    "    if plot == True:\n",
    "        \n",
    "        plt.rcParams[\"figure.figsize\"] = [8,5]\n",
    "        ax = ts_zip.plot(color='black')\n",
    "        forecast.predicted_mean.plot(ax=ax, label='Forecast Prediction', alpha=.9, color='green')\n",
    "        ax.fill_between(fc_conf.index,\n",
    "                fc_conf.iloc[:, 0],\n",
    "                fc_conf.iloc[:, 1], color='green', alpha=.1, label='95% Conf. Int.')\n",
    "        ax.set_xlabel('Date')\n",
    "        ax.set_ylabel('Mean Home Value ($)')\n",
    "        plt.legend(loc=2)\n",
    "        plt.title(f'Model Forecast for {zip_code}: {forecast_begin} - {forecast_end}')\n",
    "        plt.show();\n",
    "    \n",
    "    # Calculate 3 year ROI for the forecast\n",
    "    # Initial value\n",
    "    init_val = ts_zip.values[-1]\n",
    "\n",
    "    # Final forecasted value after 3 year forecast\n",
    "    f_val = forecast.predicted_mean[-1]\n",
    "\n",
    "    ROI = np.round(((f_val - init_val) / init_val)[0], 3)\n",
    "\n",
    "    # Calculate lower & upper 95% confidence ROI values\n",
    "\n",
    "    # lower bound\n",
    "    l_f_val = fc_conf['lower MeanValue'][-1]\n",
    "\n",
    "    low_ROI = np.round(((l_f_val - init_val) / init_val)[0], 3)\n",
    "\n",
    "    # upper bound\n",
    "    u_f_val = fc_conf['upper MeanValue'][-1]\n",
    "\n",
    "    high_ROI = np.round(((u_f_val - init_val) / init_val)[0], 3)\n",
    "\n",
    "    # Size of 95% CL\n",
    "\n",
    "    size_cl = np.round(high_ROI - low_ROI, 3)\n",
    "\n",
    "    ROI_summary = pd.DataFrame(columns = ['Zip Code', 'Forecast ROI (%)', 'L 95 ROI (%)', 'H 95 ROI (%)', '95 CL Size (%)'])\n",
    "\n",
    "    ROI_summary = ROI_summary.append({'Zip Code': str(zip_code), 'Forecast ROI (%)': ROI*100, 'L 95 ROI (%)': low_ROI*100, \n",
    "                                      'H 95 ROI (%)': high_ROI*100, '95 CL Size (%)': size_cl*100}, ignore_index=True)\n",
    "\n",
    "    return ROI_summary"
   ]
  },
  {
   "cell_type": "code",
   "execution_count": null,
   "metadata": {},
   "outputs": [],
   "source": []
  },
  {
   "cell_type": "markdown",
   "metadata": {},
   "source": [
    "## Obtain / Scrub\n",
    "-Load Zillow dataset\n",
    "\n",
    "-Reshape data from Wide Format to Long Format\n",
    "\n",
    "-Subset dataframe for zip codes in Tarrant County, TX containing data in the full range (1996-2018)"
   ]
  },
  {
   "cell_type": "code",
   "execution_count": 3,
   "metadata": {
    "ExecuteTime": {
     "end_time": "2020-01-13T18:39:40.352022Z",
     "start_time": "2020-01-13T18:39:39.980782Z"
    }
   },
   "outputs": [],
   "source": [
    "# Load Zillow data\n",
    "df = pd.read_csv('zillow_data.csv')"
   ]
  },
  {
   "cell_type": "code",
   "execution_count": 4,
   "metadata": {
    "ExecuteTime": {
     "end_time": "2020-01-13T18:39:40.452744Z",
     "start_time": "2020-01-13T18:39:40.353020Z"
    }
   },
   "outputs": [
    {
     "data": {
      "text/html": [
       "<div>\n",
       "<style scoped>\n",
       "    .dataframe tbody tr th:only-of-type {\n",
       "        vertical-align: middle;\n",
       "    }\n",
       "\n",
       "    .dataframe tbody tr th {\n",
       "        vertical-align: top;\n",
       "    }\n",
       "\n",
       "    .dataframe thead th {\n",
       "        text-align: right;\n",
       "    }\n",
       "</style>\n",
       "<table border=\"1\" class=\"dataframe\">\n",
       "  <thead>\n",
       "    <tr style=\"text-align: right;\">\n",
       "      <th></th>\n",
       "      <th>RegionID</th>\n",
       "      <th>RegionName</th>\n",
       "      <th>City</th>\n",
       "      <th>State</th>\n",
       "      <th>Metro</th>\n",
       "      <th>CountyName</th>\n",
       "      <th>SizeRank</th>\n",
       "      <th>1996-04</th>\n",
       "      <th>1996-05</th>\n",
       "      <th>1996-06</th>\n",
       "      <th>1996-07</th>\n",
       "      <th>1996-08</th>\n",
       "      <th>1996-09</th>\n",
       "      <th>1996-10</th>\n",
       "      <th>1996-11</th>\n",
       "      <th>1996-12</th>\n",
       "      <th>1997-01</th>\n",
       "      <th>1997-02</th>\n",
       "      <th>1997-03</th>\n",
       "      <th>1997-04</th>\n",
       "      <th>1997-05</th>\n",
       "      <th>1997-06</th>\n",
       "      <th>1997-07</th>\n",
       "      <th>1997-08</th>\n",
       "      <th>1997-09</th>\n",
       "      <th>1997-10</th>\n",
       "      <th>1997-11</th>\n",
       "      <th>1997-12</th>\n",
       "      <th>1998-01</th>\n",
       "      <th>1998-02</th>\n",
       "      <th>1998-03</th>\n",
       "      <th>1998-04</th>\n",
       "      <th>1998-05</th>\n",
       "      <th>1998-06</th>\n",
       "      <th>1998-07</th>\n",
       "      <th>1998-08</th>\n",
       "      <th>1998-09</th>\n",
       "      <th>1998-10</th>\n",
       "      <th>1998-11</th>\n",
       "      <th>1998-12</th>\n",
       "      <th>...</th>\n",
       "      <th>2015-01</th>\n",
       "      <th>2015-02</th>\n",
       "      <th>2015-03</th>\n",
       "      <th>2015-04</th>\n",
       "      <th>2015-05</th>\n",
       "      <th>2015-06</th>\n",
       "      <th>2015-07</th>\n",
       "      <th>2015-08</th>\n",
       "      <th>2015-09</th>\n",
       "      <th>2015-10</th>\n",
       "      <th>2015-11</th>\n",
       "      <th>2015-12</th>\n",
       "      <th>2016-01</th>\n",
       "      <th>2016-02</th>\n",
       "      <th>2016-03</th>\n",
       "      <th>2016-04</th>\n",
       "      <th>2016-05</th>\n",
       "      <th>2016-06</th>\n",
       "      <th>2016-07</th>\n",
       "      <th>2016-08</th>\n",
       "      <th>2016-09</th>\n",
       "      <th>2016-10</th>\n",
       "      <th>2016-11</th>\n",
       "      <th>2016-12</th>\n",
       "      <th>2017-01</th>\n",
       "      <th>2017-02</th>\n",
       "      <th>2017-03</th>\n",
       "      <th>2017-04</th>\n",
       "      <th>2017-05</th>\n",
       "      <th>2017-06</th>\n",
       "      <th>2017-07</th>\n",
       "      <th>2017-08</th>\n",
       "      <th>2017-09</th>\n",
       "      <th>2017-10</th>\n",
       "      <th>2017-11</th>\n",
       "      <th>2017-12</th>\n",
       "      <th>2018-01</th>\n",
       "      <th>2018-02</th>\n",
       "      <th>2018-03</th>\n",
       "      <th>2018-04</th>\n",
       "    </tr>\n",
       "  </thead>\n",
       "  <tbody>\n",
       "    <tr>\n",
       "      <td>153</td>\n",
       "      <td>91221</td>\n",
       "      <td>76063</td>\n",
       "      <td>Mansfield</td>\n",
       "      <td>TX</td>\n",
       "      <td>Dallas-Fort Worth</td>\n",
       "      <td>Tarrant</td>\n",
       "      <td>154</td>\n",
       "      <td>148100.0</td>\n",
       "      <td>148000.0</td>\n",
       "      <td>147800.0</td>\n",
       "      <td>147700.0</td>\n",
       "      <td>147500.0</td>\n",
       "      <td>147400.0</td>\n",
       "      <td>147300.0</td>\n",
       "      <td>147200.0</td>\n",
       "      <td>147200.0</td>\n",
       "      <td>147100.0</td>\n",
       "      <td>147100.0</td>\n",
       "      <td>147200.0</td>\n",
       "      <td>147500.0</td>\n",
       "      <td>147800.0</td>\n",
       "      <td>148400.0</td>\n",
       "      <td>149000.0</td>\n",
       "      <td>149700.0</td>\n",
       "      <td>150500.0</td>\n",
       "      <td>151300.0</td>\n",
       "      <td>152100.0</td>\n",
       "      <td>152800.0</td>\n",
       "      <td>153400.0</td>\n",
       "      <td>153800.0</td>\n",
       "      <td>154100.0</td>\n",
       "      <td>154500.0</td>\n",
       "      <td>154800.0</td>\n",
       "      <td>155100.0</td>\n",
       "      <td>155300.0</td>\n",
       "      <td>155600.0</td>\n",
       "      <td>155900.0</td>\n",
       "      <td>156200.0</td>\n",
       "      <td>156800.0</td>\n",
       "      <td>157600.0</td>\n",
       "      <td>...</td>\n",
       "      <td>198300</td>\n",
       "      <td>199300</td>\n",
       "      <td>200300</td>\n",
       "      <td>201800</td>\n",
       "      <td>203900</td>\n",
       "      <td>206100</td>\n",
       "      <td>208100</td>\n",
       "      <td>209900</td>\n",
       "      <td>211800</td>\n",
       "      <td>214400</td>\n",
       "      <td>217200</td>\n",
       "      <td>219900</td>\n",
       "      <td>223100</td>\n",
       "      <td>226200</td>\n",
       "      <td>228500</td>\n",
       "      <td>229800</td>\n",
       "      <td>231000</td>\n",
       "      <td>232600</td>\n",
       "      <td>234500</td>\n",
       "      <td>237100</td>\n",
       "      <td>239800</td>\n",
       "      <td>242000</td>\n",
       "      <td>243900</td>\n",
       "      <td>245700</td>\n",
       "      <td>247200</td>\n",
       "      <td>248400</td>\n",
       "      <td>249600</td>\n",
       "      <td>251000</td>\n",
       "      <td>252700</td>\n",
       "      <td>254900</td>\n",
       "      <td>257200</td>\n",
       "      <td>258700</td>\n",
       "      <td>259000</td>\n",
       "      <td>259600</td>\n",
       "      <td>260200</td>\n",
       "      <td>261100</td>\n",
       "      <td>262200</td>\n",
       "      <td>264100</td>\n",
       "      <td>266500</td>\n",
       "      <td>267800</td>\n",
       "    </tr>\n",
       "    <tr>\n",
       "      <td>170</td>\n",
       "      <td>91325</td>\n",
       "      <td>76244</td>\n",
       "      <td>Fort Worth</td>\n",
       "      <td>TX</td>\n",
       "      <td>Dallas-Fort Worth</td>\n",
       "      <td>Tarrant</td>\n",
       "      <td>171</td>\n",
       "      <td>139800.0</td>\n",
       "      <td>140100.0</td>\n",
       "      <td>140700.0</td>\n",
       "      <td>141500.0</td>\n",
       "      <td>142300.0</td>\n",
       "      <td>143100.0</td>\n",
       "      <td>143800.0</td>\n",
       "      <td>144600.0</td>\n",
       "      <td>145200.0</td>\n",
       "      <td>145700.0</td>\n",
       "      <td>146400.0</td>\n",
       "      <td>147500.0</td>\n",
       "      <td>148800.0</td>\n",
       "      <td>150300.0</td>\n",
       "      <td>152000.0</td>\n",
       "      <td>153800.0</td>\n",
       "      <td>155600.0</td>\n",
       "      <td>157600.0</td>\n",
       "      <td>159700.0</td>\n",
       "      <td>162100.0</td>\n",
       "      <td>164800.0</td>\n",
       "      <td>167500.0</td>\n",
       "      <td>170200.0</td>\n",
       "      <td>172500.0</td>\n",
       "      <td>174200.0</td>\n",
       "      <td>175000.0</td>\n",
       "      <td>175000.0</td>\n",
       "      <td>174600.0</td>\n",
       "      <td>174200.0</td>\n",
       "      <td>174300.0</td>\n",
       "      <td>175300.0</td>\n",
       "      <td>177300.0</td>\n",
       "      <td>180100.0</td>\n",
       "      <td>...</td>\n",
       "      <td>191800</td>\n",
       "      <td>193000</td>\n",
       "      <td>193900</td>\n",
       "      <td>194600</td>\n",
       "      <td>196200</td>\n",
       "      <td>198600</td>\n",
       "      <td>200800</td>\n",
       "      <td>203000</td>\n",
       "      <td>205500</td>\n",
       "      <td>207700</td>\n",
       "      <td>209200</td>\n",
       "      <td>210700</td>\n",
       "      <td>212600</td>\n",
       "      <td>214700</td>\n",
       "      <td>216700</td>\n",
       "      <td>218900</td>\n",
       "      <td>220900</td>\n",
       "      <td>222500</td>\n",
       "      <td>224400</td>\n",
       "      <td>226500</td>\n",
       "      <td>228500</td>\n",
       "      <td>230100</td>\n",
       "      <td>231600</td>\n",
       "      <td>233100</td>\n",
       "      <td>234900</td>\n",
       "      <td>236700</td>\n",
       "      <td>238400</td>\n",
       "      <td>240100</td>\n",
       "      <td>241700</td>\n",
       "      <td>243600</td>\n",
       "      <td>245600</td>\n",
       "      <td>246700</td>\n",
       "      <td>246700</td>\n",
       "      <td>247500</td>\n",
       "      <td>248500</td>\n",
       "      <td>249700</td>\n",
       "      <td>250300</td>\n",
       "      <td>251000</td>\n",
       "      <td>251400</td>\n",
       "      <td>251300</td>\n",
       "    </tr>\n",
       "    <tr>\n",
       "      <td>335</td>\n",
       "      <td>91261</td>\n",
       "      <td>76116</td>\n",
       "      <td>Fort Worth</td>\n",
       "      <td>TX</td>\n",
       "      <td>Dallas-Fort Worth</td>\n",
       "      <td>Tarrant</td>\n",
       "      <td>336</td>\n",
       "      <td>85800.0</td>\n",
       "      <td>86100.0</td>\n",
       "      <td>86500.0</td>\n",
       "      <td>87000.0</td>\n",
       "      <td>87500.0</td>\n",
       "      <td>88000.0</td>\n",
       "      <td>88400.0</td>\n",
       "      <td>88800.0</td>\n",
       "      <td>89000.0</td>\n",
       "      <td>89100.0</td>\n",
       "      <td>89100.0</td>\n",
       "      <td>89000.0</td>\n",
       "      <td>88800.0</td>\n",
       "      <td>88600.0</td>\n",
       "      <td>88300.0</td>\n",
       "      <td>88000.0</td>\n",
       "      <td>87900.0</td>\n",
       "      <td>87800.0</td>\n",
       "      <td>87700.0</td>\n",
       "      <td>87800.0</td>\n",
       "      <td>87900.0</td>\n",
       "      <td>88000.0</td>\n",
       "      <td>88200.0</td>\n",
       "      <td>88400.0</td>\n",
       "      <td>88600.0</td>\n",
       "      <td>88900.0</td>\n",
       "      <td>89200.0</td>\n",
       "      <td>89500.0</td>\n",
       "      <td>89700.0</td>\n",
       "      <td>90000.0</td>\n",
       "      <td>90400.0</td>\n",
       "      <td>90900.0</td>\n",
       "      <td>91400.0</td>\n",
       "      <td>...</td>\n",
       "      <td>134400</td>\n",
       "      <td>135500</td>\n",
       "      <td>136200</td>\n",
       "      <td>135800</td>\n",
       "      <td>135700</td>\n",
       "      <td>136400</td>\n",
       "      <td>137300</td>\n",
       "      <td>138200</td>\n",
       "      <td>139700</td>\n",
       "      <td>141500</td>\n",
       "      <td>143200</td>\n",
       "      <td>144700</td>\n",
       "      <td>146100</td>\n",
       "      <td>147400</td>\n",
       "      <td>148600</td>\n",
       "      <td>150200</td>\n",
       "      <td>152700</td>\n",
       "      <td>155400</td>\n",
       "      <td>156500</td>\n",
       "      <td>156900</td>\n",
       "      <td>157400</td>\n",
       "      <td>157700</td>\n",
       "      <td>157600</td>\n",
       "      <td>158400</td>\n",
       "      <td>160100</td>\n",
       "      <td>161900</td>\n",
       "      <td>163900</td>\n",
       "      <td>166400</td>\n",
       "      <td>168500</td>\n",
       "      <td>170300</td>\n",
       "      <td>172400</td>\n",
       "      <td>174500</td>\n",
       "      <td>176000</td>\n",
       "      <td>178000</td>\n",
       "      <td>180000</td>\n",
       "      <td>181900</td>\n",
       "      <td>183300</td>\n",
       "      <td>185000</td>\n",
       "      <td>186600</td>\n",
       "      <td>187800</td>\n",
       "    </tr>\n",
       "    <tr>\n",
       "      <td>550</td>\n",
       "      <td>91291</td>\n",
       "      <td>76179</td>\n",
       "      <td>Fort Worth</td>\n",
       "      <td>TX</td>\n",
       "      <td>Dallas-Fort Worth</td>\n",
       "      <td>Tarrant</td>\n",
       "      <td>551</td>\n",
       "      <td>107100.0</td>\n",
       "      <td>107600.0</td>\n",
       "      <td>108100.0</td>\n",
       "      <td>108800.0</td>\n",
       "      <td>109500.0</td>\n",
       "      <td>110400.0</td>\n",
       "      <td>111300.0</td>\n",
       "      <td>112400.0</td>\n",
       "      <td>113300.0</td>\n",
       "      <td>114200.0</td>\n",
       "      <td>115100.0</td>\n",
       "      <td>115900.0</td>\n",
       "      <td>116600.0</td>\n",
       "      <td>117200.0</td>\n",
       "      <td>117700.0</td>\n",
       "      <td>118100.0</td>\n",
       "      <td>118400.0</td>\n",
       "      <td>118600.0</td>\n",
       "      <td>118800.0</td>\n",
       "      <td>118900.0</td>\n",
       "      <td>118900.0</td>\n",
       "      <td>118900.0</td>\n",
       "      <td>118900.0</td>\n",
       "      <td>119000.0</td>\n",
       "      <td>119200.0</td>\n",
       "      <td>119400.0</td>\n",
       "      <td>119700.0</td>\n",
       "      <td>120100.0</td>\n",
       "      <td>120500.0</td>\n",
       "      <td>120900.0</td>\n",
       "      <td>121300.0</td>\n",
       "      <td>121600.0</td>\n",
       "      <td>121800.0</td>\n",
       "      <td>...</td>\n",
       "      <td>150000</td>\n",
       "      <td>150700</td>\n",
       "      <td>151300</td>\n",
       "      <td>151800</td>\n",
       "      <td>152900</td>\n",
       "      <td>154300</td>\n",
       "      <td>155300</td>\n",
       "      <td>156500</td>\n",
       "      <td>158300</td>\n",
       "      <td>160300</td>\n",
       "      <td>162000</td>\n",
       "      <td>163700</td>\n",
       "      <td>165300</td>\n",
       "      <td>166900</td>\n",
       "      <td>168900</td>\n",
       "      <td>171000</td>\n",
       "      <td>172500</td>\n",
       "      <td>173800</td>\n",
       "      <td>175300</td>\n",
       "      <td>176700</td>\n",
       "      <td>178000</td>\n",
       "      <td>179100</td>\n",
       "      <td>180200</td>\n",
       "      <td>181500</td>\n",
       "      <td>183200</td>\n",
       "      <td>184500</td>\n",
       "      <td>185700</td>\n",
       "      <td>187000</td>\n",
       "      <td>188300</td>\n",
       "      <td>189600</td>\n",
       "      <td>191500</td>\n",
       "      <td>193200</td>\n",
       "      <td>194300</td>\n",
       "      <td>195500</td>\n",
       "      <td>196700</td>\n",
       "      <td>198100</td>\n",
       "      <td>199000</td>\n",
       "      <td>200000</td>\n",
       "      <td>201200</td>\n",
       "      <td>202100</td>\n",
       "    </tr>\n",
       "    <tr>\n",
       "      <td>562</td>\n",
       "      <td>91280</td>\n",
       "      <td>76137</td>\n",
       "      <td>Fort Worth</td>\n",
       "      <td>TX</td>\n",
       "      <td>Dallas-Fort Worth</td>\n",
       "      <td>Tarrant</td>\n",
       "      <td>563</td>\n",
       "      <td>117500.0</td>\n",
       "      <td>117500.0</td>\n",
       "      <td>117600.0</td>\n",
       "      <td>117800.0</td>\n",
       "      <td>117900.0</td>\n",
       "      <td>118100.0</td>\n",
       "      <td>118400.0</td>\n",
       "      <td>118600.0</td>\n",
       "      <td>118900.0</td>\n",
       "      <td>119100.0</td>\n",
       "      <td>119400.0</td>\n",
       "      <td>119600.0</td>\n",
       "      <td>119700.0</td>\n",
       "      <td>119800.0</td>\n",
       "      <td>119900.0</td>\n",
       "      <td>120000.0</td>\n",
       "      <td>120000.0</td>\n",
       "      <td>120000.0</td>\n",
       "      <td>120100.0</td>\n",
       "      <td>120100.0</td>\n",
       "      <td>120100.0</td>\n",
       "      <td>120000.0</td>\n",
       "      <td>119900.0</td>\n",
       "      <td>119800.0</td>\n",
       "      <td>119700.0</td>\n",
       "      <td>119500.0</td>\n",
       "      <td>119400.0</td>\n",
       "      <td>119400.0</td>\n",
       "      <td>119500.0</td>\n",
       "      <td>119700.0</td>\n",
       "      <td>119900.0</td>\n",
       "      <td>120100.0</td>\n",
       "      <td>120300.0</td>\n",
       "      <td>...</td>\n",
       "      <td>144100</td>\n",
       "      <td>145100</td>\n",
       "      <td>145500</td>\n",
       "      <td>145500</td>\n",
       "      <td>145900</td>\n",
       "      <td>146700</td>\n",
       "      <td>147700</td>\n",
       "      <td>149000</td>\n",
       "      <td>150400</td>\n",
       "      <td>151700</td>\n",
       "      <td>153000</td>\n",
       "      <td>154400</td>\n",
       "      <td>156400</td>\n",
       "      <td>158200</td>\n",
       "      <td>159900</td>\n",
       "      <td>162200</td>\n",
       "      <td>164900</td>\n",
       "      <td>167700</td>\n",
       "      <td>170400</td>\n",
       "      <td>173100</td>\n",
       "      <td>175600</td>\n",
       "      <td>177900</td>\n",
       "      <td>180000</td>\n",
       "      <td>181700</td>\n",
       "      <td>183300</td>\n",
       "      <td>184800</td>\n",
       "      <td>185900</td>\n",
       "      <td>186800</td>\n",
       "      <td>187900</td>\n",
       "      <td>189300</td>\n",
       "      <td>190700</td>\n",
       "      <td>191400</td>\n",
       "      <td>191800</td>\n",
       "      <td>192800</td>\n",
       "      <td>193800</td>\n",
       "      <td>195400</td>\n",
       "      <td>197000</td>\n",
       "      <td>198700</td>\n",
       "      <td>200500</td>\n",
       "      <td>201700</td>\n",
       "    </tr>\n",
       "  </tbody>\n",
       "</table>\n",
       "<p>5 rows × 272 columns</p>\n",
       "</div>"
      ],
      "text/plain": [
       "     RegionID  RegionName        City State  ... 2018-01 2018-02  2018-03  2018-04\n",
       "153     91221       76063   Mansfield    TX  ...  262200  264100   266500   267800\n",
       "170     91325       76244  Fort Worth    TX  ...  250300  251000   251400   251300\n",
       "335     91261       76116  Fort Worth    TX  ...  183300  185000   186600   187800\n",
       "550     91291       76179  Fort Worth    TX  ...  199000  200000   201200   202100\n",
       "562     91280       76137  Fort Worth    TX  ...  197000  198700   200500   201700\n",
       "\n",
       "[5 rows x 272 columns]"
      ]
     },
     "execution_count": 4,
     "metadata": {},
     "output_type": "execute_result"
    }
   ],
   "source": [
    "# Subset data to Tarrant County only, preview Wide Format dataframe\n",
    "df_tarrant = df.loc[df['CountyName'] == 'Tarrant']\n",
    "df_tarrant.head()"
   ]
  },
  {
   "cell_type": "code",
   "execution_count": 5,
   "metadata": {
    "ExecuteTime": {
     "end_time": "2020-01-13T18:39:40.496577Z",
     "start_time": "2020-01-13T18:39:40.453730Z"
    }
   },
   "outputs": [
    {
     "data": {
      "text/html": [
       "<div>\n",
       "<style scoped>\n",
       "    .dataframe tbody tr th:only-of-type {\n",
       "        vertical-align: middle;\n",
       "    }\n",
       "\n",
       "    .dataframe tbody tr th {\n",
       "        vertical-align: top;\n",
       "    }\n",
       "\n",
       "    .dataframe thead th {\n",
       "        text-align: right;\n",
       "    }\n",
       "</style>\n",
       "<table border=\"1\" class=\"dataframe\">\n",
       "  <thead>\n",
       "    <tr style=\"text-align: right;\">\n",
       "      <th></th>\n",
       "      <th>RegionID</th>\n",
       "      <th>RegionName</th>\n",
       "      <th>City</th>\n",
       "      <th>State</th>\n",
       "      <th>Metro</th>\n",
       "      <th>CountyName</th>\n",
       "      <th>SizeRank</th>\n",
       "      <th>Month</th>\n",
       "      <th>MeanValue</th>\n",
       "    </tr>\n",
       "  </thead>\n",
       "  <tbody>\n",
       "    <tr>\n",
       "      <td>0</td>\n",
       "      <td>91221</td>\n",
       "      <td>76063</td>\n",
       "      <td>Mansfield</td>\n",
       "      <td>TX</td>\n",
       "      <td>Dallas-Fort Worth</td>\n",
       "      <td>Tarrant</td>\n",
       "      <td>154</td>\n",
       "      <td>1996-04-01</td>\n",
       "      <td>148100.0</td>\n",
       "    </tr>\n",
       "    <tr>\n",
       "      <td>1</td>\n",
       "      <td>91325</td>\n",
       "      <td>76244</td>\n",
       "      <td>Fort Worth</td>\n",
       "      <td>TX</td>\n",
       "      <td>Dallas-Fort Worth</td>\n",
       "      <td>Tarrant</td>\n",
       "      <td>171</td>\n",
       "      <td>1996-04-01</td>\n",
       "      <td>139800.0</td>\n",
       "    </tr>\n",
       "    <tr>\n",
       "      <td>2</td>\n",
       "      <td>91261</td>\n",
       "      <td>76116</td>\n",
       "      <td>Fort Worth</td>\n",
       "      <td>TX</td>\n",
       "      <td>Dallas-Fort Worth</td>\n",
       "      <td>Tarrant</td>\n",
       "      <td>336</td>\n",
       "      <td>1996-04-01</td>\n",
       "      <td>85800.0</td>\n",
       "    </tr>\n",
       "    <tr>\n",
       "      <td>3</td>\n",
       "      <td>91291</td>\n",
       "      <td>76179</td>\n",
       "      <td>Fort Worth</td>\n",
       "      <td>TX</td>\n",
       "      <td>Dallas-Fort Worth</td>\n",
       "      <td>Tarrant</td>\n",
       "      <td>551</td>\n",
       "      <td>1996-04-01</td>\n",
       "      <td>107100.0</td>\n",
       "    </tr>\n",
       "    <tr>\n",
       "      <td>4</td>\n",
       "      <td>91280</td>\n",
       "      <td>76137</td>\n",
       "      <td>Fort Worth</td>\n",
       "      <td>TX</td>\n",
       "      <td>Dallas-Fort Worth</td>\n",
       "      <td>Tarrant</td>\n",
       "      <td>563</td>\n",
       "      <td>1996-04-01</td>\n",
       "      <td>117500.0</td>\n",
       "    </tr>\n",
       "    <tr>\n",
       "      <td>...</td>\n",
       "      <td>...</td>\n",
       "      <td>...</td>\n",
       "      <td>...</td>\n",
       "      <td>...</td>\n",
       "      <td>...</td>\n",
       "      <td>...</td>\n",
       "      <td>...</td>\n",
       "      <td>...</td>\n",
       "      <td>...</td>\n",
       "    </tr>\n",
       "    <tr>\n",
       "      <td>15630</td>\n",
       "      <td>91248</td>\n",
       "      <td>76103</td>\n",
       "      <td>Fort Worth</td>\n",
       "      <td>TX</td>\n",
       "      <td>Dallas-Fort Worth</td>\n",
       "      <td>Tarrant</td>\n",
       "      <td>7549</td>\n",
       "      <td>2018-04-01</td>\n",
       "      <td>126300.0</td>\n",
       "    </tr>\n",
       "    <tr>\n",
       "      <td>15631</td>\n",
       "      <td>91215</td>\n",
       "      <td>76054</td>\n",
       "      <td>Hurst</td>\n",
       "      <td>TX</td>\n",
       "      <td>Dallas-Fort Worth</td>\n",
       "      <td>Tarrant</td>\n",
       "      <td>7749</td>\n",
       "      <td>2018-04-01</td>\n",
       "      <td>275500.0</td>\n",
       "    </tr>\n",
       "    <tr>\n",
       "      <td>15632</td>\n",
       "      <td>91289</td>\n",
       "      <td>76164</td>\n",
       "      <td>Fort Worth</td>\n",
       "      <td>TX</td>\n",
       "      <td>Dallas-Fort Worth</td>\n",
       "      <td>Tarrant</td>\n",
       "      <td>7981</td>\n",
       "      <td>2018-04-01</td>\n",
       "      <td>103600.0</td>\n",
       "    </tr>\n",
       "    <tr>\n",
       "      <td>15633</td>\n",
       "      <td>91219</td>\n",
       "      <td>76060</td>\n",
       "      <td>Kennedale</td>\n",
       "      <td>TX</td>\n",
       "      <td>Dallas-Fort Worth</td>\n",
       "      <td>Tarrant</td>\n",
       "      <td>9340</td>\n",
       "      <td>2018-04-01</td>\n",
       "      <td>243200.0</td>\n",
       "    </tr>\n",
       "    <tr>\n",
       "      <td>15634</td>\n",
       "      <td>91179</td>\n",
       "      <td>76005</td>\n",
       "      <td>Arlington</td>\n",
       "      <td>TX</td>\n",
       "      <td>Dallas-Fort Worth</td>\n",
       "      <td>Tarrant</td>\n",
       "      <td>13313</td>\n",
       "      <td>2018-04-01</td>\n",
       "      <td>373900.0</td>\n",
       "    </tr>\n",
       "  </tbody>\n",
       "</table>\n",
       "<p>15635 rows × 9 columns</p>\n",
       "</div>"
      ],
      "text/plain": [
       "       RegionID  RegionName        City  ... SizeRank      Month MeanValue\n",
       "0         91221       76063   Mansfield  ...      154 1996-04-01  148100.0\n",
       "1         91325       76244  Fort Worth  ...      171 1996-04-01  139800.0\n",
       "2         91261       76116  Fort Worth  ...      336 1996-04-01   85800.0\n",
       "3         91291       76179  Fort Worth  ...      551 1996-04-01  107100.0\n",
       "4         91280       76137  Fort Worth  ...      563 1996-04-01  117500.0\n",
       "...         ...         ...         ...  ...      ...        ...       ...\n",
       "15630     91248       76103  Fort Worth  ...     7549 2018-04-01  126300.0\n",
       "15631     91215       76054       Hurst  ...     7749 2018-04-01  275500.0\n",
       "15632     91289       76164  Fort Worth  ...     7981 2018-04-01  103600.0\n",
       "15633     91219       76060   Kennedale  ...     9340 2018-04-01  243200.0\n",
       "15634     91179       76005   Arlington  ...    13313 2018-04-01  373900.0\n",
       "\n",
       "[15635 rows x 9 columns]"
      ]
     },
     "execution_count": 5,
     "metadata": {},
     "output_type": "execute_result"
    }
   ],
   "source": [
    "# Melt Tarrant Co. dataframe to Long Format\n",
    "df_melted = melt_data(df_tarrant)\n",
    "df_melted"
   ]
  },
  {
   "cell_type": "code",
   "execution_count": 6,
   "metadata": {
    "ExecuteTime": {
     "end_time": "2020-01-13T18:39:40.501572Z",
     "start_time": "2020-01-13T18:39:40.498574Z"
    }
   },
   "outputs": [],
   "source": [
    "# Check method to later subset dataframe by zip code\n",
    "# df_melted.loc[df_melted['RegionID'] == 76001]"
   ]
  },
  {
   "cell_type": "code",
   "execution_count": 7,
   "metadata": {
    "ExecuteTime": {
     "end_time": "2020-01-13T18:39:40.510594Z",
     "start_time": "2020-01-13T18:39:40.502572Z"
    }
   },
   "outputs": [],
   "source": [
    "# Check for null / missing values\n",
    "# df_melted.info()"
   ]
  },
  {
   "cell_type": "markdown",
   "metadata": {},
   "source": [
    "## Explore"
   ]
  },
  {
   "cell_type": "code",
   "execution_count": 8,
   "metadata": {
    "ExecuteTime": {
     "end_time": "2020-01-13T18:39:40.521520Z",
     "start_time": "2020-01-13T18:39:40.512536Z"
    }
   },
   "outputs": [],
   "source": [
    "tarrant_zips = df_melted['RegionName'].unique()"
   ]
  },
  {
   "cell_type": "code",
   "execution_count": 9,
   "metadata": {
    "ExecuteTime": {
     "end_time": "2020-01-13T20:04:02.800720Z",
     "start_time": "2020-01-13T18:39:40.524504Z"
    },
    "scrolled": true
   },
   "outputs": [
    {
     "data": {
      "application/vnd.jupyter.widget-view+json": {
       "model_id": "815e6ac6d41645b98fd239133aaf54a7",
       "version_major": 2,
       "version_minor": 0
      },
      "text/plain": [
       "HBox(children=(IntProgress(value=0, description='Total Grid Search Progress', max=59, style=ProgressStyle(desc…"
      ]
     },
     "metadata": {},
     "output_type": "display_data"
    },
    {
     "data": {
      "application/vnd.jupyter.widget-view+json": {
       "model_id": "3560058f82b746a0b9c6d83b2a3267ed",
       "version_major": 2,
       "version_minor": 0
      },
      "text/plain": [
       "HBox(children=(IntProgress(value=0, description='76063 Grid Search Progress', max=216, style=ProgressStyle(des…"
      ]
     },
     "metadata": {},
     "output_type": "display_data"
    },
    {
     "name": "stdout",
     "output_type": "stream",
     "text": [
      "\n"
     ]
    },
    {
     "data": {
      "application/vnd.jupyter.widget-view+json": {
       "model_id": "78373f5dd1124357b97dd192e0dae9cf",
       "version_major": 2,
       "version_minor": 0
      },
      "text/plain": [
       "HBox(children=(IntProgress(value=0, description='76244 Grid Search Progress', max=216, style=ProgressStyle(des…"
      ]
     },
     "metadata": {},
     "output_type": "display_data"
    },
    {
     "name": "stdout",
     "output_type": "stream",
     "text": [
      "\n"
     ]
    },
    {
     "data": {
      "application/vnd.jupyter.widget-view+json": {
       "model_id": "98380885cc36480fa96877c5906f4485",
       "version_major": 2,
       "version_minor": 0
      },
      "text/plain": [
       "HBox(children=(IntProgress(value=0, description='76116 Grid Search Progress', max=216, style=ProgressStyle(des…"
      ]
     },
     "metadata": {},
     "output_type": "display_data"
    },
    {
     "name": "stdout",
     "output_type": "stream",
     "text": [
      "\n"
     ]
    },
    {
     "data": {
      "application/vnd.jupyter.widget-view+json": {
       "model_id": "ab4748f370e34ded990e3b187c6be15d",
       "version_major": 2,
       "version_minor": 0
      },
      "text/plain": [
       "HBox(children=(IntProgress(value=0, description='76179 Grid Search Progress', max=216, style=ProgressStyle(des…"
      ]
     },
     "metadata": {},
     "output_type": "display_data"
    },
    {
     "name": "stdout",
     "output_type": "stream",
     "text": [
      "\n"
     ]
    },
    {
     "data": {
      "application/vnd.jupyter.widget-view+json": {
       "model_id": "1233a1f54bfb49398dcb927e99e303e3",
       "version_major": 2,
       "version_minor": 0
      },
      "text/plain": [
       "HBox(children=(IntProgress(value=0, description='76137 Grid Search Progress', max=216, style=ProgressStyle(des…"
      ]
     },
     "metadata": {},
     "output_type": "display_data"
    },
    {
     "name": "stdout",
     "output_type": "stream",
     "text": [
      "\n"
     ]
    },
    {
     "data": {
      "application/vnd.jupyter.widget-view+json": {
       "model_id": "f5f9f174eb3f435588b65bfc51184aa4",
       "version_major": 2,
       "version_minor": 0
      },
      "text/plain": [
       "HBox(children=(IntProgress(value=0, description='76051 Grid Search Progress', max=216, style=ProgressStyle(des…"
      ]
     },
     "metadata": {},
     "output_type": "display_data"
    },
    {
     "name": "stdout",
     "output_type": "stream",
     "text": [
      "\n"
     ]
    },
    {
     "data": {
      "application/vnd.jupyter.widget-view+json": {
       "model_id": "e216c64bd1e64a09af108e1af32fe18c",
       "version_major": 2,
       "version_minor": 0
      },
      "text/plain": [
       "HBox(children=(IntProgress(value=0, description='76133 Grid Search Progress', max=216, style=ProgressStyle(des…"
      ]
     },
     "metadata": {},
     "output_type": "display_data"
    },
    {
     "name": "stdout",
     "output_type": "stream",
     "text": [
      "\n"
     ]
    },
    {
     "data": {
      "application/vnd.jupyter.widget-view+json": {
       "model_id": "1dc9129052a245ae9737544244245a8b",
       "version_major": 2,
       "version_minor": 0
      },
      "text/plain": [
       "HBox(children=(IntProgress(value=0, description='76010 Grid Search Progress', max=216, style=ProgressStyle(des…"
      ]
     },
     "metadata": {},
     "output_type": "display_data"
    },
    {
     "name": "stdout",
     "output_type": "stream",
     "text": [
      "\n"
     ]
    },
    {
     "data": {
      "application/vnd.jupyter.widget-view+json": {
       "model_id": "47cf40c29d9147ccbc0cc7d28de808ce",
       "version_major": 2,
       "version_minor": 0
      },
      "text/plain": [
       "HBox(children=(IntProgress(value=0, description='76112 Grid Search Progress', max=216, style=ProgressStyle(des…"
      ]
     },
     "metadata": {},
     "output_type": "display_data"
    },
    {
     "name": "stdout",
     "output_type": "stream",
     "text": [
      "\n"
     ]
    },
    {
     "data": {
      "application/vnd.jupyter.widget-view+json": {
       "model_id": "5d58620787f2463b95d4afd10af5ec56",
       "version_major": 2,
       "version_minor": 0
      },
      "text/plain": [
       "HBox(children=(IntProgress(value=0, description='76017 Grid Search Progress', max=216, style=ProgressStyle(des…"
      ]
     },
     "metadata": {},
     "output_type": "display_data"
    },
    {
     "name": "stdout",
     "output_type": "stream",
     "text": [
      "\n"
     ]
    },
    {
     "data": {
      "application/vnd.jupyter.widget-view+json": {
       "model_id": "643b7b087ebf40cbbfe480886578cf82",
       "version_major": 2,
       "version_minor": 0
      },
      "text/plain": [
       "HBox(children=(IntProgress(value=0, description='76039 Grid Search Progress', max=216, style=ProgressStyle(des…"
      ]
     },
     "metadata": {},
     "output_type": "display_data"
    },
    {
     "name": "stdout",
     "output_type": "stream",
     "text": [
      "\n"
     ]
    },
    {
     "data": {
      "application/vnd.jupyter.widget-view+json": {
       "model_id": "6c57d6120b124844b1d8c77c5b68de96",
       "version_major": 2,
       "version_minor": 0
      },
      "text/plain": [
       "HBox(children=(IntProgress(value=0, description='76108 Grid Search Progress', max=216, style=ProgressStyle(des…"
      ]
     },
     "metadata": {},
     "output_type": "display_data"
    },
    {
     "name": "stdout",
     "output_type": "stream",
     "text": [
      "\n"
     ]
    },
    {
     "data": {
      "application/vnd.jupyter.widget-view+json": {
       "model_id": "3c5c8989148e42fa8388da698a6e6b6f",
       "version_major": 2,
       "version_minor": 0
      },
      "text/plain": [
       "HBox(children=(IntProgress(value=0, description='76021 Grid Search Progress', max=216, style=ProgressStyle(des…"
      ]
     },
     "metadata": {},
     "output_type": "display_data"
    },
    {
     "name": "stdout",
     "output_type": "stream",
     "text": [
      "\n"
     ]
    },
    {
     "data": {
      "application/vnd.jupyter.widget-view+json": {
       "model_id": "13558fc85de84f3ba3008459c79d7fd9",
       "version_major": 2,
       "version_minor": 0
      },
      "text/plain": [
       "HBox(children=(IntProgress(value=0, description='76107 Grid Search Progress', max=216, style=ProgressStyle(des…"
      ]
     },
     "metadata": {},
     "output_type": "display_data"
    },
    {
     "name": "stdout",
     "output_type": "stream",
     "text": [
      "\n"
     ]
    },
    {
     "data": {
      "application/vnd.jupyter.widget-view+json": {
       "model_id": "239d4bdb65914feb86bb0048444b962c",
       "version_major": 2,
       "version_minor": 0
      },
      "text/plain": [
       "HBox(children=(IntProgress(value=0, description='76119 Grid Search Progress', max=216, style=ProgressStyle(des…"
      ]
     },
     "metadata": {},
     "output_type": "display_data"
    },
    {
     "name": "stdout",
     "output_type": "stream",
     "text": [
      "\n"
     ]
    },
    {
     "data": {
      "application/vnd.jupyter.widget-view+json": {
       "model_id": "72ce9ec75e6b469fa45b4cce8baa9fb6",
       "version_major": 2,
       "version_minor": 0
      },
      "text/plain": [
       "HBox(children=(IntProgress(value=0, description='76180 Grid Search Progress', max=216, style=ProgressStyle(des…"
      ]
     },
     "metadata": {},
     "output_type": "display_data"
    },
    {
     "name": "stdout",
     "output_type": "stream",
     "text": [
      "\n"
     ]
    },
    {
     "data": {
      "application/vnd.jupyter.widget-view+json": {
       "model_id": "5c94026c49e64292a6b6dcca1e368005",
       "version_major": 2,
       "version_minor": 0
      },
      "text/plain": [
       "HBox(children=(IntProgress(value=0, description='76248 Grid Search Progress', max=216, style=ProgressStyle(des…"
      ]
     },
     "metadata": {},
     "output_type": "display_data"
    },
    {
     "name": "stdout",
     "output_type": "stream",
     "text": [
      "\n"
     ]
    },
    {
     "data": {
      "application/vnd.jupyter.widget-view+json": {
       "model_id": "58d31b94f68b4c0fa0a49c3fd87dfdf0",
       "version_major": 2,
       "version_minor": 0
      },
      "text/plain": [
       "HBox(children=(IntProgress(value=0, description='76006 Grid Search Progress', max=216, style=ProgressStyle(des…"
      ]
     },
     "metadata": {},
     "output_type": "display_data"
    },
    {
     "name": "stdout",
     "output_type": "stream",
     "text": [
      "\n"
     ]
    },
    {
     "data": {
      "application/vnd.jupyter.widget-view+json": {
       "model_id": "bb17c31b764e4b51841e4fb4c380a895",
       "version_major": 2,
       "version_minor": 0
      },
      "text/plain": [
       "HBox(children=(IntProgress(value=0, description='76013 Grid Search Progress', max=216, style=ProgressStyle(des…"
      ]
     },
     "metadata": {},
     "output_type": "display_data"
    },
    {
     "name": "stdout",
     "output_type": "stream",
     "text": [
      "\n"
     ]
    },
    {
     "data": {
      "application/vnd.jupyter.widget-view+json": {
       "model_id": "63ea4ea595b34600938f8b718b101d62",
       "version_major": 2,
       "version_minor": 0
      },
      "text/plain": [
       "HBox(children=(IntProgress(value=0, description='76132 Grid Search Progress', max=216, style=ProgressStyle(des…"
      ]
     },
     "metadata": {},
     "output_type": "display_data"
    },
    {
     "name": "stdout",
     "output_type": "stream",
     "text": [
      "\n"
     ]
    },
    {
     "data": {
      "application/vnd.jupyter.widget-view+json": {
       "model_id": "54f2f70956644cf8938e5492eec768ed",
       "version_major": 2,
       "version_minor": 0
      },
      "text/plain": [
       "HBox(children=(IntProgress(value=0, description='76131 Grid Search Progress', max=216, style=ProgressStyle(des…"
      ]
     },
     "metadata": {},
     "output_type": "display_data"
    },
    {
     "name": "stdout",
     "output_type": "stream",
     "text": [
      "\n"
     ]
    },
    {
     "data": {
      "application/vnd.jupyter.widget-view+json": {
       "model_id": "4acdc515fdc54251bc05043f9c1c3083",
       "version_major": 2,
       "version_minor": 0
      },
      "text/plain": [
       "HBox(children=(IntProgress(value=0, description='76053 Grid Search Progress', max=216, style=ProgressStyle(des…"
      ]
     },
     "metadata": {},
     "output_type": "display_data"
    },
    {
     "name": "stdout",
     "output_type": "stream",
     "text": [
      "\n"
     ]
    },
    {
     "data": {
      "application/vnd.jupyter.widget-view+json": {
       "model_id": "07b4c59ceb0646458eb062146e2be058",
       "version_major": 2,
       "version_minor": 0
      },
      "text/plain": [
       "HBox(children=(IntProgress(value=0, description='76182 Grid Search Progress', max=216, style=ProgressStyle(des…"
      ]
     },
     "metadata": {},
     "output_type": "display_data"
    },
    {
     "name": "stdout",
     "output_type": "stream",
     "text": [
      "\n"
     ]
    },
    {
     "data": {
      "application/vnd.jupyter.widget-view+json": {
       "model_id": "19cde9c5a703463582319b2a87abe126",
       "version_major": 2,
       "version_minor": 0
      },
      "text/plain": [
       "HBox(children=(IntProgress(value=0, description='76117 Grid Search Progress', max=216, style=ProgressStyle(des…"
      ]
     },
     "metadata": {},
     "output_type": "display_data"
    },
    {
     "name": "stdout",
     "output_type": "stream",
     "text": [
      "\n"
     ]
    },
    {
     "data": {
      "application/vnd.jupyter.widget-view+json": {
       "model_id": "dc02896bf20a4fc3857983017634caf0",
       "version_major": 2,
       "version_minor": 0
      },
      "text/plain": [
       "HBox(children=(IntProgress(value=0, description='76040 Grid Search Progress', max=216, style=ProgressStyle(des…"
      ]
     },
     "metadata": {},
     "output_type": "display_data"
    },
    {
     "name": "stdout",
     "output_type": "stream",
     "text": [
      "\n"
     ]
    },
    {
     "data": {
      "application/vnd.jupyter.widget-view+json": {
       "model_id": "d99e2c1b68e34ba0a373b282e2077161",
       "version_major": 2,
       "version_minor": 0
      },
      "text/plain": [
       "HBox(children=(IntProgress(value=0, description='76016 Grid Search Progress', max=216, style=ProgressStyle(des…"
      ]
     },
     "metadata": {},
     "output_type": "display_data"
    },
    {
     "name": "stdout",
     "output_type": "stream",
     "text": [
      "\n"
     ]
    },
    {
     "data": {
      "application/vnd.jupyter.widget-view+json": {
       "model_id": "f345882f8faa4029b96d62072ca37a75",
       "version_major": 2,
       "version_minor": 0
      },
      "text/plain": [
       "HBox(children=(IntProgress(value=0, description='76014 Grid Search Progress', max=216, style=ProgressStyle(des…"
      ]
     },
     "metadata": {},
     "output_type": "display_data"
    },
    {
     "name": "stdout",
     "output_type": "stream",
     "text": [
      "\n"
     ]
    },
    {
     "data": {
      "application/vnd.jupyter.widget-view+json": {
       "model_id": "28e1c666af924f46b51458c00c44b31f",
       "version_major": 2,
       "version_minor": 0
      },
      "text/plain": [
       "HBox(children=(IntProgress(value=0, description='76020 Grid Search Progress', max=216, style=ProgressStyle(des…"
      ]
     },
     "metadata": {},
     "output_type": "display_data"
    },
    {
     "name": "stdout",
     "output_type": "stream",
     "text": [
      "\n"
     ]
    },
    {
     "data": {
      "application/vnd.jupyter.widget-view+json": {
       "model_id": "452aa5b70f924518b4ad4935d1da86f8",
       "version_major": 2,
       "version_minor": 0
      },
      "text/plain": [
       "HBox(children=(IntProgress(value=0, description='76012 Grid Search Progress', max=216, style=ProgressStyle(des…"
      ]
     },
     "metadata": {},
     "output_type": "display_data"
    },
    {
     "name": "stdout",
     "output_type": "stream",
     "text": [
      "\n"
     ]
    },
    {
     "data": {
      "application/vnd.jupyter.widget-view+json": {
       "model_id": "90f6e56f799145629e92dd0c261555be",
       "version_major": 2,
       "version_minor": 0
      },
      "text/plain": [
       "HBox(children=(IntProgress(value=0, description='76001 Grid Search Progress', max=216, style=ProgressStyle(des…"
      ]
     },
     "metadata": {},
     "output_type": "display_data"
    },
    {
     "name": "stdout",
     "output_type": "stream",
     "text": [
      "\n"
     ]
    },
    {
     "data": {
      "application/vnd.jupyter.widget-view+json": {
       "model_id": "8f4430af70bc4ffba1b8334cabc392f5",
       "version_major": 2,
       "version_minor": 0
      },
      "text/plain": [
       "HBox(children=(IntProgress(value=0, description='76109 Grid Search Progress', max=216, style=ProgressStyle(des…"
      ]
     },
     "metadata": {},
     "output_type": "display_data"
    },
    {
     "name": "stdout",
     "output_type": "stream",
     "text": [
      "\n"
     ]
    },
    {
     "data": {
      "application/vnd.jupyter.widget-view+json": {
       "model_id": "7fa58a0249234235959a22f9182e7775",
       "version_major": 2,
       "version_minor": 0
      },
      "text/plain": [
       "HBox(children=(IntProgress(value=0, description='76011 Grid Search Progress', max=216, style=ProgressStyle(des…"
      ]
     },
     "metadata": {},
     "output_type": "display_data"
    },
    {
     "name": "stdout",
     "output_type": "stream",
     "text": [
      "\n"
     ]
    },
    {
     "data": {
      "application/vnd.jupyter.widget-view+json": {
       "model_id": "11edbdf8bf71435b9777fa5d885ac176",
       "version_major": 2,
       "version_minor": 0
      },
      "text/plain": [
       "HBox(children=(IntProgress(value=0, description='76123 Grid Search Progress', max=216, style=ProgressStyle(des…"
      ]
     },
     "metadata": {},
     "output_type": "display_data"
    },
    {
     "name": "stdout",
     "output_type": "stream",
     "text": [
      "\n"
     ]
    },
    {
     "data": {
      "application/vnd.jupyter.widget-view+json": {
       "model_id": "a85e1833fc0d4289b1ca2c20442d9757",
       "version_major": 2,
       "version_minor": 0
      },
      "text/plain": [
       "HBox(children=(IntProgress(value=0, description='76140 Grid Search Progress', max=216, style=ProgressStyle(des…"
      ]
     },
     "metadata": {},
     "output_type": "display_data"
    },
    {
     "name": "stdout",
     "output_type": "stream",
     "text": [
      "\n"
     ]
    },
    {
     "data": {
      "application/vnd.jupyter.widget-view+json": {
       "model_id": "30dcb939b2bd480fa4a0e03badbdf468",
       "version_major": 2,
       "version_minor": 0
      },
      "text/plain": [
       "HBox(children=(IntProgress(value=0, description='76092 Grid Search Progress', max=216, style=ProgressStyle(des…"
      ]
     },
     "metadata": {},
     "output_type": "display_data"
    },
    {
     "name": "stdout",
     "output_type": "stream",
     "text": [
      "\n"
     ]
    },
    {
     "data": {
      "application/vnd.jupyter.widget-view+json": {
       "model_id": "e79d6acafdac490aa22c3f932f85856b",
       "version_major": 2,
       "version_minor": 0
      },
      "text/plain": [
       "HBox(children=(IntProgress(value=0, description='76036 Grid Search Progress', max=216, style=ProgressStyle(des…"
      ]
     },
     "metadata": {},
     "output_type": "display_data"
    },
    {
     "name": "stdout",
     "output_type": "stream",
     "text": [
      "\n"
     ]
    },
    {
     "data": {
      "application/vnd.jupyter.widget-view+json": {
       "model_id": "2ed9395d90724f3b9b9eaf4fb324a821",
       "version_major": 2,
       "version_minor": 0
      },
      "text/plain": [
       "HBox(children=(IntProgress(value=0, description='76002 Grid Search Progress', max=216, style=ProgressStyle(des…"
      ]
     },
     "metadata": {},
     "output_type": "display_data"
    },
    {
     "name": "stdout",
     "output_type": "stream",
     "text": [
      "\n"
     ]
    },
    {
     "data": {
      "application/vnd.jupyter.widget-view+json": {
       "model_id": "26a45498d29c4028a82641a426be3eb2",
       "version_major": 2,
       "version_minor": 0
      },
      "text/plain": [
       "HBox(children=(IntProgress(value=0, description='76114 Grid Search Progress', max=216, style=ProgressStyle(des…"
      ]
     },
     "metadata": {},
     "output_type": "display_data"
    },
    {
     "name": "stdout",
     "output_type": "stream",
     "text": [
      "\n"
     ]
    },
    {
     "data": {
      "application/vnd.jupyter.widget-view+json": {
       "model_id": "21ac182f4c694670b93b6cba2cedcc25",
       "version_major": 2,
       "version_minor": 0
      },
      "text/plain": [
       "HBox(children=(IntProgress(value=0, description='76126 Grid Search Progress', max=216, style=ProgressStyle(des…"
      ]
     },
     "metadata": {},
     "output_type": "display_data"
    },
    {
     "name": "stdout",
     "output_type": "stream",
     "text": [
      "\n"
     ]
    },
    {
     "data": {
      "application/vnd.jupyter.widget-view+json": {
       "model_id": "862c8a8b5bc54061b2df0326f220b978",
       "version_major": 2,
       "version_minor": 0
      },
      "text/plain": [
       "HBox(children=(IntProgress(value=0, description='76034 Grid Search Progress', max=216, style=ProgressStyle(des…"
      ]
     },
     "metadata": {},
     "output_type": "display_data"
    },
    {
     "name": "stdout",
     "output_type": "stream",
     "text": [
      "\n"
     ]
    },
    {
     "data": {
      "application/vnd.jupyter.widget-view+json": {
       "model_id": "b21f182992cf406a8a98e3c52b0c36d1",
       "version_major": 2,
       "version_minor": 0
      },
      "text/plain": [
       "HBox(children=(IntProgress(value=0, description='76134 Grid Search Progress', max=216, style=ProgressStyle(des…"
      ]
     },
     "metadata": {},
     "output_type": "display_data"
    },
    {
     "name": "stdout",
     "output_type": "stream",
     "text": [
      "\n"
     ]
    },
    {
     "data": {
      "application/vnd.jupyter.widget-view+json": {
       "model_id": "485979b70b4745ab87f812f191f88bc3",
       "version_major": 2,
       "version_minor": 0
      },
      "text/plain": [
       "HBox(children=(IntProgress(value=0, description='76018 Grid Search Progress', max=216, style=ProgressStyle(des…"
      ]
     },
     "metadata": {},
     "output_type": "display_data"
    },
    {
     "name": "stdout",
     "output_type": "stream",
     "text": [
      "\n"
     ]
    },
    {
     "data": {
      "application/vnd.jupyter.widget-view+json": {
       "model_id": "e71f98f405594f11bd08b7ecfc0d97e5",
       "version_major": 2,
       "version_minor": 0
      },
      "text/plain": [
       "HBox(children=(IntProgress(value=0, description='76148 Grid Search Progress', max=216, style=ProgressStyle(des…"
      ]
     },
     "metadata": {},
     "output_type": "display_data"
    },
    {
     "name": "stdout",
     "output_type": "stream",
     "text": [
      "\n"
     ]
    },
    {
     "data": {
      "application/vnd.jupyter.widget-view+json": {
       "model_id": "344899ab040b41e292185e7d8c3a7068",
       "version_major": 2,
       "version_minor": 0
      },
      "text/plain": [
       "HBox(children=(IntProgress(value=0, description='76135 Grid Search Progress', max=216, style=ProgressStyle(des…"
      ]
     },
     "metadata": {},
     "output_type": "display_data"
    },
    {
     "name": "stdout",
     "output_type": "stream",
     "text": [
      "\n"
     ]
    },
    {
     "data": {
      "application/vnd.jupyter.widget-view+json": {
       "model_id": "38804f0ec0e14260a23dcb7376ed1814",
       "version_major": 2,
       "version_minor": 0
      },
      "text/plain": [
       "HBox(children=(IntProgress(value=0, description='76120 Grid Search Progress', max=216, style=ProgressStyle(des…"
      ]
     },
     "metadata": {},
     "output_type": "display_data"
    },
    {
     "name": "stdout",
     "output_type": "stream",
     "text": [
      "\n"
     ]
    },
    {
     "data": {
      "application/vnd.jupyter.widget-view+json": {
       "model_id": "c5e4cc9f8d07435cac43af1d556c2306",
       "version_major": 2,
       "version_minor": 0
      },
      "text/plain": [
       "HBox(children=(IntProgress(value=0, description='76105 Grid Search Progress', max=216, style=ProgressStyle(des…"
      ]
     },
     "metadata": {},
     "output_type": "display_data"
    },
    {
     "name": "stdout",
     "output_type": "stream",
     "text": [
      "\n"
     ]
    },
    {
     "data": {
      "application/vnd.jupyter.widget-view+json": {
       "model_id": "1a5e53046df14c33a76a5f8c7997cae2",
       "version_major": 2,
       "version_minor": 0
      },
      "text/plain": [
       "HBox(children=(IntProgress(value=0, description='76015 Grid Search Progress', max=216, style=ProgressStyle(des…"
      ]
     },
     "metadata": {},
     "output_type": "display_data"
    },
    {
     "name": "stdout",
     "output_type": "stream",
     "text": [
      "\n"
     ]
    },
    {
     "data": {
      "application/vnd.jupyter.widget-view+json": {
       "model_id": "62f8d8b0e6654518884b2c22685f7899",
       "version_major": 2,
       "version_minor": 0
      },
      "text/plain": [
       "HBox(children=(IntProgress(value=0, description='76052 Grid Search Progress', max=216, style=ProgressStyle(des…"
      ]
     },
     "metadata": {},
     "output_type": "display_data"
    },
    {
     "name": "stdout",
     "output_type": "stream",
     "text": [
      "\n"
     ]
    },
    {
     "data": {
      "application/vnd.jupyter.widget-view+json": {
       "model_id": "98380b21591549e982a5ae4bd9fe53d1",
       "version_major": 2,
       "version_minor": 0
      },
      "text/plain": [
       "HBox(children=(IntProgress(value=0, description='76111 Grid Search Progress', max=216, style=ProgressStyle(des…"
      ]
     },
     "metadata": {},
     "output_type": "display_data"
    },
    {
     "name": "stdout",
     "output_type": "stream",
     "text": [
      "\n"
     ]
    },
    {
     "data": {
      "application/vnd.jupyter.widget-view+json": {
       "model_id": "4d44cd2814a24f1b8744fde19295f3b1",
       "version_major": 2,
       "version_minor": 0
      },
      "text/plain": [
       "HBox(children=(IntProgress(value=0, description='76177 Grid Search Progress', max=216, style=ProgressStyle(des…"
      ]
     },
     "metadata": {},
     "output_type": "display_data"
    },
    {
     "name": "stdout",
     "output_type": "stream",
     "text": [
      "\n"
     ]
    },
    {
     "data": {
      "application/vnd.jupyter.widget-view+json": {
       "model_id": "20aa9748dbd64406b4ff07cd6e18e34b",
       "version_major": 2,
       "version_minor": 0
      },
      "text/plain": [
       "HBox(children=(IntProgress(value=0, description='76104 Grid Search Progress', max=216, style=ProgressStyle(des…"
      ]
     },
     "metadata": {},
     "output_type": "display_data"
    },
    {
     "name": "stdout",
     "output_type": "stream",
     "text": [
      "\n"
     ]
    },
    {
     "data": {
      "application/vnd.jupyter.widget-view+json": {
       "model_id": "44eb08d5cc4d4dd1a3f9beb9ca658494",
       "version_major": 2,
       "version_minor": 0
      },
      "text/plain": [
       "HBox(children=(IntProgress(value=0, description='76022 Grid Search Progress', max=216, style=ProgressStyle(des…"
      ]
     },
     "metadata": {},
     "output_type": "display_data"
    },
    {
     "name": "stdout",
     "output_type": "stream",
     "text": [
      "\n"
     ]
    },
    {
     "data": {
      "application/vnd.jupyter.widget-view+json": {
       "model_id": "1f4306c5ba294bd78d21172b5e8732fc",
       "version_major": 2,
       "version_minor": 0
      },
      "text/plain": [
       "HBox(children=(IntProgress(value=0, description='76118 Grid Search Progress', max=216, style=ProgressStyle(des…"
      ]
     },
     "metadata": {},
     "output_type": "display_data"
    },
    {
     "name": "stdout",
     "output_type": "stream",
     "text": [
      "\n"
     ]
    },
    {
     "data": {
      "application/vnd.jupyter.widget-view+json": {
       "model_id": "a7b6d0de8e064d3eb79ab95b140af1b2",
       "version_major": 2,
       "version_minor": 0
      },
      "text/plain": [
       "HBox(children=(IntProgress(value=0, description='76247 Grid Search Progress', max=216, style=ProgressStyle(des…"
      ]
     },
     "metadata": {},
     "output_type": "display_data"
    },
    {
     "name": "stdout",
     "output_type": "stream",
     "text": [
      "\n"
     ]
    },
    {
     "data": {
      "application/vnd.jupyter.widget-view+json": {
       "model_id": "b8643bd9c0a34edcaa758af0cfbcd2dc",
       "version_major": 2,
       "version_minor": 0
      },
      "text/plain": [
       "HBox(children=(IntProgress(value=0, description='76103 Grid Search Progress', max=216, style=ProgressStyle(des…"
      ]
     },
     "metadata": {},
     "output_type": "display_data"
    },
    {
     "name": "stdout",
     "output_type": "stream",
     "text": [
      "\n"
     ]
    },
    {
     "data": {
      "application/vnd.jupyter.widget-view+json": {
       "model_id": "4d729ccfe6a843d7a49a8af8901a83f8",
       "version_major": 2,
       "version_minor": 0
      },
      "text/plain": [
       "HBox(children=(IntProgress(value=0, description='76054 Grid Search Progress', max=216, style=ProgressStyle(des…"
      ]
     },
     "metadata": {},
     "output_type": "display_data"
    },
    {
     "name": "stdout",
     "output_type": "stream",
     "text": [
      "\n"
     ]
    },
    {
     "data": {
      "application/vnd.jupyter.widget-view+json": {
       "model_id": "ff8acb5bc9b9436c92f20239b13432cf",
       "version_major": 2,
       "version_minor": 0
      },
      "text/plain": [
       "HBox(children=(IntProgress(value=0, description='76164 Grid Search Progress', max=216, style=ProgressStyle(des…"
      ]
     },
     "metadata": {},
     "output_type": "display_data"
    },
    {
     "name": "stdout",
     "output_type": "stream",
     "text": [
      "\n"
     ]
    },
    {
     "data": {
      "application/vnd.jupyter.widget-view+json": {
       "model_id": "cdca401f7fb04b74b3901e6e81527025",
       "version_major": 2,
       "version_minor": 0
      },
      "text/plain": [
       "HBox(children=(IntProgress(value=0, description='76060 Grid Search Progress', max=216, style=ProgressStyle(des…"
      ]
     },
     "metadata": {},
     "output_type": "display_data"
    },
    {
     "name": "stdout",
     "output_type": "stream",
     "text": [
      "\n"
     ]
    },
    {
     "data": {
      "application/vnd.jupyter.widget-view+json": {
       "model_id": "eeda9d463d384625a4950d09b29ee50f",
       "version_major": 2,
       "version_minor": 0
      },
      "text/plain": [
       "HBox(children=(IntProgress(value=0, description='76005 Grid Search Progress', max=216, style=ProgressStyle(des…"
      ]
     },
     "metadata": {},
     "output_type": "display_data"
    },
    {
     "name": "stdout",
     "output_type": "stream",
     "text": [
      "\n",
      "\n",
      "[{'76063': pdq    (1, 3, 5)\n",
      "aic       3029.3\n",
      "Name: 59, dtype: object}, {'76244': pdq    (4, 3, 5)\n",
      "aic      3114.34\n",
      "Name: 167, dtype: object}, {'76116': pdq    (4, 1, 5)\n",
      "aic      3028.57\n",
      "Name: 155, dtype: object}, {'76179': pdq    (1, 3, 5)\n",
      "aic      2920.17\n",
      "Name: 59, dtype: object}, {'76137': pdq    (5, 2, 5)\n",
      "aic      2960.64\n",
      "Name: 197, dtype: object}, {'76051': pdq    (0, 3, 5)\n",
      "aic      3145.61\n",
      "Name: 23, dtype: object}, {'76133': pdq    (2, 3, 5)\n",
      "aic      2895.36\n",
      "Name: 95, dtype: object}, {'76010': pdq    (0, 3, 5)\n",
      "aic      2876.57\n",
      "Name: 23, dtype: object}, {'76112': pdq    (0, 3, 5)\n",
      "aic      2860.29\n",
      "Name: 23, dtype: object}, {'76017': pdq    (1, 3, 5)\n",
      "aic      2891.74\n",
      "Name: 59, dtype: object}, {'76039': pdq    (3, 2, 5)\n",
      "aic      3098.64\n",
      "Name: 125, dtype: object}, {'76108': pdq    (4, 2, 5)\n",
      "aic      3010.68\n",
      "Name: 161, dtype: object}, {'76021': pdq    (3, 2, 5)\n",
      "aic      2994.03\n",
      "Name: 125, dtype: object}, {'76107': pdq    (4, 2, 5)\n",
      "aic      3229.15\n",
      "Name: 161, dtype: object}, {'76119': pdq    (0, 3, 5)\n",
      "aic      3083.12\n",
      "Name: 23, dtype: object}, {'76180': pdq    (1, 3, 5)\n",
      "aic      3003.84\n",
      "Name: 59, dtype: object}, {'76248': pdq    (3, 3, 5)\n",
      "aic      3273.55\n",
      "Name: 131, dtype: object}, {'76006': pdq    (0, 3, 5)\n",
      "aic      3169.01\n",
      "Name: 23, dtype: object}, {'76013': pdq    (4, 3, 5)\n",
      "aic      2919.69\n",
      "Name: 167, dtype: object}, {'76132': pdq    (3, 2, 5)\n",
      "aic      3274.04\n",
      "Name: 125, dtype: object}, {'76131': pdq    (3, 2, 5)\n",
      "aic         2960\n",
      "Name: 125, dtype: object}, {'76053': pdq    (3, 2, 5)\n",
      "aic      2917.07\n",
      "Name: 125, dtype: object}, {'76182': pdq    (4, 2, 5)\n",
      "aic      3088.69\n",
      "Name: 161, dtype: object}, {'76117': pdq    (3, 2, 5)\n",
      "aic      2912.72\n",
      "Name: 125, dtype: object}, {'76040': pdq    (1, 2, 5)\n",
      "aic      3023.03\n",
      "Name: 53, dtype: object}, {'76016': pdq    (2, 2, 5)\n",
      "aic      3008.51\n",
      "Name: 89, dtype: object}, {'76014': pdq    (2, 2, 5)\n",
      "aic      2856.67\n",
      "Name: 89, dtype: object}, {'76020': pdq    (3, 2, 5)\n",
      "aic      3120.05\n",
      "Name: 125, dtype: object}, {'76012': pdq    (2, 2, 5)\n",
      "aic      3144.62\n",
      "Name: 89, dtype: object}, {'76001': pdq    (4, 3, 5)\n",
      "aic      2964.46\n",
      "Name: 167, dtype: object}, {'76109': pdq    (4, 2, 5)\n",
      "aic       3380.2\n",
      "Name: 161, dtype: object}, {'76011': pdq    (2, 2, 5)\n",
      "aic      2967.53\n",
      "Name: 89, dtype: object}, {'76123': pdq    (2, 2, 5)\n",
      "aic      3049.03\n",
      "Name: 89, dtype: object}, {'76140': pdq    (4, 2, 5)\n",
      "aic      2983.05\n",
      "Name: 161, dtype: object}, {'76092': pdq    (5, 2, 5)\n",
      "aic      3444.61\n",
      "Name: 197, dtype: object}, {'76036': pdq    (1, 2, 5)\n",
      "aic      2989.95\n",
      "Name: 53, dtype: object}, {'76002': pdq    (2, 3, 5)\n",
      "aic      2954.14\n",
      "Name: 95, dtype: object}, {'76114': pdq    (2, 2, 5)\n",
      "aic      2971.29\n",
      "Name: 89, dtype: object}, {'76126': pdq    (4, 2, 5)\n",
      "aic      2957.92\n",
      "Name: 161, dtype: object}, {'76034': pdq    (2, 3, 5)\n",
      "aic      3337.36\n",
      "Name: 95, dtype: object}, {'76134': pdq    (0, 3, 5)\n",
      "aic      2854.25\n",
      "Name: 23, dtype: object}, {'76018': pdq    (2, 3, 5)\n",
      "aic      2941.84\n",
      "Name: 95, dtype: object}, {'76148': pdq    (3, 2, 5)\n",
      "aic      2958.06\n",
      "Name: 125, dtype: object}, {'76135': pdq    (2, 2, 5)\n",
      "aic         2998\n",
      "Name: 89, dtype: object}, {'76120': pdq    (0, 3, 5)\n",
      "aic      3039.61\n",
      "Name: 23, dtype: object}, {'76105': pdq    (5, 2, 5)\n",
      "aic      3200.77\n",
      "Name: 197, dtype: object}, {'76015': pdq    (4, 2, 5)\n",
      "aic      3047.29\n",
      "Name: 161, dtype: object}, {'76052': pdq    (4, 2, 5)\n",
      "aic      3310.88\n",
      "Name: 161, dtype: object}, {'76111': pdq    (4, 2, 5)\n",
      "aic      3056.83\n",
      "Name: 161, dtype: object}, {'76177': pdq    (2, 2, 5)\n",
      "aic      3127.43\n",
      "Name: 89, dtype: object}, {'76104': pdq    (0, 2, 5)\n",
      "aic      3383.21\n",
      "Name: 17, dtype: object}, {'76022': pdq    (0, 2, 5)\n",
      "aic      2933.69\n",
      "Name: 17, dtype: object}, {'76118': pdq    (4, 2, 5)\n",
      "aic       2955.5\n",
      "Name: 161, dtype: object}, {'76247': pdq    (0, 3, 5)\n",
      "aic      3057.93\n",
      "Name: 23, dtype: object}, {'76103': pdq    (0, 3, 5)\n",
      "aic      3031.74\n",
      "Name: 23, dtype: object}, {'76054': pdq    (4, 2, 5)\n",
      "aic      3077.02\n",
      "Name: 161, dtype: object}, {'76164': pdq    (3, 2, 5)\n",
      "aic      3200.22\n",
      "Name: 125, dtype: object}, {'76060': pdq    (4, 2, 5)\n",
      "aic      3142.58\n",
      "Name: 161, dtype: object}, {'76005': pdq    (4, 2, 5)\n",
      "aic      3553.13\n",
      "Name: 161, dtype: object}]\n"
     ]
    }
   ],
   "source": [
    "best_tarrant_models = []\n",
    "for zc in tqdm_notebook(tarrant_zips, desc='Total Grid Search Progress'):\n",
    "    zip_code, min_result = arima_grid_search(df = df_melted, pdq_range=range(0,6), zip_code=zc)\n",
    "    best_tarrant_models.append({f'{zip_code}': min_result})\n",
    "print(best_tarrant_models)"
   ]
  },
  {
   "cell_type": "markdown",
   "metadata": {},
   "source": [
    "## Model"
   ]
  },
  {
   "cell_type": "code",
   "execution_count": 10,
   "metadata": {
    "ExecuteTime": {
     "end_time": "2020-01-13T20:04:32.108649Z",
     "start_time": "2020-01-13T20:04:02.802716Z"
    }
   },
   "outputs": [
    {
     "data": {
      "text/html": [
       "<div>\n",
       "<style scoped>\n",
       "    .dataframe tbody tr th:only-of-type {\n",
       "        vertical-align: middle;\n",
       "    }\n",
       "\n",
       "    .dataframe tbody tr th {\n",
       "        vertical-align: top;\n",
       "    }\n",
       "\n",
       "    .dataframe thead th {\n",
       "        text-align: right;\n",
       "    }\n",
       "</style>\n",
       "<table border=\"1\" class=\"dataframe\">\n",
       "  <thead>\n",
       "    <tr style=\"text-align: right;\">\n",
       "      <th></th>\n",
       "      <th>MAPE (%)</th>\n",
       "      <th>R^2</th>\n",
       "      <th>pdq</th>\n",
       "    </tr>\n",
       "    <tr>\n",
       "      <th>Zip Code</th>\n",
       "      <th></th>\n",
       "      <th></th>\n",
       "      <th></th>\n",
       "    </tr>\n",
       "  </thead>\n",
       "  <tbody>\n",
       "    <tr>\n",
       "      <td>76120</td>\n",
       "      <td>0.9</td>\n",
       "      <td>0.978</td>\n",
       "      <td>(0, 3, 5)</td>\n",
       "    </tr>\n",
       "    <tr>\n",
       "      <td>76017</td>\n",
       "      <td>1.3</td>\n",
       "      <td>0.963</td>\n",
       "      <td>(1, 3, 5)</td>\n",
       "    </tr>\n",
       "    <tr>\n",
       "      <td>76063</td>\n",
       "      <td>1.4</td>\n",
       "      <td>0.958</td>\n",
       "      <td>(1, 3, 5)</td>\n",
       "    </tr>\n",
       "    <tr>\n",
       "      <td>76180</td>\n",
       "      <td>1.6</td>\n",
       "      <td>0.963</td>\n",
       "      <td>(1, 3, 5)</td>\n",
       "    </tr>\n",
       "    <tr>\n",
       "      <td>76177</td>\n",
       "      <td>1.7</td>\n",
       "      <td>0.896</td>\n",
       "      <td>(2, 2, 5)</td>\n",
       "    </tr>\n",
       "    <tr>\n",
       "      <td>76133</td>\n",
       "      <td>1.8</td>\n",
       "      <td>0.946</td>\n",
       "      <td>(2, 3, 5)</td>\n",
       "    </tr>\n",
       "    <tr>\n",
       "      <td>76052</td>\n",
       "      <td>3.1</td>\n",
       "      <td>0.592</td>\n",
       "      <td>(4, 2, 5)</td>\n",
       "    </tr>\n",
       "    <tr>\n",
       "      <td>76109</td>\n",
       "      <td>3.1</td>\n",
       "      <td>0.411</td>\n",
       "      <td>(4, 2, 5)</td>\n",
       "    </tr>\n",
       "    <tr>\n",
       "      <td>76016</td>\n",
       "      <td>3.1</td>\n",
       "      <td>0.747</td>\n",
       "      <td>(2, 2, 5)</td>\n",
       "    </tr>\n",
       "    <tr>\n",
       "      <td>76247</td>\n",
       "      <td>3.6</td>\n",
       "      <td>0.764</td>\n",
       "      <td>(0, 3, 5)</td>\n",
       "    </tr>\n",
       "    <tr>\n",
       "      <td>76001</td>\n",
       "      <td>3.7</td>\n",
       "      <td>0.711</td>\n",
       "      <td>(4, 3, 5)</td>\n",
       "    </tr>\n",
       "    <tr>\n",
       "      <td>76005</td>\n",
       "      <td>3.7</td>\n",
       "      <td>-0.262</td>\n",
       "      <td>(4, 2, 5)</td>\n",
       "    </tr>\n",
       "    <tr>\n",
       "      <td>76012</td>\n",
       "      <td>4.0</td>\n",
       "      <td>0.657</td>\n",
       "      <td>(2, 2, 5)</td>\n",
       "    </tr>\n",
       "    <tr>\n",
       "      <td>76002</td>\n",
       "      <td>4.3</td>\n",
       "      <td>0.674</td>\n",
       "      <td>(2, 3, 5)</td>\n",
       "    </tr>\n",
       "    <tr>\n",
       "      <td>76148</td>\n",
       "      <td>4.4</td>\n",
       "      <td>0.642</td>\n",
       "      <td>(3, 2, 5)</td>\n",
       "    </tr>\n",
       "    <tr>\n",
       "      <td>76126</td>\n",
       "      <td>5.2</td>\n",
       "      <td>0.280</td>\n",
       "      <td>(4, 2, 5)</td>\n",
       "    </tr>\n",
       "    <tr>\n",
       "      <td>76248</td>\n",
       "      <td>5.4</td>\n",
       "      <td>0.145</td>\n",
       "      <td>(3, 3, 5)</td>\n",
       "    </tr>\n",
       "    <tr>\n",
       "      <td>76111</td>\n",
       "      <td>5.6</td>\n",
       "      <td>0.718</td>\n",
       "      <td>(4, 2, 5)</td>\n",
       "    </tr>\n",
       "    <tr>\n",
       "      <td>76014</td>\n",
       "      <td>5.7</td>\n",
       "      <td>0.600</td>\n",
       "      <td>(2, 2, 5)</td>\n",
       "    </tr>\n",
       "    <tr>\n",
       "      <td>76244</td>\n",
       "      <td>5.9</td>\n",
       "      <td>0.218</td>\n",
       "      <td>(4, 3, 5)</td>\n",
       "    </tr>\n",
       "    <tr>\n",
       "      <td>76103</td>\n",
       "      <td>6.4</td>\n",
       "      <td>0.472</td>\n",
       "      <td>(0, 3, 5)</td>\n",
       "    </tr>\n",
       "    <tr>\n",
       "      <td>76051</td>\n",
       "      <td>7.2</td>\n",
       "      <td>-0.304</td>\n",
       "      <td>(0, 3, 5)</td>\n",
       "    </tr>\n",
       "    <tr>\n",
       "      <td>76135</td>\n",
       "      <td>7.2</td>\n",
       "      <td>-0.006</td>\n",
       "      <td>(2, 2, 5)</td>\n",
       "    </tr>\n",
       "    <tr>\n",
       "      <td>76118</td>\n",
       "      <td>7.2</td>\n",
       "      <td>0.105</td>\n",
       "      <td>(4, 2, 5)</td>\n",
       "    </tr>\n",
       "    <tr>\n",
       "      <td>76060</td>\n",
       "      <td>7.9</td>\n",
       "      <td>-0.604</td>\n",
       "      <td>(4, 2, 5)</td>\n",
       "    </tr>\n",
       "    <tr>\n",
       "      <td>76040</td>\n",
       "      <td>8.2</td>\n",
       "      <td>-0.573</td>\n",
       "      <td>(1, 2, 5)</td>\n",
       "    </tr>\n",
       "    <tr>\n",
       "      <td>76036</td>\n",
       "      <td>8.3</td>\n",
       "      <td>-0.945</td>\n",
       "      <td>(1, 2, 5)</td>\n",
       "    </tr>\n",
       "    <tr>\n",
       "      <td>76006</td>\n",
       "      <td>8.3</td>\n",
       "      <td>-0.838</td>\n",
       "      <td>(0, 3, 5)</td>\n",
       "    </tr>\n",
       "    <tr>\n",
       "      <td>76123</td>\n",
       "      <td>8.3</td>\n",
       "      <td>-0.483</td>\n",
       "      <td>(2, 2, 5)</td>\n",
       "    </tr>\n",
       "    <tr>\n",
       "      <td>76105</td>\n",
       "      <td>8.5</td>\n",
       "      <td>-0.253</td>\n",
       "      <td>(5, 2, 5)</td>\n",
       "    </tr>\n",
       "    <tr>\n",
       "      <td>76011</td>\n",
       "      <td>8.6</td>\n",
       "      <td>0.274</td>\n",
       "      <td>(2, 2, 5)</td>\n",
       "    </tr>\n",
       "    <tr>\n",
       "      <td>76131</td>\n",
       "      <td>8.9</td>\n",
       "      <td>-0.683</td>\n",
       "      <td>(3, 2, 5)</td>\n",
       "    </tr>\n",
       "    <tr>\n",
       "      <td>76179</td>\n",
       "      <td>9.2</td>\n",
       "      <td>-0.683</td>\n",
       "      <td>(1, 3, 5)</td>\n",
       "    </tr>\n",
       "    <tr>\n",
       "      <td>76108</td>\n",
       "      <td>9.3</td>\n",
       "      <td>-0.697</td>\n",
       "      <td>(4, 2, 5)</td>\n",
       "    </tr>\n",
       "    <tr>\n",
       "      <td>76039</td>\n",
       "      <td>9.7</td>\n",
       "      <td>-1.035</td>\n",
       "      <td>(3, 2, 5)</td>\n",
       "    </tr>\n",
       "    <tr>\n",
       "      <td>76013</td>\n",
       "      <td>9.9</td>\n",
       "      <td>-0.489</td>\n",
       "      <td>(4, 3, 5)</td>\n",
       "    </tr>\n",
       "    <tr>\n",
       "      <td>76034</td>\n",
       "      <td>11.1</td>\n",
       "      <td>-11.260</td>\n",
       "      <td>(2, 3, 5)</td>\n",
       "    </tr>\n",
       "    <tr>\n",
       "      <td>76119</td>\n",
       "      <td>11.5</td>\n",
       "      <td>-0.305</td>\n",
       "      <td>(0, 3, 5)</td>\n",
       "    </tr>\n",
       "    <tr>\n",
       "      <td>76022</td>\n",
       "      <td>11.5</td>\n",
       "      <td>-0.868</td>\n",
       "      <td>(0, 2, 5)</td>\n",
       "    </tr>\n",
       "    <tr>\n",
       "      <td>76107</td>\n",
       "      <td>11.8</td>\n",
       "      <td>-1.666</td>\n",
       "      <td>(4, 2, 5)</td>\n",
       "    </tr>\n",
       "    <tr>\n",
       "      <td>76117</td>\n",
       "      <td>12.3</td>\n",
       "      <td>-0.143</td>\n",
       "      <td>(3, 2, 5)</td>\n",
       "    </tr>\n",
       "    <tr>\n",
       "      <td>76134</td>\n",
       "      <td>12.3</td>\n",
       "      <td>-0.441</td>\n",
       "      <td>(0, 3, 5)</td>\n",
       "    </tr>\n",
       "    <tr>\n",
       "      <td>76018</td>\n",
       "      <td>12.5</td>\n",
       "      <td>-1.633</td>\n",
       "      <td>(2, 3, 5)</td>\n",
       "    </tr>\n",
       "    <tr>\n",
       "      <td>76054</td>\n",
       "      <td>12.7</td>\n",
       "      <td>-1.403</td>\n",
       "      <td>(4, 2, 5)</td>\n",
       "    </tr>\n",
       "    <tr>\n",
       "      <td>76132</td>\n",
       "      <td>12.8</td>\n",
       "      <td>-2.478</td>\n",
       "      <td>(3, 2, 5)</td>\n",
       "    </tr>\n",
       "    <tr>\n",
       "      <td>76053</td>\n",
       "      <td>13.1</td>\n",
       "      <td>-1.380</td>\n",
       "      <td>(3, 2, 5)</td>\n",
       "    </tr>\n",
       "    <tr>\n",
       "      <td>76015</td>\n",
       "      <td>13.4</td>\n",
       "      <td>-1.312</td>\n",
       "      <td>(4, 2, 5)</td>\n",
       "    </tr>\n",
       "    <tr>\n",
       "      <td>76114</td>\n",
       "      <td>13.5</td>\n",
       "      <td>-0.474</td>\n",
       "      <td>(2, 2, 5)</td>\n",
       "    </tr>\n",
       "    <tr>\n",
       "      <td>76182</td>\n",
       "      <td>13.7</td>\n",
       "      <td>-2.119</td>\n",
       "      <td>(4, 2, 5)</td>\n",
       "    </tr>\n",
       "    <tr>\n",
       "      <td>76021</td>\n",
       "      <td>13.7</td>\n",
       "      <td>-1.783</td>\n",
       "      <td>(3, 2, 5)</td>\n",
       "    </tr>\n",
       "    <tr>\n",
       "      <td>76010</td>\n",
       "      <td>13.9</td>\n",
       "      <td>-0.358</td>\n",
       "      <td>(0, 3, 5)</td>\n",
       "    </tr>\n",
       "    <tr>\n",
       "      <td>76092</td>\n",
       "      <td>14.0</td>\n",
       "      <td>-8.936</td>\n",
       "      <td>(5, 2, 5)</td>\n",
       "    </tr>\n",
       "    <tr>\n",
       "      <td>76137</td>\n",
       "      <td>14.8</td>\n",
       "      <td>-2.219</td>\n",
       "      <td>(5, 2, 5)</td>\n",
       "    </tr>\n",
       "    <tr>\n",
       "      <td>76020</td>\n",
       "      <td>14.8</td>\n",
       "      <td>-2.201</td>\n",
       "      <td>(3, 2, 5)</td>\n",
       "    </tr>\n",
       "    <tr>\n",
       "      <td>76116</td>\n",
       "      <td>15.7</td>\n",
       "      <td>-2.917</td>\n",
       "      <td>(4, 1, 5)</td>\n",
       "    </tr>\n",
       "    <tr>\n",
       "      <td>76112</td>\n",
       "      <td>17.3</td>\n",
       "      <td>-1.314</td>\n",
       "      <td>(0, 3, 5)</td>\n",
       "    </tr>\n",
       "    <tr>\n",
       "      <td>76104</td>\n",
       "      <td>17.4</td>\n",
       "      <td>-2.435</td>\n",
       "      <td>(0, 2, 5)</td>\n",
       "    </tr>\n",
       "    <tr>\n",
       "      <td>76140</td>\n",
       "      <td>18.9</td>\n",
       "      <td>-2.156</td>\n",
       "      <td>(4, 2, 5)</td>\n",
       "    </tr>\n",
       "    <tr>\n",
       "      <td>76164</td>\n",
       "      <td>23.9</td>\n",
       "      <td>-3.222</td>\n",
       "      <td>(3, 2, 5)</td>\n",
       "    </tr>\n",
       "  </tbody>\n",
       "</table>\n",
       "</div>"
      ],
      "text/plain": [
       "          MAPE (%)     R^2        pdq\n",
       "Zip Code                             \n",
       "76120          0.9   0.978  (0, 3, 5)\n",
       "76017          1.3   0.963  (1, 3, 5)\n",
       "76063          1.4   0.958  (1, 3, 5)\n",
       "76180          1.6   0.963  (1, 3, 5)\n",
       "76177          1.7   0.896  (2, 2, 5)\n",
       "76133          1.8   0.946  (2, 3, 5)\n",
       "76052          3.1   0.592  (4, 2, 5)\n",
       "76109          3.1   0.411  (4, 2, 5)\n",
       "76016          3.1   0.747  (2, 2, 5)\n",
       "76247          3.6   0.764  (0, 3, 5)\n",
       "76001          3.7   0.711  (4, 3, 5)\n",
       "76005          3.7  -0.262  (4, 2, 5)\n",
       "76012          4.0   0.657  (2, 2, 5)\n",
       "76002          4.3   0.674  (2, 3, 5)\n",
       "76148          4.4   0.642  (3, 2, 5)\n",
       "76126          5.2   0.280  (4, 2, 5)\n",
       "76248          5.4   0.145  (3, 3, 5)\n",
       "76111          5.6   0.718  (4, 2, 5)\n",
       "76014          5.7   0.600  (2, 2, 5)\n",
       "76244          5.9   0.218  (4, 3, 5)\n",
       "76103          6.4   0.472  (0, 3, 5)\n",
       "76051          7.2  -0.304  (0, 3, 5)\n",
       "76135          7.2  -0.006  (2, 2, 5)\n",
       "76118          7.2   0.105  (4, 2, 5)\n",
       "76060          7.9  -0.604  (4, 2, 5)\n",
       "76040          8.2  -0.573  (1, 2, 5)\n",
       "76036          8.3  -0.945  (1, 2, 5)\n",
       "76006          8.3  -0.838  (0, 3, 5)\n",
       "76123          8.3  -0.483  (2, 2, 5)\n",
       "76105          8.5  -0.253  (5, 2, 5)\n",
       "76011          8.6   0.274  (2, 2, 5)\n",
       "76131          8.9  -0.683  (3, 2, 5)\n",
       "76179          9.2  -0.683  (1, 3, 5)\n",
       "76108          9.3  -0.697  (4, 2, 5)\n",
       "76039          9.7  -1.035  (3, 2, 5)\n",
       "76013          9.9  -0.489  (4, 3, 5)\n",
       "76034         11.1 -11.260  (2, 3, 5)\n",
       "76119         11.5  -0.305  (0, 3, 5)\n",
       "76022         11.5  -0.868  (0, 2, 5)\n",
       "76107         11.8  -1.666  (4, 2, 5)\n",
       "76117         12.3  -0.143  (3, 2, 5)\n",
       "76134         12.3  -0.441  (0, 3, 5)\n",
       "76018         12.5  -1.633  (2, 3, 5)\n",
       "76054         12.7  -1.403  (4, 2, 5)\n",
       "76132         12.8  -2.478  (3, 2, 5)\n",
       "76053         13.1  -1.380  (3, 2, 5)\n",
       "76015         13.4  -1.312  (4, 2, 5)\n",
       "76114         13.5  -0.474  (2, 2, 5)\n",
       "76182         13.7  -2.119  (4, 2, 5)\n",
       "76021         13.7  -1.783  (3, 2, 5)\n",
       "76010         13.9  -0.358  (0, 3, 5)\n",
       "76092         14.0  -8.936  (5, 2, 5)\n",
       "76137         14.8  -2.219  (5, 2, 5)\n",
       "76020         14.8  -2.201  (3, 2, 5)\n",
       "76116         15.7  -2.917  (4, 1, 5)\n",
       "76112         17.3  -1.314  (0, 3, 5)\n",
       "76104         17.4  -2.435  (0, 2, 5)\n",
       "76140         18.9  -2.156  (4, 2, 5)\n",
       "76164         23.9  -3.222  (3, 2, 5)"
      ]
     },
     "metadata": {},
     "output_type": "display_data"
    }
   ],
   "source": [
    "# Loop to generate dataframe of all model prediction results, ranked by MAPE (%)\n",
    "\n",
    "df_all_preds = pd.DataFrame([])\n",
    "for i in range(len(best_tarrant_models)):\n",
    "    zip_i = int(list(best_tarrant_models[i].keys())[0])\n",
    "    pdq_i = list(best_tarrant_models[i].values())[0][0]\n",
    "    \n",
    "    summ_i = predict_arima(df=df_melted, zip_code=zip_i, train_end='2015-04', test_begin='2015-05', test_end='2018-04',\n",
    "                  pdq=pdq_i, plot=False)\n",
    "    \n",
    "    df_all_preds = pd.concat([df_all_preds, summ_i], axis=0)\n",
    "    df_preds_ranked = df_all_preds.sort_values('MAPE (%)')\n",
    "df_preds_ranked.set_index('Zip Code', inplace=True)\n",
    "display(df_preds_ranked)\n",
    "    \n"
   ]
  },
  {
   "cell_type": "markdown",
   "metadata": {},
   "source": [
    "## Interpret"
   ]
  },
  {
   "cell_type": "code",
   "execution_count": null,
   "metadata": {
    "ExecuteTime": {
     "end_time": "2020-01-13T17:41:18.496304Z",
     "start_time": "2020-01-13T17:41:18.109358Z"
    }
   },
   "outputs": [],
   "source": []
  },
  {
   "cell_type": "code",
   "execution_count": 11,
   "metadata": {
    "ExecuteTime": {
     "end_time": "2020-01-13T20:04:32.464837Z",
     "start_time": "2020-01-13T20:04:32.109603Z"
    }
   },
   "outputs": [
    {
     "data": {
      "image/png": "[encoded data removed]",
      "text/plain": [
       "<Figure size 576x360 with 1 Axes>"
      ]
     },
     "metadata": {
      "needs_background": "light"
     },
     "output_type": "display_data"
    },
    {
     "data": {
      "text/html": [
       "<div>\n",
       "<style scoped>\n",
       "    .dataframe tbody tr th:only-of-type {\n",
       "        vertical-align: middle;\n",
       "    }\n",
       "\n",
       "    .dataframe tbody tr th {\n",
       "        vertical-align: top;\n",
       "    }\n",
       "\n",
       "    .dataframe thead th {\n",
       "        text-align: right;\n",
       "    }\n",
       "</style>\n",
       "<table border=\"1\" class=\"dataframe\">\n",
       "  <thead>\n",
       "    <tr style=\"text-align: right;\">\n",
       "      <th></th>\n",
       "      <th>Zip Code</th>\n",
       "      <th>Forecast ROI (%)</th>\n",
       "      <th>L 95 ROI (%)</th>\n",
       "      <th>H 95 ROI (%)</th>\n",
       "      <th>95 CL Size (%)</th>\n",
       "    </tr>\n",
       "  </thead>\n",
       "  <tbody>\n",
       "    <tr>\n",
       "      <td>0</td>\n",
       "      <td>76133</td>\n",
       "      <td>38.1</td>\n",
       "      <td>2.5</td>\n",
       "      <td>73.6</td>\n",
       "      <td>71.1</td>\n",
       "    </tr>\n",
       "  </tbody>\n",
       "</table>\n",
       "</div>"
      ],
      "text/plain": [
       "  Zip Code  Forecast ROI (%)  L 95 ROI (%)  H 95 ROI (%)  95 CL Size (%)\n",
       "0    76133              38.1           2.5          73.6            71.1"
      ]
     },
     "execution_count": 11,
     "metadata": {},
     "output_type": "execute_result"
    }
   ],
   "source": [
    "forecast_arima(df=df_melted, zip_code=76133, forecast_begin='2018-05', forecast_end='2021-04', pdq=(0,3,3), plot=True)"
   ]
  },
  {
   "cell_type": "code",
   "execution_count": 12,
   "metadata": {
    "ExecuteTime": {
     "end_time": "2020-01-13T20:05:03.892832Z",
     "start_time": "2020-01-13T20:04:32.465828Z"
    }
   },
   "outputs": [
    {
     "data": {
      "text/html": [
       "<div>\n",
       "<style scoped>\n",
       "    .dataframe tbody tr th:only-of-type {\n",
       "        vertical-align: middle;\n",
       "    }\n",
       "\n",
       "    .dataframe tbody tr th {\n",
       "        vertical-align: top;\n",
       "    }\n",
       "\n",
       "    .dataframe thead th {\n",
       "        text-align: right;\n",
       "    }\n",
       "</style>\n",
       "<table border=\"1\" class=\"dataframe\">\n",
       "  <thead>\n",
       "    <tr style=\"text-align: right;\">\n",
       "      <th></th>\n",
       "      <th>Forecast ROI (%)</th>\n",
       "      <th>L 95 ROI (%)</th>\n",
       "      <th>H 95 ROI (%)</th>\n",
       "      <th>95 CL Size (%)</th>\n",
       "    </tr>\n",
       "    <tr>\n",
       "      <th>Zip Code</th>\n",
       "      <th></th>\n",
       "      <th></th>\n",
       "      <th></th>\n",
       "      <th></th>\n",
       "    </tr>\n",
       "  </thead>\n",
       "  <tbody>\n",
       "    <tr>\n",
       "      <td>76114</td>\n",
       "      <td>70.3</td>\n",
       "      <td>39.3</td>\n",
       "      <td>101.2</td>\n",
       "      <td>61.9</td>\n",
       "    </tr>\n",
       "    <tr>\n",
       "      <td>76111</td>\n",
       "      <td>45.3</td>\n",
       "      <td>17.9</td>\n",
       "      <td>72.6</td>\n",
       "      <td>54.7</td>\n",
       "    </tr>\n",
       "    <tr>\n",
       "      <td>76148</td>\n",
       "      <td>41.9</td>\n",
       "      <td>23.3</td>\n",
       "      <td>60.5</td>\n",
       "      <td>37.2</td>\n",
       "    </tr>\n",
       "    <tr>\n",
       "      <td>76164</td>\n",
       "      <td>41.8</td>\n",
       "      <td>9.9</td>\n",
       "      <td>73.7</td>\n",
       "      <td>63.8</td>\n",
       "    </tr>\n",
       "    <tr>\n",
       "      <td>76010</td>\n",
       "      <td>39.7</td>\n",
       "      <td>13.0</td>\n",
       "      <td>66.4</td>\n",
       "      <td>53.4</td>\n",
       "    </tr>\n",
       "    <tr>\n",
       "      <td>76119</td>\n",
       "      <td>38.7</td>\n",
       "      <td>4.7</td>\n",
       "      <td>72.6</td>\n",
       "      <td>67.9</td>\n",
       "    </tr>\n",
       "    <tr>\n",
       "      <td>76103</td>\n",
       "      <td>38.3</td>\n",
       "      <td>-16.7</td>\n",
       "      <td>93.2</td>\n",
       "      <td>109.9</td>\n",
       "    </tr>\n",
       "    <tr>\n",
       "      <td>76133</td>\n",
       "      <td>38.1</td>\n",
       "      <td>-2.5</td>\n",
       "      <td>78.6</td>\n",
       "      <td>81.1</td>\n",
       "    </tr>\n",
       "    <tr>\n",
       "      <td>76112</td>\n",
       "      <td>33.8</td>\n",
       "      <td>5.6</td>\n",
       "      <td>62.0</td>\n",
       "      <td>56.4</td>\n",
       "    </tr>\n",
       "    <tr>\n",
       "      <td>76117</td>\n",
       "      <td>31.9</td>\n",
       "      <td>8.5</td>\n",
       "      <td>55.4</td>\n",
       "      <td>46.9</td>\n",
       "    </tr>\n",
       "    <tr>\n",
       "      <td>76134</td>\n",
       "      <td>29.1</td>\n",
       "      <td>7.2</td>\n",
       "      <td>51.1</td>\n",
       "      <td>43.9</td>\n",
       "    </tr>\n",
       "    <tr>\n",
       "      <td>76002</td>\n",
       "      <td>29.1</td>\n",
       "      <td>3.4</td>\n",
       "      <td>54.7</td>\n",
       "      <td>51.3</td>\n",
       "    </tr>\n",
       "    <tr>\n",
       "      <td>76140</td>\n",
       "      <td>28.8</td>\n",
       "      <td>2.8</td>\n",
       "      <td>54.9</td>\n",
       "      <td>52.1</td>\n",
       "    </tr>\n",
       "    <tr>\n",
       "      <td>76180</td>\n",
       "      <td>28.3</td>\n",
       "      <td>7.5</td>\n",
       "      <td>49.1</td>\n",
       "      <td>41.6</td>\n",
       "    </tr>\n",
       "    <tr>\n",
       "      <td>76015</td>\n",
       "      <td>28.0</td>\n",
       "      <td>8.2</td>\n",
       "      <td>47.7</td>\n",
       "      <td>39.5</td>\n",
       "    </tr>\n",
       "    <tr>\n",
       "      <td>76109</td>\n",
       "      <td>27.9</td>\n",
       "      <td>-9.4</td>\n",
       "      <td>65.2</td>\n",
       "      <td>74.6</td>\n",
       "    </tr>\n",
       "    <tr>\n",
       "      <td>76014</td>\n",
       "      <td>27.8</td>\n",
       "      <td>0.2</td>\n",
       "      <td>55.4</td>\n",
       "      <td>55.2</td>\n",
       "    </tr>\n",
       "    <tr>\n",
       "      <td>76036</td>\n",
       "      <td>26.6</td>\n",
       "      <td>10.9</td>\n",
       "      <td>42.3</td>\n",
       "      <td>31.4</td>\n",
       "    </tr>\n",
       "    <tr>\n",
       "      <td>76126</td>\n",
       "      <td>26.2</td>\n",
       "      <td>9.9</td>\n",
       "      <td>42.6</td>\n",
       "      <td>32.7</td>\n",
       "    </tr>\n",
       "    <tr>\n",
       "      <td>76105</td>\n",
       "      <td>25.8</td>\n",
       "      <td>-7.1</td>\n",
       "      <td>58.7</td>\n",
       "      <td>65.8</td>\n",
       "    </tr>\n",
       "    <tr>\n",
       "      <td>76039</td>\n",
       "      <td>25.4</td>\n",
       "      <td>8.2</td>\n",
       "      <td>42.6</td>\n",
       "      <td>34.4</td>\n",
       "    </tr>\n",
       "    <tr>\n",
       "      <td>76247</td>\n",
       "      <td>25.1</td>\n",
       "      <td>-3.3</td>\n",
       "      <td>53.5</td>\n",
       "      <td>56.8</td>\n",
       "    </tr>\n",
       "    <tr>\n",
       "      <td>76022</td>\n",
       "      <td>24.7</td>\n",
       "      <td>7.6</td>\n",
       "      <td>41.8</td>\n",
       "      <td>34.2</td>\n",
       "    </tr>\n",
       "    <tr>\n",
       "      <td>76040</td>\n",
       "      <td>24.6</td>\n",
       "      <td>9.4</td>\n",
       "      <td>39.9</td>\n",
       "      <td>30.5</td>\n",
       "    </tr>\n",
       "    <tr>\n",
       "      <td>76012</td>\n",
       "      <td>23.3</td>\n",
       "      <td>-20.9</td>\n",
       "      <td>67.6</td>\n",
       "      <td>88.5</td>\n",
       "    </tr>\n",
       "    <tr>\n",
       "      <td>76108</td>\n",
       "      <td>23.3</td>\n",
       "      <td>4.8</td>\n",
       "      <td>41.7</td>\n",
       "      <td>36.9</td>\n",
       "    </tr>\n",
       "    <tr>\n",
       "      <td>76001</td>\n",
       "      <td>22.3</td>\n",
       "      <td>-10.3</td>\n",
       "      <td>54.8</td>\n",
       "      <td>65.1</td>\n",
       "    </tr>\n",
       "    <tr>\n",
       "      <td>76017</td>\n",
       "      <td>22.2</td>\n",
       "      <td>0.0</td>\n",
       "      <td>44.3</td>\n",
       "      <td>44.3</td>\n",
       "    </tr>\n",
       "    <tr>\n",
       "      <td>76131</td>\n",
       "      <td>21.7</td>\n",
       "      <td>2.1</td>\n",
       "      <td>41.3</td>\n",
       "      <td>39.2</td>\n",
       "    </tr>\n",
       "    <tr>\n",
       "      <td>76107</td>\n",
       "      <td>21.0</td>\n",
       "      <td>5.3</td>\n",
       "      <td>36.6</td>\n",
       "      <td>31.3</td>\n",
       "    </tr>\n",
       "    <tr>\n",
       "      <td>76053</td>\n",
       "      <td>20.8</td>\n",
       "      <td>1.0</td>\n",
       "      <td>40.5</td>\n",
       "      <td>39.5</td>\n",
       "    </tr>\n",
       "    <tr>\n",
       "      <td>76248</td>\n",
       "      <td>20.7</td>\n",
       "      <td>-9.3</td>\n",
       "      <td>50.8</td>\n",
       "      <td>60.1</td>\n",
       "    </tr>\n",
       "    <tr>\n",
       "      <td>76016</td>\n",
       "      <td>20.6</td>\n",
       "      <td>-0.8</td>\n",
       "      <td>42.1</td>\n",
       "      <td>42.9</td>\n",
       "    </tr>\n",
       "    <tr>\n",
       "      <td>76179</td>\n",
       "      <td>20.1</td>\n",
       "      <td>-1.4</td>\n",
       "      <td>41.6</td>\n",
       "      <td>43.0</td>\n",
       "    </tr>\n",
       "    <tr>\n",
       "      <td>76006</td>\n",
       "      <td>18.9</td>\n",
       "      <td>-13.6</td>\n",
       "      <td>51.5</td>\n",
       "      <td>65.1</td>\n",
       "    </tr>\n",
       "    <tr>\n",
       "      <td>76051</td>\n",
       "      <td>18.9</td>\n",
       "      <td>1.5</td>\n",
       "      <td>36.3</td>\n",
       "      <td>34.8</td>\n",
       "    </tr>\n",
       "    <tr>\n",
       "      <td>76018</td>\n",
       "      <td>18.6</td>\n",
       "      <td>-20.5</td>\n",
       "      <td>57.7</td>\n",
       "      <td>78.2</td>\n",
       "    </tr>\n",
       "    <tr>\n",
       "      <td>76054</td>\n",
       "      <td>18.6</td>\n",
       "      <td>1.2</td>\n",
       "      <td>36.0</td>\n",
       "      <td>34.8</td>\n",
       "    </tr>\n",
       "    <tr>\n",
       "      <td>76063</td>\n",
       "      <td>18.3</td>\n",
       "      <td>-1.7</td>\n",
       "      <td>38.3</td>\n",
       "      <td>40.0</td>\n",
       "    </tr>\n",
       "    <tr>\n",
       "      <td>76137</td>\n",
       "      <td>17.8</td>\n",
       "      <td>-10.2</td>\n",
       "      <td>45.7</td>\n",
       "      <td>55.9</td>\n",
       "    </tr>\n",
       "    <tr>\n",
       "      <td>76123</td>\n",
       "      <td>17.6</td>\n",
       "      <td>-21.0</td>\n",
       "      <td>56.3</td>\n",
       "      <td>77.3</td>\n",
       "    </tr>\n",
       "    <tr>\n",
       "      <td>76021</td>\n",
       "      <td>16.9</td>\n",
       "      <td>-3.9</td>\n",
       "      <td>37.8</td>\n",
       "      <td>41.7</td>\n",
       "    </tr>\n",
       "    <tr>\n",
       "      <td>76034</td>\n",
       "      <td>16.6</td>\n",
       "      <td>-10.7</td>\n",
       "      <td>43.8</td>\n",
       "      <td>54.5</td>\n",
       "    </tr>\n",
       "    <tr>\n",
       "      <td>76011</td>\n",
       "      <td>16.3</td>\n",
       "      <td>-14.7</td>\n",
       "      <td>47.3</td>\n",
       "      <td>62.0</td>\n",
       "    </tr>\n",
       "    <tr>\n",
       "      <td>76020</td>\n",
       "      <td>16.3</td>\n",
       "      <td>-2.9</td>\n",
       "      <td>35.6</td>\n",
       "      <td>38.5</td>\n",
       "    </tr>\n",
       "    <tr>\n",
       "      <td>76118</td>\n",
       "      <td>16.0</td>\n",
       "      <td>-1.1</td>\n",
       "      <td>33.2</td>\n",
       "      <td>34.3</td>\n",
       "    </tr>\n",
       "    <tr>\n",
       "      <td>76120</td>\n",
       "      <td>15.9</td>\n",
       "      <td>-14.0</td>\n",
       "      <td>45.9</td>\n",
       "      <td>59.9</td>\n",
       "    </tr>\n",
       "    <tr>\n",
       "      <td>76182</td>\n",
       "      <td>15.6</td>\n",
       "      <td>0.4</td>\n",
       "      <td>30.8</td>\n",
       "      <td>30.4</td>\n",
       "    </tr>\n",
       "    <tr>\n",
       "      <td>76135</td>\n",
       "      <td>14.3</td>\n",
       "      <td>-22.0</td>\n",
       "      <td>50.7</td>\n",
       "      <td>72.7</td>\n",
       "    </tr>\n",
       "    <tr>\n",
       "      <td>76060</td>\n",
       "      <td>13.9</td>\n",
       "      <td>-14.5</td>\n",
       "      <td>42.3</td>\n",
       "      <td>56.8</td>\n",
       "    </tr>\n",
       "    <tr>\n",
       "      <td>76052</td>\n",
       "      <td>13.9</td>\n",
       "      <td>-12.9</td>\n",
       "      <td>40.7</td>\n",
       "      <td>53.6</td>\n",
       "    </tr>\n",
       "    <tr>\n",
       "      <td>76132</td>\n",
       "      <td>13.8</td>\n",
       "      <td>-7.9</td>\n",
       "      <td>35.4</td>\n",
       "      <td>43.3</td>\n",
       "    </tr>\n",
       "    <tr>\n",
       "      <td>76116</td>\n",
       "      <td>12.3</td>\n",
       "      <td>-8.5</td>\n",
       "      <td>33.0</td>\n",
       "      <td>41.5</td>\n",
       "    </tr>\n",
       "    <tr>\n",
       "      <td>76177</td>\n",
       "      <td>11.0</td>\n",
       "      <td>-8.1</td>\n",
       "      <td>30.1</td>\n",
       "      <td>38.2</td>\n",
       "    </tr>\n",
       "    <tr>\n",
       "      <td>76104</td>\n",
       "      <td>7.0</td>\n",
       "      <td>-12.4</td>\n",
       "      <td>26.4</td>\n",
       "      <td>38.8</td>\n",
       "    </tr>\n",
       "    <tr>\n",
       "      <td>76092</td>\n",
       "      <td>2.2</td>\n",
       "      <td>-21.2</td>\n",
       "      <td>25.7</td>\n",
       "      <td>46.9</td>\n",
       "    </tr>\n",
       "    <tr>\n",
       "      <td>76005</td>\n",
       "      <td>-6.8</td>\n",
       "      <td>-60.4</td>\n",
       "      <td>46.7</td>\n",
       "      <td>107.1</td>\n",
       "    </tr>\n",
       "    <tr>\n",
       "      <td>76013</td>\n",
       "      <td>-10.7</td>\n",
       "      <td>-146.1</td>\n",
       "      <td>124.7</td>\n",
       "      <td>270.8</td>\n",
       "    </tr>\n",
       "    <tr>\n",
       "      <td>76244</td>\n",
       "      <td>-16.5</td>\n",
       "      <td>-84.4</td>\n",
       "      <td>51.5</td>\n",
       "      <td>135.9</td>\n",
       "    </tr>\n",
       "  </tbody>\n",
       "</table>\n",
       "</div>"
      ],
      "text/plain": [
       "          Forecast ROI (%)  L 95 ROI (%)  H 95 ROI (%)  95 CL Size (%)\n",
       "Zip Code                                                              \n",
       "76114                 70.3          39.3         101.2            61.9\n",
       "76111                 45.3          17.9          72.6            54.7\n",
       "76148                 41.9          23.3          60.5            37.2\n",
       "76164                 41.8           9.9          73.7            63.8\n",
       "76010                 39.7          13.0          66.4            53.4\n",
       "76119                 38.7           4.7          72.6            67.9\n",
       "76103                 38.3         -16.7          93.2           109.9\n",
       "76133                 38.1          -2.5          78.6            81.1\n",
       "76112                 33.8           5.6          62.0            56.4\n",
       "76117                 31.9           8.5          55.4            46.9\n",
       "76134                 29.1           7.2          51.1            43.9\n",
       "76002                 29.1           3.4          54.7            51.3\n",
       "76140                 28.8           2.8          54.9            52.1\n",
       "76180                 28.3           7.5          49.1            41.6\n",
       "76015                 28.0           8.2          47.7            39.5\n",
       "76109                 27.9          -9.4          65.2            74.6\n",
       "76014                 27.8           0.2          55.4            55.2\n",
       "76036                 26.6          10.9          42.3            31.4\n",
       "76126                 26.2           9.9          42.6            32.7\n",
       "76105                 25.8          -7.1          58.7            65.8\n",
       "76039                 25.4           8.2          42.6            34.4\n",
       "76247                 25.1          -3.3          53.5            56.8\n",
       "76022                 24.7           7.6          41.8            34.2\n",
       "76040                 24.6           9.4          39.9            30.5\n",
       "76012                 23.3         -20.9          67.6            88.5\n",
       "76108                 23.3           4.8          41.7            36.9\n",
       "76001                 22.3         -10.3          54.8            65.1\n",
       "76017                 22.2           0.0          44.3            44.3\n",
       "76131                 21.7           2.1          41.3            39.2\n",
       "76107                 21.0           5.3          36.6            31.3\n",
       "76053                 20.8           1.0          40.5            39.5\n",
       "76248                 20.7          -9.3          50.8            60.1\n",
       "76016                 20.6          -0.8          42.1            42.9\n",
       "76179                 20.1          -1.4          41.6            43.0\n",
       "76006                 18.9         -13.6          51.5            65.1\n",
       "76051                 18.9           1.5          36.3            34.8\n",
       "76018                 18.6         -20.5          57.7            78.2\n",
       "76054                 18.6           1.2          36.0            34.8\n",
       "76063                 18.3          -1.7          38.3            40.0\n",
       "76137                 17.8         -10.2          45.7            55.9\n",
       "76123                 17.6         -21.0          56.3            77.3\n",
       "76021                 16.9          -3.9          37.8            41.7\n",
       "76034                 16.6         -10.7          43.8            54.5\n",
       "76011                 16.3         -14.7          47.3            62.0\n",
       "76020                 16.3          -2.9          35.6            38.5\n",
       "76118                 16.0          -1.1          33.2            34.3\n",
       "76120                 15.9         -14.0          45.9            59.9\n",
       "76182                 15.6           0.4          30.8            30.4\n",
       "76135                 14.3         -22.0          50.7            72.7\n",
       "76060                 13.9         -14.5          42.3            56.8\n",
       "76052                 13.9         -12.9          40.7            53.6\n",
       "76132                 13.8          -7.9          35.4            43.3\n",
       "76116                 12.3          -8.5          33.0            41.5\n",
       "76177                 11.0          -8.1          30.1            38.2\n",
       "76104                  7.0         -12.4          26.4            38.8\n",
       "76092                  2.2         -21.2          25.7            46.9\n",
       "76005                 -6.8         -60.4          46.7           107.1\n",
       "76013                -10.7        -146.1         124.7           270.8\n",
       "76244                -16.5         -84.4          51.5           135.9"
      ]
     },
     "metadata": {},
     "output_type": "display_data"
    }
   ],
   "source": [
    "# Loop to generate dataframe of all model forecast results, ranked by ROI (%)\n",
    "\n",
    "df_all_fcs = pd.DataFrame([])\n",
    "for i in range(len(best_tarrant_models)):\n",
    "    zip_i = int(list(best_tarrant_models[i].keys())[0])\n",
    "    pdq_i = list(best_tarrant_models[i].values())[0][0]\n",
    "    \n",
    "    fc_sum_i = forecast_arima(df=df_melted, zip_code=zip_i, forecast_begin='2018-05', forecast_end='2021-04', \n",
    "                              pdq=pdq_i, plot=False)\n",
    "    \n",
    "    df_all_fcs = pd.concat([df_all_fcs, fc_sum_i], axis=0)\n",
    "    df_fcs_ranked = df_all_fcs.sort_values('Forecast ROI (%)', ascending=False)\n",
    "df_fcs_ranked.set_index('Zip Code', inplace=True)\n",
    "display(df_fcs_ranked)"
   ]
  },
  {
   "cell_type": "code",
   "execution_count": 18,
   "metadata": {
    "ExecuteTime": {
     "end_time": "2020-01-13T20:06:49.354241Z",
     "start_time": "2020-01-13T20:06:49.307613Z"
    }
   },
   "outputs": [
    {
     "data": {
      "text/html": [
       "<div>\n",
       "<style scoped>\n",
       "    .dataframe tbody tr th:only-of-type {\n",
       "        vertical-align: middle;\n",
       "    }\n",
       "\n",
       "    .dataframe tbody tr th {\n",
       "        vertical-align: top;\n",
       "    }\n",
       "\n",
       "    .dataframe thead th {\n",
       "        text-align: right;\n",
       "    }\n",
       "</style>\n",
       "<table border=\"1\" class=\"dataframe\">\n",
       "  <thead>\n",
       "    <tr style=\"text-align: right;\">\n",
       "      <th></th>\n",
       "      <th>MAPE (%)</th>\n",
       "      <th>R^2</th>\n",
       "      <th>pdq</th>\n",
       "      <th>Forecast ROI (%)</th>\n",
       "      <th>L 95 ROI (%)</th>\n",
       "      <th>H 95 ROI (%)</th>\n",
       "      <th>95 CL Size (%)</th>\n",
       "      <th>inv_score</th>\n",
       "    </tr>\n",
       "    <tr>\n",
       "      <th>Zip Code</th>\n",
       "      <th></th>\n",
       "      <th></th>\n",
       "      <th></th>\n",
       "      <th></th>\n",
       "      <th></th>\n",
       "      <th></th>\n",
       "      <th></th>\n",
       "      <th></th>\n",
       "    </tr>\n",
       "  </thead>\n",
       "  <tbody>\n",
       "    <tr>\n",
       "      <td>76180</td>\n",
       "      <td>1.6</td>\n",
       "      <td>0.963</td>\n",
       "      <td>(1, 3, 5)</td>\n",
       "      <td>28.3</td>\n",
       "      <td>7.5</td>\n",
       "      <td>49.1</td>\n",
       "      <td>41.6</td>\n",
       "      <td>0.425180</td>\n",
       "    </tr>\n",
       "    <tr>\n",
       "      <td>76017</td>\n",
       "      <td>1.3</td>\n",
       "      <td>0.963</td>\n",
       "      <td>(1, 3, 5)</td>\n",
       "      <td>22.2</td>\n",
       "      <td>0.0</td>\n",
       "      <td>44.3</td>\n",
       "      <td>44.3</td>\n",
       "      <td>0.385484</td>\n",
       "    </tr>\n",
       "    <tr>\n",
       "      <td>76063</td>\n",
       "      <td>1.4</td>\n",
       "      <td>0.958</td>\n",
       "      <td>(1, 3, 5)</td>\n",
       "      <td>18.3</td>\n",
       "      <td>-1.7</td>\n",
       "      <td>38.3</td>\n",
       "      <td>40.0</td>\n",
       "      <td>0.326786</td>\n",
       "    </tr>\n",
       "    <tr>\n",
       "      <td>76120</td>\n",
       "      <td>0.9</td>\n",
       "      <td>0.978</td>\n",
       "      <td>(0, 3, 5)</td>\n",
       "      <td>15.9</td>\n",
       "      <td>-14.0</td>\n",
       "      <td>45.9</td>\n",
       "      <td>59.9</td>\n",
       "      <td>0.294936</td>\n",
       "    </tr>\n",
       "    <tr>\n",
       "      <td>76133</td>\n",
       "      <td>1.8</td>\n",
       "      <td>0.946</td>\n",
       "      <td>(2, 3, 5)</td>\n",
       "      <td>38.1</td>\n",
       "      <td>-2.5</td>\n",
       "      <td>78.6</td>\n",
       "      <td>81.1</td>\n",
       "      <td>0.260995</td>\n",
       "    </tr>\n",
       "  </tbody>\n",
       "</table>\n",
       "</div>"
      ],
      "text/plain": [
       "          MAPE (%)    R^2        pdq  ...  H 95 ROI (%)  95 CL Size (%)  inv_score\n",
       "Zip Code                              ...                                         \n",
       "76180          1.6  0.963  (1, 3, 5)  ...          49.1            41.6   0.425180\n",
       "76017          1.3  0.963  (1, 3, 5)  ...          44.3            44.3   0.385484\n",
       "76063          1.4  0.958  (1, 3, 5)  ...          38.3            40.0   0.326786\n",
       "76120          0.9  0.978  (0, 3, 5)  ...          45.9            59.9   0.294936\n",
       "76133          1.8  0.946  (2, 3, 5)  ...          78.6            81.1   0.260995\n",
       "\n",
       "[5 rows x 8 columns]"
      ]
     },
     "metadata": {},
     "output_type": "display_data"
    },
    {
     "data": {
      "text/html": [
       "<div>\n",
       "<style scoped>\n",
       "    .dataframe tbody tr th:only-of-type {\n",
       "        vertical-align: middle;\n",
       "    }\n",
       "\n",
       "    .dataframe tbody tr th {\n",
       "        vertical-align: top;\n",
       "    }\n",
       "\n",
       "    .dataframe thead th {\n",
       "        text-align: right;\n",
       "    }\n",
       "</style>\n",
       "<table border=\"1\" class=\"dataframe\">\n",
       "  <thead>\n",
       "    <tr style=\"text-align: right;\">\n",
       "      <th></th>\n",
       "      <th>MAPE (%)</th>\n",
       "      <th>R^2</th>\n",
       "      <th>pdq</th>\n",
       "      <th>Forecast ROI (%)</th>\n",
       "      <th>L 95 ROI (%)</th>\n",
       "      <th>H 95 ROI (%)</th>\n",
       "      <th>95 CL Size (%)</th>\n",
       "      <th>inv_score</th>\n",
       "    </tr>\n",
       "    <tr>\n",
       "      <th>Zip Code</th>\n",
       "      <th></th>\n",
       "      <th></th>\n",
       "      <th></th>\n",
       "      <th></th>\n",
       "      <th></th>\n",
       "      <th></th>\n",
       "      <th></th>\n",
       "      <th></th>\n",
       "    </tr>\n",
       "  </thead>\n",
       "  <tbody>\n",
       "    <tr>\n",
       "      <td>76104</td>\n",
       "      <td>17.4</td>\n",
       "      <td>-2.435</td>\n",
       "      <td>(0, 2, 5)</td>\n",
       "      <td>7.0</td>\n",
       "      <td>-12.4</td>\n",
       "      <td>26.4</td>\n",
       "      <td>38.8</td>\n",
       "      <td>0.010369</td>\n",
       "    </tr>\n",
       "    <tr>\n",
       "      <td>76092</td>\n",
       "      <td>14.0</td>\n",
       "      <td>-8.936</td>\n",
       "      <td>(5, 2, 5)</td>\n",
       "      <td>2.2</td>\n",
       "      <td>-21.2</td>\n",
       "      <td>25.7</td>\n",
       "      <td>46.9</td>\n",
       "      <td>0.003351</td>\n",
       "    </tr>\n",
       "    <tr>\n",
       "      <td>76013</td>\n",
       "      <td>9.9</td>\n",
       "      <td>-0.489</td>\n",
       "      <td>(4, 3, 5)</td>\n",
       "      <td>-10.7</td>\n",
       "      <td>-146.1</td>\n",
       "      <td>124.7</td>\n",
       "      <td>270.8</td>\n",
       "      <td>-0.003991</td>\n",
       "    </tr>\n",
       "    <tr>\n",
       "      <td>76005</td>\n",
       "      <td>3.7</td>\n",
       "      <td>-0.262</td>\n",
       "      <td>(4, 2, 5)</td>\n",
       "      <td>-6.8</td>\n",
       "      <td>-60.4</td>\n",
       "      <td>46.7</td>\n",
       "      <td>107.1</td>\n",
       "      <td>-0.017160</td>\n",
       "    </tr>\n",
       "    <tr>\n",
       "      <td>76244</td>\n",
       "      <td>5.9</td>\n",
       "      <td>0.218</td>\n",
       "      <td>(4, 3, 5)</td>\n",
       "      <td>-16.5</td>\n",
       "      <td>-84.4</td>\n",
       "      <td>51.5</td>\n",
       "      <td>135.9</td>\n",
       "      <td>-0.020578</td>\n",
       "    </tr>\n",
       "  </tbody>\n",
       "</table>\n",
       "</div>"
      ],
      "text/plain": [
       "          MAPE (%)    R^2        pdq  ...  H 95 ROI (%)  95 CL Size (%)  inv_score\n",
       "Zip Code                              ...                                         \n",
       "76104         17.4 -2.435  (0, 2, 5)  ...          26.4            38.8   0.010369\n",
       "76092         14.0 -8.936  (5, 2, 5)  ...          25.7            46.9   0.003351\n",
       "76013          9.9 -0.489  (4, 3, 5)  ...         124.7           270.8  -0.003991\n",
       "76005          3.7 -0.262  (4, 2, 5)  ...          46.7           107.1  -0.017160\n",
       "76244          5.9  0.218  (4, 3, 5)  ...          51.5           135.9  -0.020578\n",
       "\n",
       "[5 rows x 8 columns]"
      ]
     },
     "metadata": {},
     "output_type": "display_data"
    }
   ],
   "source": [
    "df_pred_fc = df_preds_ranked.join(df_fcs_ranked, on='Zip Code')\n",
    "df_pred_fc['inv_score'] = df_pred_fc['Forecast ROI (%)'] / (df_pred_fc['MAPE (%)'] * df_pred_fc['95 CL Size (%)'])\n",
    "\n",
    "df_pred_fc.sort_values('inv_score', ascending=False, inplace=True)\n",
    "top_5_zips = df_pred_fc[:5]\n",
    "display(top_5_zips)\n",
    "\n",
    "worst_5_zips = df_pred_fc[-5:]\n",
    "display(worst_5_zips)"
   ]
  },
  {
   "cell_type": "code",
   "execution_count": 14,
   "metadata": {
    "ExecuteTime": {
     "end_time": "2020-01-13T20:05:07.073674Z",
     "start_time": "2020-01-13T20:05:03.921788Z"
    }
   },
   "outputs": [
    {
     "data": {
      "image/png": "[encoded data removed]",
      "text/plain": [
       "<Figure size 576x360 with 1 Axes>"
      ]
     },
     "metadata": {
      "needs_background": "light"
     },
     "output_type": "display_data"
    },
    {
     "data": {
      "image/png": "[encoded data removed]",
      "text/plain": [
       "<Figure size 576x360 with 1 Axes>"
      ]
     },
     "metadata": {
      "needs_background": "light"
     },
     "output_type": "display_data"
    },
    {
     "data": {
      "image/png": "[encoded data removed]",
      "text/plain": [
       "<Figure size 576x360 with 1 Axes>"
      ]
     },
     "metadata": {
      "needs_background": "light"
     },
     "output_type": "display_data"
    },
    {
     "data": {
      "image/png": "[encoded data removed]",
      "text/plain": [
       "<Figure size 576x360 with 1 Axes>"
      ]
     },
     "metadata": {
      "needs_background": "light"
     },
     "output_type": "display_data"
    },
    {
     "data": {
      "image/png": "[encoded data removed]",
      "text/plain": [
       "<Figure size 576x360 with 1 Axes>"
      ]
     },
     "metadata": {
      "needs_background": "light"
     },
     "output_type": "display_data"
    }
   ],
   "source": [
    "# Get the arima prediction graphs for the top 5 zip codes\n",
    "for i, row in top_5_zips.iterrows():\n",
    "    predict_arima(df=df_melted, zip_code=int(i), train_end='2015-04', test_begin='2015-05', test_end='2018-04', \n",
    "                  pdq=row['pdq'], plot=True)"
   ]
  },
  {
   "cell_type": "code",
   "execution_count": 15,
   "metadata": {
    "ExecuteTime": {
     "end_time": "2020-01-13T20:05:10.688473Z",
     "start_time": "2020-01-13T20:05:07.075670Z"
    }
   },
   "outputs": [
    {
     "data": {
      "image/png": "[encoded data removed]",
      "text/plain": [
       "<Figure size 576x360 with 1 Axes>"
      ]
     },
     "metadata": {
      "needs_background": "light"
     },
     "output_type": "display_data"
    },
    {
     "data": {
      "image/png": "[encoded data removed]",
      "text/plain": [
       "<Figure size 576x360 with 1 Axes>"
      ]
     },
     "metadata": {
      "needs_background": "light"
     },
     "output_type": "display_data"
    },
    {
     "data": {
      "image/png": "[encoded data removed]",
      "text/plain": [
       "<Figure size 576x360 with 1 Axes>"
      ]
     },
     "metadata": {
      "needs_background": "light"
     },
     "output_type": "display_data"
    },
    {
     "data": {
      "image/png": "[encoded data removed]",
      "text/plain": [
       "<Figure size 576x360 with 1 Axes>"
      ]
     },
     "metadata": {
      "needs_background": "light"
     },
     "output_type": "display_data"
    },
    {
     "data": {
      "image/png": "[encoded data removed]",
      "text/plain": [
       "<Figure size 576x360 with 1 Axes>"
      ]
     },
     "metadata": {
      "needs_background": "light"
     },
     "output_type": "display_data"
    }
   ],
   "source": [
    "# Get the 3 year arima forecasts for the top 5 zip codes\n",
    "for i, row in top_5_zips.iterrows():\n",
    "    forecast_arima(df=df_melted, zip_code=int(i), forecast_begin='2018-05', forecast_end='2021-04', \n",
    "                   pdq=row['pdq'], plot=True)"
   ]
  },
  {
   "cell_type": "code",
   "execution_count": 16,
   "metadata": {
    "ExecuteTime": {
     "end_time": "2020-01-13T20:05:14.227203Z",
     "start_time": "2020-01-13T20:05:10.689471Z"
    }
   },
   "outputs": [
    {
     "data": {
      "image/png": "[encoded data removed]",
      "text/plain": [
       "<Figure size 576x360 with 1 Axes>"
      ]
     },
     "metadata": {
      "needs_background": "light"
     },
     "output_type": "display_data"
    },
    {
     "data": {
      "image/png": "[encoded data removed]",
      "text/plain": [
       "<Figure size 576x360 with 1 Axes>"
      ]
     },
     "metadata": {
      "needs_background": "light"
     },
     "output_type": "display_data"
    },
    {
     "data": {
      "image/png": "[encoded data removed]",
      "text/plain": [
       "<Figure size 576x360 with 1 Axes>"
      ]
     },
     "metadata": {
      "needs_background": "light"
     },
     "output_type": "display_data"
    },
    {
     "data": {
      "image/png": "[encoded data removed]",
      "text/plain": [
       "<Figure size 576x360 with 1 Axes>"
      ]
     },
     "metadata": {
      "needs_background": "light"
     },
     "output_type": "display_data"
    },
    {
     "data": {
      "image/png": "[encoded data removed]",
      "text/plain": [
       "<Figure size 576x360 with 1 Axes>"
      ]
     },
     "metadata": {
      "needs_background": "light"
     },
     "output_type": "display_data"
    }
   ],
   "source": [
    "# Get the arima prediction graphs for the worst 5 zip codes\n",
    "for i, row in worst_5_zips.iterrows():\n",
    "    predict_arima(df=df_melted, zip_code=int(i), train_end='2015-04', test_begin='2015-05', test_end='2018-04', \n",
    "                  pdq=row['pdq'], plot=True)"
   ]
  },
  {
   "cell_type": "code",
   "execution_count": 17,
   "metadata": {
    "ExecuteTime": {
     "end_time": "2020-01-13T20:05:17.733187Z",
     "start_time": "2020-01-13T20:05:14.228165Z"
    }
   },
   "outputs": [
    {
     "data": {
      "image/png": "[encoded data removed]",
      "text/plain": [
       "<Figure size 576x360 with 1 Axes>"
      ]
     },
     "metadata": {
      "needs_background": "light"
     },
     "output_type": "display_data"
    },
    {
     "data": {
      "image/png": "[encoded data removed]",
      "text/plain": [
       "<Figure size 576x360 with 1 Axes>"
      ]
     },
     "metadata": {
      "needs_background": "light"
     },
     "output_type": "display_data"
    },
    {
     "data": {
      "image/png": "[encoded data removed]",
      "text/plain": [
       "<Figure size 576x360 with 1 Axes>"
      ]
     },
     "metadata": {
      "needs_background": "light"
     },
     "output_type": "display_data"
    },
    {
     "data": {
      "image/png": "[encoded data removed]",
      "text/plain": [
       "<Figure size 576x360 with 1 Axes>"
      ]
     },
     "metadata": {
      "needs_background": "light"
     },
     "output_type": "display_data"
    },
    {
     "data": {
      "image/png": "[encoded data removed]",
      "text/plain": [
       "<Figure size 576x360 with 1 Axes>"
      ]
     },
     "metadata": {
      "needs_background": "light"
     },
     "output_type": "display_data"
    }
   ],
   "source": [
    "# Get the 3 year arima forecasts for the top 5 zip codes\n",
    "for i, row in worst_5_zips.iterrows():\n",
    "    forecast_arima(df=df_melted, zip_code=int(i), forecast_begin='2018-05', forecast_end='2021-04', \n",
    "                   pdq=row['pdq'], plot=True)"
   ]
  },
  {
   "cell_type": "code",
   "execution_count": null,
   "metadata": {},
   "outputs": [],
   "source": []
  }
 ],
 "metadata": {
  "kernelspec": {
   "display_name": "learn-env",
   "language": "python",
   "name": "learn-env"
  },
  "language_info": {
   "codemirror_mode": {
    "name": "ipython",
    "version": 3
   },
   "file_extension": ".py",
   "mimetype": "text/x-python",
   "name": "python",
   "nbconvert_exporter": "python",
   "pygments_lexer": "ipython3",
   "version": "3.6.9"
  },
  "toc": {
   "base_numbering": 1,
   "nav_menu": {},
   "number_sections": true,
   "sideBar": true,
   "skip_h1_title": true,
   "title_cell": "Table of Contents",
   "title_sidebar": "Contents",
   "toc_cell": false,
   "toc_position": {},
   "toc_section_display": true,
   "toc_window_display": true
  },
  "varInspector": {
   "cols": {
    "lenName": 16,
    "lenType": 16,
    "lenVar": 40
   },
   "kernels_config": {
    "python": {
     "delete_cmd_postfix": "",
     "delete_cmd_prefix": "del ",
     "library": "var_list.py",
     "varRefreshCmd": "print(var_dic_list())"
    },
    "r": {
     "delete_cmd_postfix": ") ",
     "delete_cmd_prefix": "rm(",
     "library": "var_list.r",
     "varRefreshCmd": "cat(var_dic_list()) "
    }
   },
   "types_to_exclude": [
    "module",
    "function",
    "builtin_function_or_method",
    "instance",
    "_Feature"
   ],
   "window_display": false
  }
 },
 "nbformat": 4,
 "nbformat_minor": 2
}
