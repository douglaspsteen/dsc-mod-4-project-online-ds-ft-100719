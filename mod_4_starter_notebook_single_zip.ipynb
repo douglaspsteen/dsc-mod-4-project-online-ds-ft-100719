{
 "cells": [
  {
   "cell_type": "markdown",
   "metadata": {},
   "source": [
    "# Mod 4 Project - Starter Notebook\n",
    "\n",
    "This notebook has been provided to you so that you can make use of the following starter code to help with the trickier parts of preprocessing the Zillow dataset. \n",
    "\n",
    "The notebook contains a rough outline the general order you'll likely want to take in this project. You'll notice that most of the areas are left blank. This is so that it's more obvious exactly when you should make use of the starter code provided for preprocessing. \n",
    "\n",
    "**_NOTE:_** The number of empty cells are not meant to infer how much or how little code should be involved in any given step--we've just provided a few for your convenience. Add, delete, and change things around in this notebook as needed!\n",
    "\n",
    "# Some Notes Before Starting\n",
    "\n",
    "This project will be one of the more challenging projects you complete in this program. This is because working with Time Series data is a bit different than working with regular datasets. In order to make this a bit less frustrating and help you understand what you need to do (and when you need to do it), we'll quickly review the dataset formats that you'll encounter in this project. \n",
    "\n",
    "## Wide Format vs Long Format\n",
    "\n",
    "If you take a look at the format of the data in `zillow_data.csv`, you'll notice that the actual Time Series values are stored as separate columns. Here's a sample: \n",
    "\n",
    "<img src='~/../images/df_head.png'>\n",
    "\n",
    "You'll notice that the first seven columns look like any other dataset you're used to working with. However, column 8 refers to the median housing sales values for April 1996, column 9 for May 1996, and so on. This This is called **_Wide Format_**, and it makes the dataframe intuitive and easy to read. However, there are problems with this format when it comes to actually learning from the data, because the data only makes sense if you know the name of the column that the data can be found it. Since column names are metadata, our algorithms will miss out on what dates each value is for. This means that before we pass this data to our ARIMA model, we'll need to reshape our dataset to **_Long Format_**. Reshaped into long format, the dataframe above would now look like:\n",
    "\n",
    "<img src='~/../images/melted1.png'>\n",
    "\n",
    "There are now many more rows in this dataset--one for each unique time and zipcode combination in the data! Once our dataset is in this format, we'll be able to train an ARIMA model on it. The method used to convert from Wide to Long is `pd.melt()`, and it is common to refer to our dataset as 'melted' after the transition to denote that it is in long format. \n",
    "\n",
    "# Helper Functions Provided\n",
    "\n",
    "Melting a dataset can be tricky if you've never done it before, so you'll see that we have provided a sample function, `melt_data()`, to help you with this step below. Also provided is:\n",
    "\n",
    "* `get_datetimes()`, a function to deal with converting the column values for datetimes as a pandas series of datetime objects\n",
    "* Some good parameters for matplotlib to help make your visualizations more readable. \n",
    "\n",
    "Good luck!\n",
    "\n",
    "\n",
    "# Step 1: Load the Data/Filtering for Chosen Zipcodes"
   ]
  },
  {
   "cell_type": "code",
   "execution_count": 31,
   "metadata": {
    "ExecuteTime": {
     "end_time": "2020-01-13T16:47:09.543795Z",
     "start_time": "2020-01-13T16:47:09.532689Z"
    }
   },
   "outputs": [],
   "source": [
    "import warnings\n",
    "with warnings.catch_warnings():\n",
    "    warnings.filterwarnings(\"ignore\")\n",
    "import itertools\n",
    "import pandas as pd\n",
    "import numpy as np\n",
    "import statsmodels.api as sm\n",
    "import matplotlib.pyplot as plt\n",
    "from matplotlib.pylab import rcParams\n",
    "from statsmodels.tsa.stattools import adfuller\n",
    "\n",
    "plt.style.use('seaborn-darkgrid')\n",
    "%matplotlib inline"
   ]
  },
  {
   "cell_type": "code",
   "execution_count": 32,
   "metadata": {
    "ExecuteTime": {
     "end_time": "2020-01-13T16:47:09.954968Z",
     "start_time": "2020-01-13T16:47:09.544757Z"
    }
   },
   "outputs": [
    {
     "data": {
      "text/plain": [
       "14723"
      ]
     },
     "execution_count": 32,
     "metadata": {},
     "output_type": "execute_result"
    }
   ],
   "source": [
    "df = pd.read_csv('zillow_data.csv')\n",
    "len(df)"
   ]
  },
  {
   "cell_type": "code",
   "execution_count": 33,
   "metadata": {
    "ExecuteTime": {
     "end_time": "2020-01-13T16:47:09.961957Z",
     "start_time": "2020-01-13T16:47:09.956962Z"
    }
   },
   "outputs": [],
   "source": [
    "# Going to focus on 76001 (One of many Arlington TX Zips)\n",
    "zip_code = 76051\n",
    "df_zip = df.loc[df['RegionName'] == zip_code]\n",
    "\n",
    "# Subset data for zip codes in Erie County NY with full data (1996 - 2018) \n",
    "# df.loc[(df['CountyName'] == 'Erie') & (df['State'] == 'NY') & (df['1996-04'])]"
   ]
  },
  {
   "cell_type": "code",
   "execution_count": 34,
   "metadata": {
    "ExecuteTime": {
     "end_time": "2020-01-13T16:47:10.000823Z",
     "start_time": "2020-01-13T16:47:09.963460Z"
    },
    "scrolled": true
   },
   "outputs": [],
   "source": [
    "# df_Eden.drop(labels = ['RegionID', 'RegionName', 'City', 'State', 'Metro', 'CountyName', 'SizeRank'], axis=1, inplace=True)"
   ]
  },
  {
   "cell_type": "code",
   "execution_count": 35,
   "metadata": {
    "ExecuteTime": {
     "end_time": "2020-01-13T16:47:10.011373Z",
     "start_time": "2020-01-13T16:47:10.003395Z"
    },
    "scrolled": true
   },
   "outputs": [
    {
     "name": "stderr",
     "output_type": "stream",
     "text": [
      "C:\\Users\\dougl\\Anaconda3\\envs\\learn-env\\lib\\site-packages\\pandas\\core\\frame.py:4102: SettingWithCopyWarning: \n",
      "A value is trying to be set on a copy of a slice from a DataFrame\n",
      "\n",
      "See the caveats in the documentation: http://pandas.pydata.org/pandas-docs/stable/user_guide/indexing.html#returning-a-view-versus-a-copy\n",
      "  errors=errors,\n"
     ]
    }
   ],
   "source": [
    "df_zip.drop(['RegionID', 'SizeRank'], axis=1, inplace=True)"
   ]
  },
  {
   "cell_type": "markdown",
   "metadata": {},
   "source": [
    "# Step 2: Data Preprocessing"
   ]
  },
  {
   "cell_type": "code",
   "execution_count": 36,
   "metadata": {
    "ExecuteTime": {
     "end_time": "2020-01-13T16:47:10.021379Z",
     "start_time": "2020-01-13T16:47:10.012409Z"
    }
   },
   "outputs": [],
   "source": [
    "def melt_data(df):\n",
    "    melted = pd.melt(df, id_vars=['RegionName', 'City', 'State', 'Metro', 'CountyName'], var_name='time')\n",
    "    melted['time'] = pd.to_datetime(melted['time'], infer_datetime_format=True)\n",
    "    melted = melted.dropna(subset=['value'])\n",
    "    return melted.groupby('time').aggregate({'value':'mean'})"
   ]
  },
  {
   "cell_type": "code",
   "execution_count": 37,
   "metadata": {
    "ExecuteTime": {
     "end_time": "2020-01-13T16:47:10.048336Z",
     "start_time": "2020-01-13T16:47:10.022350Z"
    }
   },
   "outputs": [
    {
     "data": {
      "text/html": [
       "<div>\n",
       "<style scoped>\n",
       "    .dataframe tbody tr th:only-of-type {\n",
       "        vertical-align: middle;\n",
       "    }\n",
       "\n",
       "    .dataframe tbody tr th {\n",
       "        vertical-align: top;\n",
       "    }\n",
       "\n",
       "    .dataframe thead th {\n",
       "        text-align: right;\n",
       "    }\n",
       "</style>\n",
       "<table border=\"1\" class=\"dataframe\">\n",
       "  <thead>\n",
       "    <tr style=\"text-align: right;\">\n",
       "      <th></th>\n",
       "      <th>value</th>\n",
       "    </tr>\n",
       "    <tr>\n",
       "      <th>time</th>\n",
       "      <th></th>\n",
       "    </tr>\n",
       "  </thead>\n",
       "  <tbody>\n",
       "    <tr>\n",
       "      <td>1996-04-01</td>\n",
       "      <td>188200.0</td>\n",
       "    </tr>\n",
       "    <tr>\n",
       "      <td>1996-05-01</td>\n",
       "      <td>189100.0</td>\n",
       "    </tr>\n",
       "    <tr>\n",
       "      <td>1996-06-01</td>\n",
       "      <td>190000.0</td>\n",
       "    </tr>\n",
       "    <tr>\n",
       "      <td>1996-07-01</td>\n",
       "      <td>190900.0</td>\n",
       "    </tr>\n",
       "    <tr>\n",
       "      <td>1996-08-01</td>\n",
       "      <td>191800.0</td>\n",
       "    </tr>\n",
       "    <tr>\n",
       "      <td>...</td>\n",
       "      <td>...</td>\n",
       "    </tr>\n",
       "    <tr>\n",
       "      <td>2017-12-01</td>\n",
       "      <td>334900.0</td>\n",
       "    </tr>\n",
       "    <tr>\n",
       "      <td>2018-01-01</td>\n",
       "      <td>333900.0</td>\n",
       "    </tr>\n",
       "    <tr>\n",
       "      <td>2018-02-01</td>\n",
       "      <td>336500.0</td>\n",
       "    </tr>\n",
       "    <tr>\n",
       "      <td>2018-03-01</td>\n",
       "      <td>341400.0</td>\n",
       "    </tr>\n",
       "    <tr>\n",
       "      <td>2018-04-01</td>\n",
       "      <td>344400.0</td>\n",
       "    </tr>\n",
       "  </tbody>\n",
       "</table>\n",
       "<p>265 rows × 1 columns</p>\n",
       "</div>"
      ],
      "text/plain": [
       "               value\n",
       "time                \n",
       "1996-04-01  188200.0\n",
       "1996-05-01  189100.0\n",
       "1996-06-01  190000.0\n",
       "1996-07-01  190900.0\n",
       "1996-08-01  191800.0\n",
       "...              ...\n",
       "2017-12-01  334900.0\n",
       "2018-01-01  333900.0\n",
       "2018-02-01  336500.0\n",
       "2018-03-01  341400.0\n",
       "2018-04-01  344400.0\n",
       "\n",
       "[265 rows x 1 columns]"
      ]
     },
     "execution_count": 37,
     "metadata": {},
     "output_type": "execute_result"
    }
   ],
   "source": [
    "df_zip = melt_data(df_zip)\n",
    "df_zip"
   ]
  },
  {
   "cell_type": "code",
   "execution_count": 38,
   "metadata": {
    "ExecuteTime": {
     "end_time": "2020-01-13T16:47:10.054260Z",
     "start_time": "2020-01-13T16:47:10.051267Z"
    }
   },
   "outputs": [],
   "source": [
    "# def get_datetimes(df):\n",
    "#     return pd.to_datetime(df.columns.values[1:], format='%Y-%m')"
   ]
  },
  {
   "cell_type": "code",
   "execution_count": 39,
   "metadata": {
    "ExecuteTime": {
     "end_time": "2020-01-13T16:47:10.066227Z",
     "start_time": "2020-01-13T16:47:10.056253Z"
    }
   },
   "outputs": [],
   "source": [
    "ts_zip = df_zip\n",
    "\n",
    "ts_zip.index = pd.DatetimeIndex(ts_zip.index.values,\n",
    "                               freq='MS')\n",
    "\n",
    "# Create train and test set versions of one zip code time series\n",
    "ts_zip_train = ts_zip[:'2015-04']\n",
    "ts_zip_test = ts_zip['2015-05':]"
   ]
  },
  {
   "cell_type": "markdown",
   "metadata": {},
   "source": [
    "# Step 3: EDA and Visualization"
   ]
  },
  {
   "cell_type": "code",
   "execution_count": 40,
   "metadata": {
    "ExecuteTime": {
     "end_time": "2020-01-13T16:47:10.076233Z",
     "start_time": "2020-01-13T16:47:10.068221Z"
    }
   },
   "outputs": [],
   "source": [
    "# font = {'family' : 'normal',\n",
    "#         'weight' : 'bold',\n",
    "#         'size'   : 22}\n",
    "\n",
    "# matplotlib.rc('font', **font)\n",
    "\n",
    "# NOTE: if you visualizations are too cluttered to read, try calling 'plt.gcf().autofmt_xdate()'!"
   ]
  },
  {
   "cell_type": "code",
   "execution_count": 41,
   "metadata": {
    "ExecuteTime": {
     "end_time": "2020-01-13T16:47:10.215872Z",
     "start_time": "2020-01-13T16:47:10.077220Z"
    }
   },
   "outputs": [
    {
     "data": {
      "image/png": "[encoded data removed]",
      "text/plain": [
       "<Figure size 576x360 with 1 Axes>"
      ]
     },
     "metadata": {
      "needs_background": "light"
     },
     "output_type": "display_data"
    }
   ],
   "source": [
    "plt.figure(figsize=(8,5))\n",
    "plt.plot(ts_zip_train, label='Training series')\n",
    "plt.plot(ts_zip_test, label='Testing series')\n",
    "plt.title(f'Original Time Series for {zip_code}')\n",
    "plt.xlabel('Date')\n",
    "plt.ylabel('Mean Home Value ($)')\n",
    "plt.legend()\n",
    "plt.show();\n"
   ]
  },
  {
   "cell_type": "code",
   "execution_count": 42,
   "metadata": {
    "ExecuteTime": {
     "end_time": "2020-01-13T16:47:10.231829Z",
     "start_time": "2020-01-13T16:47:10.217823Z"
    }
   },
   "outputs": [
    {
     "data": {
      "text/html": [
       "<div>\n",
       "<style scoped>\n",
       "    .dataframe tbody tr th:only-of-type {\n",
       "        vertical-align: middle;\n",
       "    }\n",
       "\n",
       "    .dataframe tbody tr th {\n",
       "        vertical-align: top;\n",
       "    }\n",
       "\n",
       "    .dataframe thead th {\n",
       "        text-align: right;\n",
       "    }\n",
       "</style>\n",
       "<table border=\"1\" class=\"dataframe\">\n",
       "  <thead>\n",
       "    <tr style=\"text-align: right;\">\n",
       "      <th></th>\n",
       "      <th>value</th>\n",
       "    </tr>\n",
       "  </thead>\n",
       "  <tbody>\n",
       "    <tr>\n",
       "      <td>count</td>\n",
       "      <td>265.000000</td>\n",
       "    </tr>\n",
       "    <tr>\n",
       "      <td>mean</td>\n",
       "      <td>222885.660377</td>\n",
       "    </tr>\n",
       "    <tr>\n",
       "      <td>std</td>\n",
       "      <td>40749.098592</td>\n",
       "    </tr>\n",
       "    <tr>\n",
       "      <td>min</td>\n",
       "      <td>187800.000000</td>\n",
       "    </tr>\n",
       "    <tr>\n",
       "      <td>25%</td>\n",
       "      <td>190300.000000</td>\n",
       "    </tr>\n",
       "    <tr>\n",
       "      <td>50%</td>\n",
       "      <td>213000.000000</td>\n",
       "    </tr>\n",
       "    <tr>\n",
       "      <td>75%</td>\n",
       "      <td>232100.000000</td>\n",
       "    </tr>\n",
       "    <tr>\n",
       "      <td>max</td>\n",
       "      <td>344400.000000</td>\n",
       "    </tr>\n",
       "  </tbody>\n",
       "</table>\n",
       "</div>"
      ],
      "text/plain": [
       "               value\n",
       "count     265.000000\n",
       "mean   222885.660377\n",
       "std     40749.098592\n",
       "min    187800.000000\n",
       "25%    190300.000000\n",
       "50%    213000.000000\n",
       "75%    232100.000000\n",
       "max    344400.000000"
      ]
     },
     "execution_count": 42,
     "metadata": {},
     "output_type": "execute_result"
    }
   ],
   "source": [
    "ts_zip.value.isna().sum()\n",
    "ts_zip.describe()"
   ]
  },
  {
   "cell_type": "code",
   "execution_count": 43,
   "metadata": {
    "ExecuteTime": {
     "end_time": "2020-01-13T16:47:10.397388Z",
     "start_time": "2020-01-13T16:47:10.234782Z"
    }
   },
   "outputs": [
    {
     "data": {
      "text/plain": [
       "array([[<matplotlib.axes._subplots.AxesSubplot object at 0x0000024CFCCBD438>]],\n",
       "      dtype=object)"
      ]
     },
     "execution_count": 43,
     "metadata": {},
     "output_type": "execute_result"
    },
    {
     "data": {
      "image/png": "[encoded data removed]",
      "text/plain": [
       "<Figure size 432x288 with 1 Axes>"
      ]
     },
     "metadata": {
      "needs_background": "light"
     },
     "output_type": "display_data"
    }
   ],
   "source": [
    "ts_zip.hist()"
   ]
  },
  {
   "cell_type": "code",
   "execution_count": 44,
   "metadata": {
    "ExecuteTime": {
     "end_time": "2020-01-13T16:47:10.411303Z",
     "start_time": "2020-01-13T16:47:10.398381Z"
    }
   },
   "outputs": [],
   "source": [
    "zip_ad_test = adfuller(ts_zip.value)"
   ]
  },
  {
   "cell_type": "code",
   "execution_count": 45,
   "metadata": {
    "ExecuteTime": {
     "end_time": "2020-01-13T16:47:10.418285Z",
     "start_time": "2020-01-13T16:47:10.412300Z"
    }
   },
   "outputs": [
    {
     "data": {
      "text/plain": [
       "(3.1624856713570253,\n",
       " 1.0,\n",
       " 4,\n",
       " 260,\n",
       " {'1%': -3.4557539868570775,\n",
       "  '5%': -2.8727214497041422,\n",
       "  '10%': -2.572728476331361},\n",
       " 3680.635779212396)"
      ]
     },
     "execution_count": 45,
     "metadata": {},
     "output_type": "execute_result"
    }
   ],
   "source": [
    "zip_ad_test # ad fuller test not signficant, time series is NOT stationary"
   ]
  },
  {
   "cell_type": "markdown",
   "metadata": {},
   "source": [
    "# Step 4: Reshape from Wide to Long Format"
   ]
  },
  {
   "cell_type": "code",
   "execution_count": 46,
   "metadata": {
    "ExecuteTime": {
     "end_time": "2020-01-13T16:47:10.425276Z",
     "start_time": "2020-01-13T16:47:10.420279Z"
    }
   },
   "outputs": [],
   "source": [
    "# already did this part in preprocessing"
   ]
  },
  {
   "cell_type": "markdown",
   "metadata": {},
   "source": [
    "# Step 5: ARIMA Modeling"
   ]
  },
  {
   "cell_type": "code",
   "execution_count": 47,
   "metadata": {
    "ExecuteTime": {
     "end_time": "2020-01-13T16:47:10.436238Z",
     "start_time": "2020-01-13T16:47:10.427260Z"
    }
   },
   "outputs": [
    {
     "name": "stdout",
     "output_type": "stream",
     "text": [
      "[(0, 0, 0, 12), (0, 0, 1, 12), (0, 0, 2, 12), (0, 0, 3, 12), (0, 1, 0, 12), (0, 1, 1, 12), (0, 1, 2, 12), (0, 1, 3, 12), (0, 2, 0, 12), (0, 2, 1, 12), (0, 2, 2, 12), (0, 2, 3, 12), (0, 3, 0, 12), (0, 3, 1, 12), (0, 3, 2, 12), (0, 3, 3, 12), (1, 0, 0, 12), (1, 0, 1, 12), (1, 0, 2, 12), (1, 0, 3, 12), (1, 1, 0, 12), (1, 1, 1, 12), (1, 1, 2, 12), (1, 1, 3, 12), (1, 2, 0, 12), (1, 2, 1, 12), (1, 2, 2, 12), (1, 2, 3, 12), (1, 3, 0, 12), (1, 3, 1, 12), (1, 3, 2, 12), (1, 3, 3, 12), (2, 0, 0, 12), (2, 0, 1, 12), (2, 0, 2, 12), (2, 0, 3, 12), (2, 1, 0, 12), (2, 1, 1, 12), (2, 1, 2, 12), (2, 1, 3, 12), (2, 2, 0, 12), (2, 2, 1, 12), (2, 2, 2, 12), (2, 2, 3, 12), (2, 3, 0, 12), (2, 3, 1, 12), (2, 3, 2, 12), (2, 3, 3, 12), (3, 0, 0, 12), (3, 0, 1, 12), (3, 0, 2, 12), (3, 0, 3, 12), (3, 1, 0, 12), (3, 1, 1, 12), (3, 1, 2, 12), (3, 1, 3, 12), (3, 2, 0, 12), (3, 2, 1, 12), (3, 2, 2, 12), (3, 2, 3, 12), (3, 3, 0, 12), (3, 3, 1, 12), (3, 3, 2, 12), (3, 3, 3, 12)]\n"
     ]
    }
   ],
   "source": [
    "# Define the p, d and q parameters to take any value between 0 and 2\n",
    "p = d = q = range(0,4)\n",
    "\n",
    "# Generate all different combinations of p, q and q triplets\n",
    "pdq = list(itertools.product(p,d,q))\n",
    "\n",
    "# Generate all different combinations of seasonal p, q and q triplets (use 12 for frequency)\n",
    "pdqs = [(x[0], x[1], x[2], 12) for x in pdq]\n",
    "\n",
    "print(pdqs)"
   ]
  },
  {
   "cell_type": "code",
   "execution_count": 48,
   "metadata": {
    "ExecuteTime": {
     "end_time": "2020-01-13T16:47:16.040512Z",
     "start_time": "2020-01-13T16:47:10.438231Z"
    }
   },
   "outputs": [
    {
     "name": "stdout",
     "output_type": "stream",
     "text": [
      "[(0, 0, 0), 6237.468939741]\n",
      "[(0, 0, 1), 6046.840706885388]\n",
      "[(0, 0, 2), 14397.347842533098]\n",
      "[(0, 0, 3), 5946.293719717765]\n",
      "[(0, 1, 0), 3705.601163097786]\n",
      "[(0, 1, 1), 3445.5752581693837]\n",
      "[(0, 1, 2), 3278.213475293796]\n",
      "[(0, 1, 3), 3242.8361809645617]\n",
      "[(0, 2, 0), 3299.2834447208415]\n",
      "[(0, 2, 1), 3243.8867705612797]\n",
      "[(0, 2, 2), 3222.1856268347806]\n",
      "[(0, 2, 3), 3190.632477413584]\n",
      "[(0, 3, 0), 3367.365672875692]\n",
      "[(0, 3, 1), 3343.0693510110495]\n",
      "[(0, 3, 2), 3225.331663325217]\n",
      "[(0, 3, 3), 3213.929844382332]\n",
      "[(1, 0, 0), 3675.3208149322763]\n",
      "[(1, 0, 1), 3468.511210616007]\n",
      "[(1, 0, 2), 3366.6600927481372]\n",
      "[(1, 0, 3), 3368.129076342513]\n",
      "[(1, 1, 0), 3304.5811841681143]\n",
      "[(1, 1, 1), 3248.106905372162]\n",
      "[(1, 1, 2), 3220.7269320462683]\n",
      "[(1, 1, 3), 3194.9604204053057]\n",
      "[(1, 2, 0), 3282.7379087510444]\n",
      "[(1, 2, 1), 3236.9325660163604]\n",
      "[(1, 2, 2), 3224.0753173323765]\n",
      "[(1, 2, 3), 3188.880966387559]\n",
      "[(1, 3, 0), 3368.4695640760665]\n",
      "[(1, 3, 1), 3282.6119052851873]\n",
      "[(1, 3, 2), 3219.9454713249224]\n",
      "[(1, 3, 3), 3217.1745918897923]\n",
      "[(2, 0, 0), 3304.349648747404]\n",
      "[(2, 0, 1), 3332.110289709842]\n",
      "[(2, 0, 2), 3232.331077169355]\n",
      "[(2, 0, 3), 3218.7703685067554]\n",
      "[(2, 1, 0), 3265.2846775462176]"
     ]
    },
    {
     "name": "stderr",
     "output_type": "stream",
     "text": [
      "C:\\Users\\dougl\\Anaconda3\\envs\\learn-env\\lib\\site-packages\\statsmodels\\base\\model.py:512: ConvergenceWarning: Maximum Likelihood optimization failed to converge. Check mle_retvals\n",
      "  \"Check mle_retvals\", ConvergenceWarning)\n"
     ]
    },
    {
     "name": "stdout",
     "output_type": "stream",
     "text": [
      "\n",
      "[(2, 1, 1), 3234.501419726511]\n",
      "[(2, 1, 2), 3222.6050115345843]\n",
      "[(2, 1, 3), 3190.4201118815454]\n",
      "[(2, 2, 0), 3217.051822257891]\n",
      "[(2, 2, 1), 3218.932678716339]\n",
      "[(2, 2, 2), 3202.6108436844893]\n",
      "[(2, 2, 3), 3181.774550518467]\n",
      "[(2, 3, 0), 3264.159268288246]\n",
      "[(2, 3, 1), 3264.8689154791455]\n",
      "[(2, 3, 2), 3242.803742234194]\n",
      "[(2, 3, 3), 3222.1289458423153]\n",
      "[(3, 0, 0), 3262.4054210761233]\n",
      "[(3, 0, 1), 3235.1181655435594]\n",
      "[(3, 0, 2), 3234.4512222955723]\n"
     ]
    },
    {
     "name": "stderr",
     "output_type": "stream",
     "text": [
      "C:\\Users\\dougl\\Anaconda3\\envs\\learn-env\\lib\\site-packages\\statsmodels\\base\\model.py:512: ConvergenceWarning: Maximum Likelihood optimization failed to converge. Check mle_retvals\n",
      "  \"Check mle_retvals\", ConvergenceWarning)\n"
     ]
    },
    {
     "name": "stdout",
     "output_type": "stream",
     "text": [
      "[(3, 0, 3), 3220.046901851939]\n",
      "[(3, 1, 0), 3211.4008723323277]\n",
      "[(3, 1, 1), 3223.0738862721264]\n",
      "[(3, 1, 2), 3215.4316966195292]\n",
      "[(3, 1, 3), 3187.8402315454014]\n",
      "[(3, 2, 0), 3199.064104484428]\n",
      "[(3, 2, 1), 3203.9577862814285]\n"
     ]
    },
    {
     "name": "stderr",
     "output_type": "stream",
     "text": [
      "C:\\Users\\dougl\\Anaconda3\\envs\\learn-env\\lib\\site-packages\\statsmodels\\base\\model.py:512: ConvergenceWarning: Maximum Likelihood optimization failed to converge. Check mle_retvals\n",
      "  \"Check mle_retvals\", ConvergenceWarning)\n"
     ]
    },
    {
     "name": "stdout",
     "output_type": "stream",
     "text": [
      "[(3, 2, 2), 3212.600738729077]\n",
      "[(3, 2, 3), 3184.2821545952775]\n",
      "[(3, 3, 0), 3236.63964161967]\n",
      "[(3, 3, 1), 3238.499390017344]\n",
      "[(3, 3, 2), 3239.241518576918]\n",
      "[(3, 3, 3), 3206.1397953723344]\n"
     ]
    },
    {
     "name": "stderr",
     "output_type": "stream",
     "text": [
      "C:\\Users\\dougl\\Anaconda3\\envs\\learn-env\\lib\\site-packages\\statsmodels\\base\\model.py:512: ConvergenceWarning: Maximum Likelihood optimization failed to converge. Check mle_retvals\n",
      "  \"Check mle_retvals\", ConvergenceWarning)\n"
     ]
    }
   ],
   "source": [
    "# Run a grid with pdq and seasonal pdq parameters calculated above and get the best AIC value\n",
    "results = []\n",
    "\n",
    "# for i in pdq:\n",
    "#     for j in pdqs:\n",
    "#         model = sm.tsa.SARIMAX(ts_zip, order=i, seasonal_order=j, enforce_stationarity=False,\n",
    "#                                  enforce_invertibility=False)\n",
    "#         out = model.fit()\n",
    "#         aic = out.aic\n",
    "#         results.append([i, j, aic])\n",
    "#         print([i, j, aic])\n",
    "        \n",
    "for i in pdq:\n",
    "    model = sm.tsa.SARIMAX(ts_zip_train, order=i,enforce_stationarity=False,\n",
    "                                 enforce_invertibility=False)\n",
    "    out = model.fit()\n",
    "    aic = out.aic\n",
    "    results.append([i, aic])\n",
    "    print([i, aic])"
   ]
  },
  {
   "cell_type": "code",
   "execution_count": 49,
   "metadata": {
    "ExecuteTime": {
     "end_time": "2020-01-13T16:47:16.046513Z",
     "start_time": "2020-01-13T16:47:16.041540Z"
    }
   },
   "outputs": [
    {
     "name": "stdout",
     "output_type": "stream",
     "text": [
      "pdq    (2, 2, 3)\n",
      "aic      3181.77\n",
      "Name: 43, dtype: object\n"
     ]
    }
   ],
   "source": [
    "# Find the parameters with minimal AIC value.\n",
    "# results_df = pd.DataFrame(results, columns=['pdq', 'pdqs', 'aic'])\n",
    "# min_result = results_df.loc[results_df['aic'].idxmin()]\n",
    "# print(min_result)\n",
    "\n",
    "results_df = pd.DataFrame(results, columns=['pdq', 'aic'])\n",
    "min_result = results_df.loc[results_df['aic'].idxmin()]\n",
    "print(min_result)"
   ]
  },
  {
   "cell_type": "code",
   "execution_count": 50,
   "metadata": {
    "ExecuteTime": {
     "end_time": "2020-01-13T16:47:16.255779Z",
     "start_time": "2020-01-13T16:47:16.048491Z"
    }
   },
   "outputs": [
    {
     "data": {
      "text/html": [
       "<table class=\"simpletable\">\n",
       "<caption>Statespace Model Results</caption>\n",
       "<tr>\n",
       "  <th>Dep. Variable:</th>         <td>value</td>      <th>  No. Observations:  </th>    <td>229</td>   \n",
       "</tr>\n",
       "<tr>\n",
       "  <th>Model:</th>           <td>SARIMAX(2, 2, 3)</td> <th>  Log Likelihood     </th> <td>-1584.887</td>\n",
       "</tr>\n",
       "<tr>\n",
       "  <th>Date:</th>            <td>Mon, 13 Jan 2020</td> <th>  AIC                </th> <td>3181.775</td> \n",
       "</tr>\n",
       "<tr>\n",
       "  <th>Time:</th>                <td>10:47:16</td>     <th>  BIC                </th> <td>3202.218</td> \n",
       "</tr>\n",
       "<tr>\n",
       "  <th>Sample:</th>             <td>04-01-1996</td>    <th>  HQIC               </th> <td>3190.027</td> \n",
       "</tr>\n",
       "<tr>\n",
       "  <th></th>                   <td>- 04-01-2015</td>   <th>                     </th>     <td> </td>    \n",
       "</tr>\n",
       "<tr>\n",
       "  <th>Covariance Type:</th>        <td>opg</td>       <th>                     </th>     <td> </td>    \n",
       "</tr>\n",
       "</table>\n",
       "<table class=\"simpletable\">\n",
       "<tr>\n",
       "     <td></td>       <th>coef</th>     <th>std err</th>      <th>z</th>      <th>P>|z|</th>  <th>[0.025</th>    <th>0.975]</th>  \n",
       "</tr>\n",
       "<tr>\n",
       "  <th>ar.L1</th>  <td>   -0.3667</td> <td>    0.092</td> <td>   -3.973</td> <td> 0.000</td> <td>   -0.548</td> <td>   -0.186</td>\n",
       "</tr>\n",
       "<tr>\n",
       "  <th>ar.L2</th>  <td>   -0.2423</td> <td>    0.078</td> <td>   -3.087</td> <td> 0.002</td> <td>   -0.396</td> <td>   -0.088</td>\n",
       "</tr>\n",
       "<tr>\n",
       "  <th>ma.L1</th>  <td>    0.8940</td> <td>    0.099</td> <td>    9.044</td> <td> 0.000</td> <td>    0.700</td> <td>    1.088</td>\n",
       "</tr>\n",
       "<tr>\n",
       "  <th>ma.L2</th>  <td>    0.1767</td> <td>    0.114</td> <td>    1.555</td> <td> 0.120</td> <td>   -0.046</td> <td>    0.399</td>\n",
       "</tr>\n",
       "<tr>\n",
       "  <th>ma.L3</th>  <td>   -0.2767</td> <td>    0.064</td> <td>   -4.347</td> <td> 0.000</td> <td>   -0.401</td> <td>   -0.152</td>\n",
       "</tr>\n",
       "<tr>\n",
       "  <th>sigma2</th> <td> 8.664e+04</td> <td> 6846.254</td> <td>   12.655</td> <td> 0.000</td> <td> 7.32e+04</td> <td>    1e+05</td>\n",
       "</tr>\n",
       "</table>\n",
       "<table class=\"simpletable\">\n",
       "<tr>\n",
       "  <th>Ljung-Box (Q):</th>          <td>65.24</td> <th>  Jarque-Bera (JB):  </th> <td>19.78</td>\n",
       "</tr>\n",
       "<tr>\n",
       "  <th>Prob(Q):</th>                <td>0.01</td>  <th>  Prob(JB):          </th> <td>0.00</td> \n",
       "</tr>\n",
       "<tr>\n",
       "  <th>Heteroskedasticity (H):</th> <td>8.54</td>  <th>  Skew:              </th> <td>0.02</td> \n",
       "</tr>\n",
       "<tr>\n",
       "  <th>Prob(H) (two-sided):</th>    <td>0.00</td>  <th>  Kurtosis:          </th> <td>4.46</td> \n",
       "</tr>\n",
       "</table><br/><br/>Warnings:<br/>[1] Covariance matrix calculated using the outer product of gradients (complex-step)."
      ],
      "text/plain": [
       "<class 'statsmodels.iolib.summary.Summary'>\n",
       "\"\"\"\n",
       "                           Statespace Model Results                           \n",
       "==============================================================================\n",
       "Dep. Variable:                  value   No. Observations:                  229\n",
       "Model:               SARIMAX(2, 2, 3)   Log Likelihood               -1584.887\n",
       "Date:                Mon, 13 Jan 2020   AIC                           3181.775\n",
       "Time:                        10:47:16   BIC                           3202.218\n",
       "Sample:                    04-01-1996   HQIC                          3190.027\n",
       "                         - 04-01-2015                                         \n",
       "Covariance Type:                  opg                                         \n",
       "==============================================================================\n",
       "                 coef    std err          z      P>|z|      [0.025      0.975]\n",
       "------------------------------------------------------------------------------\n",
       "ar.L1         -0.3667      0.092     -3.973      0.000      -0.548      -0.186\n",
       "ar.L2         -0.2423      0.078     -3.087      0.002      -0.396      -0.088\n",
       "ma.L1          0.8940      0.099      9.044      0.000       0.700       1.088\n",
       "ma.L2          0.1767      0.114      1.555      0.120      -0.046       0.399\n",
       "ma.L3         -0.2767      0.064     -4.347      0.000      -0.401      -0.152\n",
       "sigma2      8.664e+04   6846.254     12.655      0.000    7.32e+04       1e+05\n",
       "===================================================================================\n",
       "Ljung-Box (Q):                       65.24   Jarque-Bera (JB):                19.78\n",
       "Prob(Q):                              0.01   Prob(JB):                         0.00\n",
       "Heteroskedasticity (H):               8.54   Skew:                             0.02\n",
       "Prob(H) (two-sided):                  0.00   Kurtosis:                         4.46\n",
       "===================================================================================\n",
       "\n",
       "Warnings:\n",
       "[1] Covariance matrix calculated using the outer product of gradients (complex-step).\n",
       "\"\"\""
      ]
     },
     "execution_count": 50,
     "metadata": {},
     "output_type": "execute_result"
    }
   ],
   "source": [
    "# best_model = sm.tsa.SARIMAX(ts_zip, order=min_result.pdq, seasonal_order=min_result.pdqs, enforce_stationarity=False,\n",
    "#                                  enforce_invertibility=False)\n",
    "\n",
    "best_model = sm.tsa.SARIMAX(ts_zip_train, order=min_result.pdq, enforce_stationarity=False,\n",
    "                                 enforce_invertibility=False)\n",
    "\n",
    "output = best_model.fit()\n",
    "output.summary()"
   ]
  },
  {
   "cell_type": "code",
   "execution_count": 51,
   "metadata": {
    "ExecuteTime": {
     "end_time": "2020-01-13T16:47:16.737496Z",
     "start_time": "2020-01-13T16:47:16.256776Z"
    }
   },
   "outputs": [
    {
     "data": {
      "image/png": "[encoded data removed]",
      "text/plain": [
       "<Figure size 1080x720 with 4 Axes>"
      ]
     },
     "metadata": {
      "needs_background": "light"
     },
     "output_type": "display_data"
    }
   ],
   "source": [
    "output.plot_diagnostics(figsize=(15,10));"
   ]
  },
  {
   "cell_type": "code",
   "execution_count": 52,
   "metadata": {
    "ExecuteTime": {
     "end_time": "2020-01-13T16:47:16.762317Z",
     "start_time": "2020-01-13T16:47:16.740488Z"
    }
   },
   "outputs": [],
   "source": [
    "# Forecast to end of 2021\n",
    "pred_test = output.get_prediction(start='2015-05', end='2018-04')\n",
    "pred_conf = pred_test.conf_int()"
   ]
  },
  {
   "cell_type": "code",
   "execution_count": 53,
   "metadata": {
    "ExecuteTime": {
     "end_time": "2020-01-13T16:47:16.917072Z",
     "start_time": "2020-01-13T16:47:16.765583Z"
    },
    "scrolled": false
   },
   "outputs": [
    {
     "data": {
      "image/png": "[encoded data removed]",
      "text/plain": [
       "<Figure size 432x288 with 1 Axes>"
      ]
     },
     "metadata": {
      "needs_background": "light"
     },
     "output_type": "display_data"
    }
   ],
   "source": [
    "# Plot future predictions with confidence intervals\n",
    "# fig = plt.figure(figsize=(15,6))\n",
    "\n",
    "#Plot observed values\n",
    "\n",
    "ax = ts_zip.plot(color='black')\n",
    "\n",
    "#Plot predicted values\n",
    "pred_test.predicted_mean.plot(ax=ax, label='Test Prediction', alpha=.9, color='red')\n",
    "\n",
    "#Plot the range for confidence intervals\n",
    "ax.fill_between(pred_conf.index,\n",
    "                pred_conf.iloc[:, 0],\n",
    "                pred_conf.iloc[:, 1], color='red', alpha=.1)\n",
    "\n",
    "#Set axes labels\n",
    "ax.set_xlabel('Date')\n",
    "ax.set_ylabel('Mean Home Value ($)')\n",
    "plt.legend(loc=2)\n",
    "plt.title(zip_code)\n",
    "\n",
    "plt.show();"
   ]
  },
  {
   "cell_type": "code",
   "execution_count": 54,
   "metadata": {
    "ExecuteTime": {
     "end_time": "2020-01-13T16:47:16.986904Z",
     "start_time": "2020-01-13T16:47:16.919036Z"
    }
   },
   "outputs": [],
   "source": [
    "# Forecast model\n",
    "fc_model = sm.tsa.SARIMAX(ts_zip, order=min_result.pdq, enforce_stationarity=False,\n",
    "                                 enforce_invertibility=False)\n",
    "\n",
    "fc_output = fc_model.fit()"
   ]
  },
  {
   "cell_type": "code",
   "execution_count": 55,
   "metadata": {
    "ExecuteTime": {
     "end_time": "2020-01-13T16:47:17.012785Z",
     "start_time": "2020-01-13T16:47:16.987853Z"
    }
   },
   "outputs": [],
   "source": [
    "forecast = fc_output.get_prediction(start='2018-05', end='2021-04')\n",
    "fc_conf = forecast.conf_int()"
   ]
  },
  {
   "cell_type": "code",
   "execution_count": 56,
   "metadata": {
    "ExecuteTime": {
     "end_time": "2020-01-13T16:47:17.197354Z",
     "start_time": "2020-01-13T16:47:17.013783Z"
    },
    "scrolled": true
   },
   "outputs": [
    {
     "data": {
      "text/plain": [
       "<Figure size 1080x432 with 0 Axes>"
      ]
     },
     "metadata": {},
     "output_type": "display_data"
    },
    {
     "data": {
      "image/png": "[encoded data removed]",
      "text/plain": [
       "<Figure size 432x288 with 1 Axes>"
      ]
     },
     "metadata": {
      "needs_background": "light"
     },
     "output_type": "display_data"
    }
   ],
   "source": [
    "# Plot 3-year forecast with confidence intervals\n",
    "fig = plt.figure(figsize=(15,6))\n",
    "\n",
    "#Plot observed values\n",
    "ax = ts_zip.plot(color='black')\n",
    "\n",
    "#Plot predicted values\n",
    "forecast.predicted_mean.plot(ax=ax, label='Forecast', alpha=.9, color='green')\n",
    "\n",
    "#Plot the range for confidence intervals\n",
    "ax.fill_between(fc_conf.index,\n",
    "                fc_conf.iloc[:, 0],\n",
    "                fc_conf.iloc[:, 1], color='green', alpha=.1)\n",
    "\n",
    "#Set axes labels\n",
    "ax.set_xlabel('Date')\n",
    "ax.set_ylabel('Mean Home Value ($)')\n",
    "plt.legend(loc=4)\n",
    "plt.title(zip_code)\n",
    "\n",
    "plt.show()"
   ]
  },
  {
   "cell_type": "code",
   "execution_count": 57,
   "metadata": {
    "ExecuteTime": {
     "end_time": "2020-01-13T16:47:17.214278Z",
     "start_time": "2020-01-13T16:47:17.198332Z"
    },
    "scrolled": true
   },
   "outputs": [
    {
     "data": {
      "text/html": [
       "<div>\n",
       "<style scoped>\n",
       "    .dataframe tbody tr th:only-of-type {\n",
       "        vertical-align: middle;\n",
       "    }\n",
       "\n",
       "    .dataframe tbody tr th {\n",
       "        vertical-align: top;\n",
       "    }\n",
       "\n",
       "    .dataframe thead th {\n",
       "        text-align: right;\n",
       "    }\n",
       "</style>\n",
       "<table border=\"1\" class=\"dataframe\">\n",
       "  <thead>\n",
       "    <tr style=\"text-align: right;\">\n",
       "      <th></th>\n",
       "      <th>Zip Code</th>\n",
       "      <th>Forecast ROI (%)</th>\n",
       "      <th>L 95 ROI (%)</th>\n",
       "      <th>H 95 ROI (%)</th>\n",
       "      <th>95 CL Size (%)</th>\n",
       "    </tr>\n",
       "  </thead>\n",
       "  <tbody>\n",
       "    <tr>\n",
       "      <td>0</td>\n",
       "      <td>76051</td>\n",
       "      <td>21.7</td>\n",
       "      <td>-6.7</td>\n",
       "      <td>50.2</td>\n",
       "      <td>56.9</td>\n",
       "    </tr>\n",
       "  </tbody>\n",
       "</table>\n",
       "</div>"
      ],
      "text/plain": [
       "  Zip Code  Forecast ROI (%)  L 95 ROI (%)  H 95 ROI (%)  95 CL Size (%)\n",
       "0    76051              21.7          -6.7          50.2            56.9"
      ]
     },
     "execution_count": 57,
     "metadata": {},
     "output_type": "execute_result"
    }
   ],
   "source": [
    "# Calculate 3 year ROI for the forecast\n",
    "\n",
    "# Initial value\n",
    "init_val = ts_zip.value[-1]\n",
    "\n",
    "# Final forecasted value after 3 year forecast\n",
    "f_val = forecast.predicted_mean[-1]\n",
    "\n",
    "ROI = round((f_val - init_val) / init_val, 3)\n",
    "\n",
    "# Calculate lower & upper 95% confidence ROI values\n",
    "\n",
    "# lower bound\n",
    "l_f_val = fc_conf['lower value'][-1]\n",
    "\n",
    "low_ROI = round((l_f_val - init_val) / init_val, 3)\n",
    "\n",
    "# upper bound\n",
    "u_f_val = fc_conf['upper value'][-1]\n",
    "\n",
    "high_ROI = round((u_f_val - init_val) / init_val, 3)\n",
    "\n",
    "# Size of 95% CL\n",
    "\n",
    "size_cl = high_ROI - low_ROI\n",
    "\n",
    "ROI_summary = pd.DataFrame(columns = ['Zip Code', 'Forecast ROI (%)', 'L 95 ROI (%)', 'H 95 ROI (%)', '95 CL Size (%)'])\n",
    "\n",
    "ROI_summary = ROI_summary.append({'Zip Code': str(zip_code), 'Forecast ROI (%)': ROI*100, 'L 95 ROI (%)': low_ROI*100, \n",
    "                                  'H 95 ROI (%)': high_ROI*100, '95 CL Size (%)': size_cl*100}, ignore_index=True)\n",
    "\n",
    "ROI_summary"
   ]
  },
  {
   "cell_type": "code",
   "execution_count": 58,
   "metadata": {
    "ExecuteTime": {
     "end_time": "2020-01-13T16:47:17.231273Z",
     "start_time": "2020-01-13T16:47:17.215276Z"
    }
   },
   "outputs": [
    {
     "data": {
      "text/html": [
       "<div>\n",
       "<style scoped>\n",
       "    .dataframe tbody tr th:only-of-type {\n",
       "        vertical-align: middle;\n",
       "    }\n",
       "\n",
       "    .dataframe tbody tr th {\n",
       "        vertical-align: top;\n",
       "    }\n",
       "\n",
       "    .dataframe thead th {\n",
       "        text-align: right;\n",
       "    }\n",
       "</style>\n",
       "<table border=\"1\" class=\"dataframe\">\n",
       "  <thead>\n",
       "    <tr style=\"text-align: right;\">\n",
       "      <th></th>\n",
       "      <th>Zip Code</th>\n",
       "      <th>MAPE (%)</th>\n",
       "      <th>R^2</th>\n",
       "    </tr>\n",
       "  </thead>\n",
       "  <tbody>\n",
       "    <tr>\n",
       "      <td>0</td>\n",
       "      <td>76051</td>\n",
       "      <td>8.0</td>\n",
       "      <td>-0.66</td>\n",
       "    </tr>\n",
       "  </tbody>\n",
       "</table>\n",
       "</div>"
      ],
      "text/plain": [
       "  Zip Code  MAPE (%)   R^2\n",
       "0    76051       8.0 -0.66"
      ]
     },
     "execution_count": 58,
     "metadata": {},
     "output_type": "execute_result"
    }
   ],
   "source": [
    "# Model prediction performance on test data\n",
    "y_hat_test = pred_test.predicted_mean.values\n",
    "\n",
    "y_test = ts_zip_test.values.ravel()\n",
    "\n",
    "# MAPE : Mean Absolute Percentage Error\n",
    "mape = round(np.sum(abs((np.subtract(y_test, y_hat_test) / y_test))) / len(y_test), 3)\n",
    "\n",
    "# R^2 Score\n",
    "from sklearn.metrics import r2_score\n",
    "\n",
    "r2 = round(r2_score(y_test, y_hat_test), 3)\n",
    "\n",
    "model_val_summary = pd.DataFrame(columns = ['Zip Code', 'MAPE (%)', 'R^2'])\n",
    "\n",
    "model_val_summary = model_val_summary.append({'Zip Code': str(zip_code), 'MAPE (%)': mape*100, 'R^2': r2}, ignore_index=True)\n",
    "\n",
    "model_val_summary"
   ]
  },
  {
   "cell_type": "markdown",
   "metadata": {},
   "source": [
    "# Step 6: Interpreting Results"
   ]
  },
  {
   "cell_type": "code",
   "execution_count": 59,
   "metadata": {
    "ExecuteTime": {
     "end_time": "2020-01-13T16:47:17.240209Z",
     "start_time": "2020-01-13T16:47:17.232230Z"
    }
   },
   "outputs": [],
   "source": [
    "# Calcu"
   ]
  },
  {
   "cell_type": "code",
   "execution_count": null,
   "metadata": {},
   "outputs": [],
   "source": []
  },
  {
   "cell_type": "code",
   "execution_count": null,
   "metadata": {},
   "outputs": [],
   "source": []
  }
 ],
 "metadata": {
  "kernelspec": {
   "display_name": "learn-env",
   "language": "python",
   "name": "learn-env"
  },
  "language_info": {
   "codemirror_mode": {
    "name": "ipython",
    "version": 3
   },
   "file_extension": ".py",
   "mimetype": "text/x-python",
   "name": "python",
   "nbconvert_exporter": "python",
   "pygments_lexer": "ipython3",
   "version": "3.6.9"
  },
  "toc": {
   "base_numbering": 1,
   "nav_menu": {},
   "number_sections": true,
   "sideBar": true,
   "skip_h1_title": false,
   "title_cell": "Table of Contents",
   "title_sidebar": "Contents",
   "toc_cell": false,
   "toc_position": {},
   "toc_section_display": true,
   "toc_window_display": true
  },
  "varInspector": {
   "cols": {
    "lenName": 16,
    "lenType": 16,
    "lenVar": 40
   },
   "kernels_config": {
    "python": {
     "delete_cmd_postfix": "",
     "delete_cmd_prefix": "del ",
     "library": "var_list.py",
     "varRefreshCmd": "print(var_dic_list())"
    },
    "r": {
     "delete_cmd_postfix": ") ",
     "delete_cmd_prefix": "rm(",
     "library": "var_list.r",
     "varRefreshCmd": "cat(var_dic_list()) "
    }
   },
   "types_to_exclude": [
    "module",
    "function",
    "builtin_function_or_method",
    "instance",
    "_Feature"
   ],
   "window_display": false
  }
 },
 "nbformat": 4,
 "nbformat_minor": 2
}
